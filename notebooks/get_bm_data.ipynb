{
 "cells": [
  {
   "cell_type": "code",
   "execution_count": 1,
   "metadata": {},
   "outputs": [],
   "source": [
    "import sys\n",
    "import urllib\n",
    "import requests\n",
    "import numpy as np\n",
    "import pandas as pd\n",
    "from io import StringIO\n",
    "from pandas import json_normalize\n",
    "\n",
    "from pathlib import Path\n",
    "\n",
    "sys.path.append(str(Path.cwd().parent / 'scripts'))\n",
    "\n",
    "from _helpers import to_date_period, to_datetime\n",
    "from _elexon_helpers import robust_request\n",
    "from build_base import get_bids, get_offers, get_volumes, get_trades\n",
    "# from build_base import build_physical_notifications_period\n",
    "\n",
    "date = '2024-03-23'"
   ]
  },
  {
   "cell_type": "code",
   "execution_count": 2,
   "metadata": {},
   "outputs": [
    {
     "name": "stderr",
     "output_type": "stream",
     "text": [
      "  0%|          | 0/48 [00:00<?, ?it/s]"
     ]
    },
    {
     "name": "stdout",
     "output_type": "stream",
     "text": [
      "getting volumes for 2024-03-23 1\n",
      "getting trades for 2024-03-23 1\n",
      "Building bids for 2024-03-23 1\n"
     ]
    },
    {
     "name": "stderr",
     "output_type": "stream",
     "text": [
      "  2%|▏         | 1/48 [00:02<02:15,  2.88s/it]"
     ]
    },
    {
     "name": "stdout",
     "output_type": "stream",
     "text": [
      "Building offers for 2024-03-23 1\n",
      "getting volumes for 2024-03-23 2\n",
      "getting trades for 2024-03-23 2\n",
      "Building bids for 2024-03-23 2\n",
      "Building offers for 2024-03-23 2\n"
     ]
    },
    {
     "name": "stderr",
     "output_type": "stream",
     "text": [
      "  4%|▍         | 2/48 [00:05<02:00,  2.62s/it]"
     ]
    },
    {
     "name": "stdout",
     "output_type": "stream",
     "text": [
      "getting volumes for 2024-03-23 3\n",
      "getting trades for 2024-03-23 3\n",
      "Building bids for 2024-03-23 3\n",
      "Building offers for 2024-03-23 3\n"
     ]
    },
    {
     "name": "stderr",
     "output_type": "stream",
     "text": [
      "  6%|▋         | 3/48 [00:07<01:56,  2.58s/it]"
     ]
    },
    {
     "name": "stdout",
     "output_type": "stream",
     "text": [
      "getting volumes for 2024-03-23 4\n",
      "getting trades for 2024-03-23 4\n",
      "Building bids for 2024-03-23 4\n"
     ]
    },
    {
     "name": "stderr",
     "output_type": "stream",
     "text": [
      "  8%|▊         | 4/48 [00:10<01:50,  2.52s/it]"
     ]
    },
    {
     "name": "stdout",
     "output_type": "stream",
     "text": [
      "Building offers for 2024-03-23 4\n",
      "getting volumes for 2024-03-23 5\n",
      "getting trades for 2024-03-23 5\n",
      "Building bids for 2024-03-23 5\n",
      "Building offers for 2024-03-23 5\n"
     ]
    },
    {
     "name": "stderr",
     "output_type": "stream",
     "text": [
      " 10%|█         | 5/48 [00:12<01:45,  2.44s/it]"
     ]
    },
    {
     "name": "stdout",
     "output_type": "stream",
     "text": [
      "getting volumes for 2024-03-23 6\n",
      "getting trades for 2024-03-23 6\n",
      "Building bids for 2024-03-23 6\n",
      "Building offers for 2024-03-23 6\n"
     ]
    },
    {
     "name": "stderr",
     "output_type": "stream",
     "text": [
      " 12%|█▎        | 6/48 [00:15<01:49,  2.62s/it]"
     ]
    },
    {
     "name": "stdout",
     "output_type": "stream",
     "text": [
      "getting volumes for 2024-03-23 7\n",
      "getting trades for 2024-03-23 7\n",
      "Building bids for 2024-03-23 7\n",
      "Building offers for 2024-03-23 7\n"
     ]
    },
    {
     "name": "stderr",
     "output_type": "stream",
     "text": [
      " 15%|█▍        | 7/48 [00:17<01:43,  2.53s/it]"
     ]
    },
    {
     "name": "stdout",
     "output_type": "stream",
     "text": [
      "getting volumes for 2024-03-23 8\n",
      "getting trades for 2024-03-23 8\n",
      "Building bids for 2024-03-23 8\n",
      "Building offers for 2024-03-23 8\n"
     ]
    },
    {
     "name": "stderr",
     "output_type": "stream",
     "text": [
      " 17%|█▋        | 8/48 [00:20<01:41,  2.54s/it]"
     ]
    },
    {
     "name": "stdout",
     "output_type": "stream",
     "text": [
      "getting volumes for 2024-03-23 9\n",
      "getting trades for 2024-03-23 9\n",
      "Building bids for 2024-03-23 9\n",
      "Building offers for 2024-03-23 9\n"
     ]
    },
    {
     "name": "stderr",
     "output_type": "stream",
     "text": [
      " 19%|█▉        | 9/48 [00:22<01:38,  2.53s/it]"
     ]
    },
    {
     "name": "stdout",
     "output_type": "stream",
     "text": [
      "getting volumes for 2024-03-23 10\n",
      "getting trades for 2024-03-23 10\n",
      "Building bids for 2024-03-23 10\n",
      "Building offers for 2024-03-23 10\n"
     ]
    },
    {
     "name": "stderr",
     "output_type": "stream",
     "text": [
      " 21%|██        | 10/48 [00:25<01:36,  2.55s/it]"
     ]
    },
    {
     "name": "stdout",
     "output_type": "stream",
     "text": [
      "getting volumes for 2024-03-23 11\n",
      "getting trades for 2024-03-23 11\n",
      "Building bids for 2024-03-23 11\n",
      "Building offers for 2024-03-23 11\n"
     ]
    },
    {
     "name": "stderr",
     "output_type": "stream",
     "text": [
      " 23%|██▎       | 11/48 [00:28<01:33,  2.53s/it]"
     ]
    },
    {
     "name": "stdout",
     "output_type": "stream",
     "text": [
      "getting volumes for 2024-03-23 12\n",
      "getting trades for 2024-03-23 12\n",
      "Building bids for 2024-03-23 12\n",
      "Building offers for 2024-03-23 12\n"
     ]
    },
    {
     "name": "stderr",
     "output_type": "stream",
     "text": [
      " 25%|██▌       | 12/48 [00:30<01:29,  2.50s/it]"
     ]
    },
    {
     "name": "stdout",
     "output_type": "stream",
     "text": [
      "getting volumes for 2024-03-23 13\n",
      "getting trades for 2024-03-23 13\n",
      "Building bids for 2024-03-23 13\n",
      "Building offers for 2024-03-23 13\n"
     ]
    },
    {
     "name": "stderr",
     "output_type": "stream",
     "text": [
      " 27%|██▋       | 13/48 [00:32<01:25,  2.45s/it]"
     ]
    },
    {
     "name": "stdout",
     "output_type": "stream",
     "text": [
      "getting volumes for 2024-03-23 14\n",
      "getting trades for 2024-03-23 14\n",
      "Building bids for 2024-03-23 14\n",
      "Building offers for 2024-03-23 14\n"
     ]
    },
    {
     "name": "stderr",
     "output_type": "stream",
     "text": [
      " 29%|██▉       | 14/48 [00:35<01:21,  2.40s/it]"
     ]
    },
    {
     "name": "stdout",
     "output_type": "stream",
     "text": [
      "getting volumes for 2024-03-23 15\n",
      "getting trades for 2024-03-23 15\n",
      "Building bids for 2024-03-23 15\n",
      "Building offers for 2024-03-23 15\n"
     ]
    },
    {
     "name": "stderr",
     "output_type": "stream",
     "text": [
      " 31%|███▏      | 15/48 [00:37<01:18,  2.38s/it]"
     ]
    },
    {
     "name": "stdout",
     "output_type": "stream",
     "text": [
      "getting volumes for 2024-03-23 16\n",
      "getting trades for 2024-03-23 16\n",
      "Building bids for 2024-03-23 16\n"
     ]
    },
    {
     "name": "stderr",
     "output_type": "stream",
     "text": [
      " 33%|███▎      | 16/48 [00:40<01:18,  2.45s/it]"
     ]
    },
    {
     "name": "stdout",
     "output_type": "stream",
     "text": [
      "Building offers for 2024-03-23 16\n",
      "getting volumes for 2024-03-23 17\n",
      "getting trades for 2024-03-23 17\n",
      "Building bids for 2024-03-23 17\n",
      "Building offers for 2024-03-23 17\n"
     ]
    },
    {
     "name": "stderr",
     "output_type": "stream",
     "text": [
      " 35%|███▌      | 17/48 [00:42<01:18,  2.54s/it]"
     ]
    },
    {
     "name": "stdout",
     "output_type": "stream",
     "text": [
      "getting volumes for 2024-03-23 18\n",
      "getting trades for 2024-03-23 18\n",
      "Building bids for 2024-03-23 18\n",
      "Building offers for 2024-03-23 18\n"
     ]
    },
    {
     "name": "stderr",
     "output_type": "stream",
     "text": [
      " 38%|███▊      | 18/48 [00:45<01:17,  2.59s/it]"
     ]
    },
    {
     "name": "stdout",
     "output_type": "stream",
     "text": [
      "getting volumes for 2024-03-23 19\n",
      "getting trades for 2024-03-23 19\n",
      "Building bids for 2024-03-23 19\n",
      "Building offers for 2024-03-23 19\n"
     ]
    },
    {
     "name": "stderr",
     "output_type": "stream",
     "text": [
      " 40%|███▉      | 19/48 [00:48<01:15,  2.60s/it]"
     ]
    },
    {
     "name": "stdout",
     "output_type": "stream",
     "text": [
      "getting volumes for 2024-03-23 20\n",
      "getting trades for 2024-03-23 20\n",
      "Building bids for 2024-03-23 20\n",
      "Building offers for 2024-03-23 20\n"
     ]
    },
    {
     "name": "stderr",
     "output_type": "stream",
     "text": [
      " 42%|████▏     | 20/48 [00:50<01:12,  2.57s/it]"
     ]
    },
    {
     "name": "stdout",
     "output_type": "stream",
     "text": [
      "getting volumes for 2024-03-23 21\n",
      "getting trades for 2024-03-23 21\n"
     ]
    },
    {
     "name": "stderr",
     "output_type": "stream",
     "text": [
      " 44%|████▍     | 21/48 [00:52<01:05,  2.42s/it]"
     ]
    },
    {
     "name": "stdout",
     "output_type": "stream",
     "text": [
      "Building bids for 2024-03-23 21\n",
      "Building offers for 2024-03-23 21\n",
      "getting volumes for 2024-03-23 22\n",
      "getting trades for 2024-03-23 22\n"
     ]
    },
    {
     "name": "stderr",
     "output_type": "stream",
     "text": [
      " 46%|████▌     | 22/48 [00:54<00:59,  2.27s/it]"
     ]
    },
    {
     "name": "stdout",
     "output_type": "stream",
     "text": [
      "Building bids for 2024-03-23 22\n",
      "Building offers for 2024-03-23 22\n",
      "getting volumes for 2024-03-23 23\n",
      "getting trades for 2024-03-23 23\n",
      "Building bids for 2024-03-23 23\n",
      "Building offers for 2024-03-23 23\n"
     ]
    },
    {
     "name": "stderr",
     "output_type": "stream",
     "text": [
      " 48%|████▊     | 23/48 [00:56<00:55,  2.21s/it]"
     ]
    },
    {
     "name": "stdout",
     "output_type": "stream",
     "text": [
      "getting volumes for 2024-03-23 24\n",
      "getting trades for 2024-03-23 24\n",
      "Building bids for 2024-03-23 24\n",
      "Building offers for 2024-03-23 24\n"
     ]
    },
    {
     "name": "stderr",
     "output_type": "stream",
     "text": [
      " 50%|█████     | 24/48 [00:58<00:52,  2.20s/it]"
     ]
    },
    {
     "name": "stdout",
     "output_type": "stream",
     "text": [
      "getting volumes for 2024-03-23 25\n",
      "getting trades for 2024-03-23 25\n"
     ]
    },
    {
     "name": "stderr",
     "output_type": "stream",
     "text": [
      " 52%|█████▏    | 25/48 [01:00<00:49,  2.17s/it]"
     ]
    },
    {
     "name": "stdout",
     "output_type": "stream",
     "text": [
      "Building bids for 2024-03-23 25\n",
      "Building offers for 2024-03-23 25\n",
      "getting volumes for 2024-03-23 26\n",
      "getting trades for 2024-03-23 26\n",
      "Building bids for 2024-03-23 26\n",
      "Building offers for 2024-03-23 26\n"
     ]
    },
    {
     "name": "stderr",
     "output_type": "stream",
     "text": [
      " 54%|█████▍    | 26/48 [01:03<00:47,  2.15s/it]"
     ]
    },
    {
     "name": "stdout",
     "output_type": "stream",
     "text": [
      "getting volumes for 2024-03-23 27\n",
      "getting trades for 2024-03-23 27\n",
      "Building bids for 2024-03-23 27\n",
      "Building offers for 2024-03-23 27\n"
     ]
    },
    {
     "name": "stderr",
     "output_type": "stream",
     "text": [
      " 56%|█████▋    | 27/48 [01:05<00:45,  2.17s/it]"
     ]
    },
    {
     "name": "stdout",
     "output_type": "stream",
     "text": [
      "getting volumes for 2024-03-23 28\n",
      "getting trades for 2024-03-23 28\n"
     ]
    },
    {
     "name": "stderr",
     "output_type": "stream",
     "text": [
      " 58%|█████▊    | 28/48 [01:08<00:49,  2.47s/it]"
     ]
    },
    {
     "name": "stdout",
     "output_type": "stream",
     "text": [
      "Building bids for 2024-03-23 28\n",
      "Building offers for 2024-03-23 28\n",
      "getting volumes for 2024-03-23 29\n",
      "getting trades for 2024-03-23 29\n"
     ]
    },
    {
     "name": "stderr",
     "output_type": "stream",
     "text": [
      " 60%|██████    | 29/48 [01:10<00:45,  2.41s/it]"
     ]
    },
    {
     "name": "stdout",
     "output_type": "stream",
     "text": [
      "Building bids for 2024-03-23 29\n",
      "Building offers for 2024-03-23 29\n",
      "getting volumes for 2024-03-23 30\n",
      "getting trades for 2024-03-23 30\n"
     ]
    },
    {
     "name": "stderr",
     "output_type": "stream",
     "text": [
      " 62%|██████▎   | 30/48 [01:13<00:46,  2.56s/it]"
     ]
    },
    {
     "name": "stdout",
     "output_type": "stream",
     "text": [
      "Building bids for 2024-03-23 30\n",
      "Building offers for 2024-03-23 30\n",
      "getting volumes for 2024-03-23 31\n",
      "getting trades for 2024-03-23 31\n"
     ]
    },
    {
     "name": "stderr",
     "output_type": "stream",
     "text": [
      " 65%|██████▍   | 31/48 [01:15<00:42,  2.47s/it]"
     ]
    },
    {
     "name": "stdout",
     "output_type": "stream",
     "text": [
      "Building bids for 2024-03-23 31\n",
      "Building offers for 2024-03-23 31\n",
      "getting volumes for 2024-03-23 32\n",
      "getting trades for 2024-03-23 32\n",
      "Building bids for 2024-03-23 32\n",
      "Building offers for 2024-03-23 32\n"
     ]
    },
    {
     "name": "stderr",
     "output_type": "stream",
     "text": [
      " 67%|██████▋   | 32/48 [01:18<00:38,  2.41s/it]"
     ]
    },
    {
     "name": "stdout",
     "output_type": "stream",
     "text": [
      "getting volumes for 2024-03-23 33\n",
      "getting trades for 2024-03-23 33\n",
      "Building bids for 2024-03-23 33\n",
      "Building offers for 2024-03-23 33\n"
     ]
    },
    {
     "name": "stderr",
     "output_type": "stream",
     "text": [
      " 69%|██████▉   | 33/48 [01:20<00:35,  2.36s/it]"
     ]
    },
    {
     "name": "stdout",
     "output_type": "stream",
     "text": [
      "getting volumes for 2024-03-23 34\n",
      "getting trades for 2024-03-23 34\n",
      "Building bids for 2024-03-23 34\n",
      "Building offers for 2024-03-23 34\n"
     ]
    },
    {
     "name": "stderr",
     "output_type": "stream",
     "text": [
      " 71%|███████   | 34/48 [01:23<00:35,  2.52s/it]"
     ]
    },
    {
     "name": "stdout",
     "output_type": "stream",
     "text": [
      "getting volumes for 2024-03-23 35\n",
      "getting trades for 2024-03-23 35\n",
      "Building bids for 2024-03-23 35\n",
      "Building offers for 2024-03-23 35\n"
     ]
    },
    {
     "name": "stderr",
     "output_type": "stream",
     "text": [
      " 73%|███████▎  | 35/48 [01:26<00:33,  2.57s/it]"
     ]
    },
    {
     "name": "stdout",
     "output_type": "stream",
     "text": [
      "getting volumes for 2024-03-23 36\n",
      "getting trades for 2024-03-23 36\n",
      "Building bids for 2024-03-23 36\n",
      "Building offers for 2024-03-23 36\n"
     ]
    },
    {
     "name": "stderr",
     "output_type": "stream",
     "text": [
      " 75%|███████▌  | 36/48 [01:28<00:31,  2.61s/it]"
     ]
    },
    {
     "name": "stdout",
     "output_type": "stream",
     "text": [
      "getting volumes for 2024-03-23 37\n",
      "getting trades for 2024-03-23 37\n",
      "Building bids for 2024-03-23 37\n",
      "Building offers for 2024-03-23 37\n"
     ]
    },
    {
     "name": "stderr",
     "output_type": "stream",
     "text": [
      " 77%|███████▋  | 37/48 [01:31<00:28,  2.59s/it]"
     ]
    },
    {
     "name": "stdout",
     "output_type": "stream",
     "text": [
      "getting volumes for 2024-03-23 38\n",
      "getting trades for 2024-03-23 38\n",
      "Building bids for 2024-03-23 38\n",
      "Building offers for 2024-03-23 38\n"
     ]
    },
    {
     "name": "stderr",
     "output_type": "stream",
     "text": [
      " 79%|███████▉  | 38/48 [01:33<00:25,  2.53s/it]"
     ]
    },
    {
     "name": "stdout",
     "output_type": "stream",
     "text": [
      "getting volumes for 2024-03-23 39\n",
      "getting trades for 2024-03-23 39\n",
      "Building bids for 2024-03-23 39\n",
      "Building offers for 2024-03-23 39\n"
     ]
    },
    {
     "name": "stderr",
     "output_type": "stream",
     "text": [
      " 81%|████████▏ | 39/48 [01:35<00:21,  2.44s/it]"
     ]
    },
    {
     "name": "stdout",
     "output_type": "stream",
     "text": [
      "getting volumes for 2024-03-23 40\n",
      "getting trades for 2024-03-23 40\n",
      "Building bids for 2024-03-23 40\n",
      "Building offers for 2024-03-23 40\n"
     ]
    },
    {
     "name": "stderr",
     "output_type": "stream",
     "text": [
      " 83%|████████▎ | 40/48 [01:38<00:19,  2.41s/it]"
     ]
    },
    {
     "name": "stdout",
     "output_type": "stream",
     "text": [
      "getting volumes for 2024-03-23 41\n",
      "getting trades for 2024-03-23 41\n",
      "Building bids for 2024-03-23 41\n",
      "Building offers for 2024-03-23 41\n"
     ]
    },
    {
     "name": "stderr",
     "output_type": "stream",
     "text": [
      " 85%|████████▌ | 41/48 [01:40<00:16,  2.43s/it]"
     ]
    },
    {
     "name": "stdout",
     "output_type": "stream",
     "text": [
      "getting volumes for 2024-03-23 42\n",
      "getting trades for 2024-03-23 42\n",
      "Building bids for 2024-03-23 42\n",
      "Building offers for 2024-03-23 42\n"
     ]
    },
    {
     "name": "stderr",
     "output_type": "stream",
     "text": [
      " 88%|████████▊ | 42/48 [01:43<00:14,  2.40s/it]"
     ]
    },
    {
     "name": "stdout",
     "output_type": "stream",
     "text": [
      "getting volumes for 2024-03-23 43\n",
      "getting trades for 2024-03-23 43\n",
      "Building bids for 2024-03-23 43\n",
      "Building offers for 2024-03-23 43\n"
     ]
    },
    {
     "name": "stderr",
     "output_type": "stream",
     "text": [
      " 90%|████████▉ | 43/48 [01:45<00:12,  2.42s/it]"
     ]
    },
    {
     "name": "stdout",
     "output_type": "stream",
     "text": [
      "getting volumes for 2024-03-23 44\n",
      "getting trades for 2024-03-23 44\n",
      "Building bids for 2024-03-23 44\n",
      "Building offers for 2024-03-23 44\n"
     ]
    },
    {
     "name": "stderr",
     "output_type": "stream",
     "text": [
      " 92%|█████████▏| 44/48 [01:48<00:10,  2.66s/it]"
     ]
    },
    {
     "name": "stdout",
     "output_type": "stream",
     "text": [
      "getting volumes for 2024-03-23 45\n",
      "getting trades for 2024-03-23 45\n",
      "Building bids for 2024-03-23 45\n",
      "Building offers for 2024-03-23 45\n"
     ]
    },
    {
     "name": "stderr",
     "output_type": "stream",
     "text": [
      " 94%|█████████▍| 45/48 [01:50<00:07,  2.52s/it]"
     ]
    },
    {
     "name": "stdout",
     "output_type": "stream",
     "text": [
      "getting volumes for 2024-03-23 46\n",
      "getting trades for 2024-03-23 46\n",
      "Building bids for 2024-03-23 46\n",
      "Building offers for 2024-03-23 46\n"
     ]
    },
    {
     "name": "stderr",
     "output_type": "stream",
     "text": [
      " 96%|█████████▌| 46/48 [01:53<00:04,  2.47s/it]"
     ]
    },
    {
     "name": "stdout",
     "output_type": "stream",
     "text": [
      "getting volumes for 2024-03-23 47\n",
      "getting trades for 2024-03-23 47\n",
      "Building bids for 2024-03-23 47\n",
      "Building offers for 2024-03-23 47\n"
     ]
    },
    {
     "name": "stderr",
     "output_type": "stream",
     "text": [
      " 98%|█████████▊| 47/48 [01:55<00:02,  2.43s/it]"
     ]
    },
    {
     "name": "stdout",
     "output_type": "stream",
     "text": [
      "getting volumes for 2024-03-23 48\n",
      "getting trades for 2024-03-23 48\n",
      "Building bids for 2024-03-23 48\n",
      "Building offers for 2024-03-23 48\n"
     ]
    },
    {
     "name": "stderr",
     "output_type": "stream",
     "text": [
      "100%|██████████| 48/48 [01:57<00:00,  2.46s/it]\n"
     ]
    }
   ],
   "source": [
    "from tqdm import tqdm\n",
    "\n",
    "bs = list()\n",
    "os = list()\n",
    "\n",
    "for p in tqdm(range(1, 49)):\n",
    "    bs.append(get_bids(date, p))\n",
    "    os.append(get_offers(date, p))\n"
   ]
  },
  {
   "cell_type": "code",
   "execution_count": 3,
   "metadata": {},
   "outputs": [],
   "source": [
    "bdf = pd.concat(bs, axis=1)\n",
    "odf = pd.concat(os, axis=1)"
   ]
  },
  {
   "cell_type": "code",
   "execution_count": 4,
   "metadata": {},
   "outputs": [
    {
     "data": {
      "image/png": "[encoded data removed]",
      "text/plain": [
       "<Figure size 1200x1200 with 5 Axes>"
      ]
     },
     "metadata": {},
     "output_type": "display_data"
    }
   ],
   "source": [
    "import matplotlib.pyplot as plt\n",
    "import matplotlib.colors as mcolors\n",
    "from mpl_toolkits.axes_grid1 import make_axes_locatable\n",
    "\n",
    "idx = pd.IndexSlice\n",
    "\n",
    "fig, axs = plt.subplots(3, 1, figsize=(12, 12))\n",
    "\n",
    "bmin = bdf.loc[:, idx[:, 'price']].min().min()\n",
    "bmax = bdf.loc[:, idx[:, 'price']].max().max()\n",
    "bnorm = mcolors.Normalize(vmin=bmin, vmax=bmax)\n",
    "bmap = plt.cm.GnBu\n",
    "\n",
    "for i, dt in enumerate(bdf.columns.get_level_values(0).unique()):\n",
    "    ss = bdf.loc[:, idx[dt, :]].dropna()\n",
    "    ss.columns = ss.columns.droplevel(0)\n",
    "\n",
    "    ss = ss.sort_values(by='price')\n",
    "\n",
    "    ss['cumsum'] = ss['vol'].abs().cumsum()\n",
    "    \n",
    "    try:\n",
    "        ss['cumsum_lower'] = ss['cumsum'] - ss['vol'].iloc[0]\n",
    "    except IndexError:\n",
    "        continue\n",
    "\n",
    "    for _, row in ss.iterrows():\n",
    "        c = bmap(bnorm(row['price']))\n",
    "        axs[0].bar(\n",
    "            dt,\n",
    "            row['vol'],\n",
    "            bottom=row['cumsum'] - row['vol'],\n",
    "            color=c,\n",
    "            width=1/48,\n",
    "            )\n",
    "\n",
    "\n",
    "omin = odf.loc[:, idx[:, 'price']].min().min()\n",
    "omax = odf.loc[:, idx[:, 'price']].max().max()\n",
    "onorm = mcolors.Normalize(vmin=omin, vmax=omax)\n",
    "omap = plt.cm.YlOrRd\n",
    "\n",
    "for i, dt in enumerate(odf.columns.get_level_values(0).unique()):\n",
    "    ss = odf.loc[:, idx[dt, :]].dropna()\n",
    "    ss.columns = ss.columns.droplevel(0)\n",
    "\n",
    "    ss = ss.sort_values(by='price')\n",
    "\n",
    "    ss['cumsum'] = ss['vol'].abs().cumsum()\n",
    "\n",
    "    try:\n",
    "        ss['cumsum_lower'] = ss['cumsum'] - ss['vol'].iloc[0]\n",
    "    except IndexError:\n",
    "        continue\n",
    "\n",
    "    for _, row in ss.iterrows():\n",
    "        c = omap(onorm(row['price']))\n",
    "        axs[1].bar(\n",
    "            dt,\n",
    "            row['vol'],\n",
    "            bottom=row['cumsum'] - row['vol'],\n",
    "            color=c,\n",
    "            width=1/48,\n",
    "            )\n",
    "\n",
    "divider = make_axes_locatable(axs[0])\n",
    "cax = divider.append_axes(\"right\", size=\"2%\", pad=0.2)\n",
    "\n",
    "sm = plt.cm.ScalarMappable(cmap=bmap, norm=bnorm)\n",
    "sm.set_array([])\n",
    "cbar = plt.colorbar(sm, cax=cax)\n",
    "cbar.set_label('Cost of Bid [£/MWh]')\n",
    "\n",
    "divider = make_axes_locatable(axs[1])\n",
    "cax = divider.append_axes(\"right\", size=\"2%\", pad=0.2)\n",
    "\n",
    "sm = plt.cm.ScalarMappable(cmap=omap, norm=onorm)\n",
    "sm.set_array([])\n",
    "cbar = plt.colorbar(sm, cax=cax)\n",
    "cbar.set_label('Cost of Offer [£/MWh]')\n",
    "\n",
    "\n",
    "axs[0].set_ylabel('Accepted Bid Volume [MWh]')\n",
    "axs[1].set_ylabel('Accepted Offer Volume [MWh]')\n",
    "\n",
    "\n",
    "total_bids_costs = []\n",
    "total_offers_costs = []\n",
    "\n",
    "for i, dt in enumerate(bdf.columns.get_level_values(0).unique()):\n",
    "\n",
    "    bids = bdf.loc[:, idx[dt, :]].dropna()\n",
    "    bids.columns = bids.columns.droplevel(0)\n",
    "\n",
    "    offers = odf.loc[:, idx[dt, :]].dropna()\n",
    "    offers.columns = offers.columns.droplevel(0)\n",
    "\n",
    "    total_bids_costs.append((bids['vol'] * bids['price']).sum())\n",
    "    total_offers_costs.append((offers['vol'] * offers['price']).sum())\n",
    "\n",
    "total_bids_costs = pd.Series(total_bids_costs, index=bdf.columns.get_level_values(0).unique()).mul(1e-3)\n",
    "total_offers_costs = pd.Series(total_offers_costs, index=odf.columns.get_level_values(0).unique()).mul(1e-3)\n",
    "total_costs = total_bids_costs + total_offers_costs\n",
    "\n",
    "axs[2].plot(total_bids_costs.index, total_bids_costs, color=bmap(bnorm(bmax)), label='Total Bids Cost')\n",
    "axs[2].plot(total_offers_costs.index, total_offers_costs, color=omap(onorm(omax)), label='Total Offers Cost')\n",
    "axs[2].plot(total_costs.index, total_costs, label='Total Costs', color='black')\n",
    "axs[2].legend()\n",
    "axs[2].set_ylabel('Total Cost [£k]')\n",
    "\n",
    "axs[2].text(0.5, 0.4, 'Total Bids Costs: £{:.2f}k'.format(total_bids_costs.sum()), transform=axs[2].transAxes, fontsize=12, ha='center')\n",
    "axs[2].text(0.5, 0.3, 'Total Offers Costs: £{:.2f}k'.format(total_offers_costs.sum()), transform=axs[2].transAxes, fontsize=12, ha='center')\n",
    "axs[2].text(0.5, 0.5, 'Total Costs: £{:.2f}k'.format(total_costs.sum()), transform=axs[2].transAxes, fontsize=12, ha='center')\n",
    "\n",
    "for ax in axs:\n",
    "\n",
    "    xmin = bdf.columns.get_level_values(0).min() - pd.Timedelta('15min')\n",
    "    xmax = bdf.columns.get_level_values(0).max() + pd.Timedelta('15min')\n",
    "\n",
    "    ax.set_xlim(xmin, xmax)\n",
    "    ax.spines['top'].set_visible(False)\n",
    "    ax.spines['right'].set_visible(False)\n",
    "\n",
    "plt.show()"
   ]
  },
  {
   "cell_type": "code",
   "execution_count": 38,
   "metadata": {},
   "outputs": [],
   "source": [
    "bdf.to_csv('bids.csv')"
   ]
  },
  {
   "cell_type": "code",
   "execution_count": 39,
   "metadata": {},
   "outputs": [],
   "source": [
    "bdf.to_csv('bids.parquet')"
   ]
  },
  {
   "cell_type": "code",
   "execution_count": 25,
   "metadata": {},
   "outputs": [],
   "source": [
    "viable = bdf.loc[:,idx[:, 'price']].isna().sum(axis=1)\n",
    "\n",
    "viable = viable.loc[viable < (bdf.shape[1] - 4)].index"
   ]
  },
  {
   "cell_type": "code",
   "execution_count": 28,
   "metadata": {},
   "outputs": [
    {
     "name": "stdout",
     "output_type": "stream",
     "text": [
      "AG-PEDF01    23.7500\n",
      "AG-ZEN03J    24.0000\n",
      "BABAW-1      71.5000\n",
      "BHLAW-1      86.9300\n",
      "BNWKW-1      93.0000\n",
      "              ...   \n",
      "MOWEO-1      82.6700\n",
      "MOWEO-2      84.5850\n",
      "MOWEO-3      84.5475\n",
      "AG-PFLX01    35.0000\n",
      "PILLB-1      16.2050\n",
      "Length: 149, dtype: float64\n",
      "AG-PEDF01    3.535534e+00\n",
      "AG-ZEN03J    5.163978e+00\n",
      "BABAW-1      0.000000e+00\n",
      "BHLAW-1      5.794807e-14\n",
      "BNWKW-1      0.000000e+00\n",
      "                 ...     \n",
      "MOWEO-1      9.970729e+00\n",
      "MOWEO-2      9.407116e+00\n",
      "MOWEO-3      1.064957e+01\n",
      "AG-PFLX01    0.000000e+00\n",
      "PILLB-1      1.166726e+00\n",
      "Length: 149, dtype: float64\n"
     ]
    }
   ],
   "source": [
    "\n",
    "print(bdf.loc[viable, idx[:,'price']].mean(axis=1))\n",
    "m = bdf.loc[viable, idx[:,'price']].mean(axis=1)\n",
    "\n",
    "print(bdf.loc[viable, idx[:,'price']].std(axis=1))\n",
    "s = bdf.loc[viable, idx[:,'price']].std(axis=1)"
   ]
  },
  {
   "cell_type": "code",
   "execution_count": 33,
   "metadata": {},
   "outputs": [
    {
     "name": "stdout",
     "output_type": "stream",
     "text": [
      "HAWKB-1      50.611901\n",
      "WISHB-1      34.916933\n",
      "BHOLB-1      32.949697\n",
      "THMRB-1      30.962076\n",
      "BROAB-1      29.605177\n",
      "               ...    \n",
      "AG-HLIM01          NaN\n",
      "AG-HLIM02          NaN\n",
      "AG-GSTK05          NaN\n",
      "AG-HLIM04          NaN\n",
      "DINO-5             NaN\n",
      "Length: 149, dtype: float64\n"
     ]
    },
    {
     "data": {
      "text/plain": [
       "<AxesSubplot:ylabel='Frequency'>"
      ]
     },
     "execution_count": 33,
     "metadata": {},
     "output_type": "execute_result"
    },
    {
     "data": {
      "image/png": "[encoded data removed]",
      "text/plain": [
       "<Figure size 640x480 with 1 Axes>"
      ]
     },
     "metadata": {},
     "output_type": "display_data"
    }
   ],
   "source": [
    "print(s.sort_values(axis=0, ascending=False))\n",
    "s.plot.hist(bins=100)"
   ]
  }
 ],
 "metadata": {
  "kernelspec": {
   "display_name": "pypsa-eur",
   "language": "python",
   "name": "python3"
  },
  "language_info": {
   "codemirror_mode": {
    "name": "ipython",
    "version": 3
   },
   "file_extension": ".py",
   "mimetype": "text/x-python",
   "name": "python",
   "nbconvert_exporter": "python",
   "pygments_lexer": "ipython3",
   "version": "3.12.7"
  }
 },
 "nbformat": 4,
 "nbformat_minor": 2
}
