{
 "cells": [
  {
   "cell_type": "code",
   "execution_count": 22,
   "metadata": {},
   "outputs": [
    {
     "ename": "ModuleNotFoundError",
     "evalue": "No module named 'd3blocks'",
     "output_type": "error",
     "traceback": [
      "\u001b[1;31m---------------------------------------------------------------------------\u001b[0m",
      "\u001b[1;31mModuleNotFoundError\u001b[0m                       Traceback (most recent call last)",
      "Cell \u001b[1;32mIn[22], line 2\u001b[0m\n\u001b[0;32m      1\u001b[0m \u001b[38;5;66;03m# Load d3blocks\u001b[39;00m\n\u001b[1;32m----> 2\u001b[0m \u001b[38;5;28;01mfrom\u001b[39;00m \u001b[38;5;21;01md3blocks\u001b[39;00m \u001b[38;5;28;01mimport\u001b[39;00m D3Blocks\n\u001b[0;32m      4\u001b[0m \u001b[38;5;66;03m# Initialize\u001b[39;00m\n\u001b[0;32m      5\u001b[0m d3 \u001b[38;5;241m=\u001b[39m D3Blocks()\n",
      "\u001b[1;31mModuleNotFoundError\u001b[0m: No module named 'd3blocks'"
     ]
    }
   ],
   "source": [
    "# Load d3blocks\n",
    "from d3blocks import D3Blocks\n",
    "\n",
    "# Initialize\n",
    "d3 = D3Blocks()\n",
    "\n",
    "# Load example data\n",
    "df = d3.import_example('energy')\n",
    "\n",
    "# Plot\n",
    "d3.sankey(df, filepath='sankey.html')"
   ]
  },
  {
   "cell_type": "code",
   "execution_count": 23,
   "metadata": {},
   "outputs": [
    {
     "ename": "NameError",
     "evalue": "name 'df' is not defined",
     "output_type": "error",
     "traceback": [
      "\u001b[1;31m---------------------------------------------------------------------------\u001b[0m",
      "\u001b[1;31mNameError\u001b[0m                                 Traceback (most recent call last)",
      "Cell \u001b[1;32mIn[23], line 1\u001b[0m\n\u001b[1;32m----> 1\u001b[0m \u001b[43mdf\u001b[49m\n",
      "\u001b[1;31mNameError\u001b[0m: name 'df' is not defined"
     ]
    }
   ],
   "source": [
    "df"
   ]
  },
  {
   "cell_type": "code",
   "execution_count": 25,
   "metadata": {},
   "outputs": [
    {
     "ename": "NameError",
     "evalue": "name 'd3' is not defined",
     "output_type": "error",
     "traceback": [
      "\u001b[1;31m---------------------------------------------------------------------------\u001b[0m",
      "\u001b[1;31mNameError\u001b[0m                                 Traceback (most recent call last)",
      "Cell \u001b[1;32mIn[25], line 11\u001b[0m\n\u001b[0;32m      1\u001b[0m \u001b[38;5;28;01mimport\u001b[39;00m \u001b[38;5;21;01mpandas\u001b[39;00m \u001b[38;5;28;01mas\u001b[39;00m \u001b[38;5;21;01mpd\u001b[39;00m\n\u001b[0;32m      3\u001b[0m self_df \u001b[38;5;241m=\u001b[39m pd\u001b[38;5;241m.\u001b[39mDataFrame(\n\u001b[0;32m      4\u001b[0m     {\n\u001b[0;32m      5\u001b[0m         \u001b[38;5;124m'\u001b[39m\u001b[38;5;124msource\u001b[39m\u001b[38;5;124m'\u001b[39m: [\u001b[38;5;124m'\u001b[39m\u001b[38;5;124mA\u001b[39m\u001b[38;5;124m'\u001b[39m, \u001b[38;5;124m'\u001b[39m\u001b[38;5;124mB\u001b[39m\u001b[38;5;124m'\u001b[39m, \u001b[38;5;124m'\u001b[39m\u001b[38;5;124mC\u001b[39m\u001b[38;5;124m'\u001b[39m, \u001b[38;5;124m'\u001b[39m\u001b[38;5;124mD\u001b[39m\u001b[38;5;124m'\u001b[39m, \u001b[38;5;124m'\u001b[39m\u001b[38;5;124mI\u001b[39m\u001b[38;5;124m'\u001b[39m],\n\u001b[1;32m   (...)\u001b[0m\n\u001b[0;32m      8\u001b[0m     }\n\u001b[0;32m      9\u001b[0m )\n\u001b[1;32m---> 11\u001b[0m \u001b[43md3\u001b[49m\u001b[38;5;241m.\u001b[39msankey(self_df, filepath\u001b[38;5;241m=\u001b[39m\u001b[38;5;124m'\u001b[39m\u001b[38;5;124msankey.html\u001b[39m\u001b[38;5;124m'\u001b[39m)\n",
      "\u001b[1;31mNameError\u001b[0m: name 'd3' is not defined"
     ]
    }
   ],
   "source": [
    "import pandas as pd\n",
    "\n",
    "self_df = pd.DataFrame(\n",
    "    {\n",
    "        'source': ['A', 'B', 'C', 'D', 'I'],\n",
    "        'target': ['G', 'H', 'I', 'J', 'J'],\n",
    "        'weight': [2, 2, 1, 1, 1]\n",
    "    }\n",
    ")\n",
    "\n",
    "d3.sankey(self_df, filepath='sankey.html')"
   ]
  },
  {
   "cell_type": "code",
   "execution_count": 96,
   "metadata": {},
   "outputs": [],
   "source": [
    "import sys\n",
    "import pypsa\n",
    "import numpy as np\n",
    "import pandas as pd\n",
    "from pathlib import Path\n",
    "import matplotlib.pyplot as plt\n",
    "\n",
    "from plotting_constants import nice_names, color_dict, stack_to_ax\n",
    "\n",
    "sys.path.append(str(Path.cwd().parent / 'scripts'))\n",
    "from _helpers import classify_north_south\n",
    "\n",
    "idx = pd.IndexSlice"
   ]
  },
  {
   "cell_type": "code",
   "execution_count": 88,
   "metadata": {},
   "outputs": [],
   "source": [
    "day = '2024-03-22'"
   ]
  },
  {
   "cell_type": "code",
   "execution_count": 92,
   "metadata": {},
   "outputs": [],
   "source": [
    "# rev_path = str(Path.cwd().parent / 'summaries' / 'total_summary_revenues_flex_{}.csv')\n",
    "rev_path = str(Path.cwd().parent / 'results' / f'{day}' / 'bmu_revenues_flex_{}.csv')\n",
    "\n",
    "rev_national = pd.read_csv(rev_path.format('national'), index_col=0, header=[0,1,2], parse_dates=True).sum().mul(1e-6)\n",
    "rev_zonal = pd.read_csv(rev_path.format('zonal'), index_col=0, header=[0,1,2], parse_dates=True).sum().mul(1e-6)"
   ]
  },
  {
   "cell_type": "code",
   "execution_count": null,
   "metadata": {},
   "outputs": [],
   "source": [
    "rev_national = pd.concat((\n",
    "    rev_national.loc[idx[:, ['wind', 'disp', 'hydro', 'storage'], :]],\n",
    "    pd.Series(rev_national.loc[idx[:, 'intercon', :]].sum(), index=pd.MultiIndex.from_tuples([('total', 'interconnector', 'wholesale')]))\n",
    "))\n",
    "\n",
    "rev_zonal = pd.concat((\n",
    "    rev_zonal.loc[idx[:, ['wind', 'disp', 'hydro', 'storage'], :]],\n",
    "    pd.Series(rev_zonal.loc[idx[:, 'intercon', :]].sum(), index=pd.MultiIndex.from_tuples([('total', 'interconnector', 'wholesale')]))\n",
    "))"
   ]
  },
  {
   "cell_type": "code",
   "execution_count": null,
   "metadata": {},
   "outputs": [
    {
     "data": {
      "text/html": [
       "<div>\n",
       "<style scoped>\n",
       "    .dataframe tbody tr th:only-of-type {\n",
       "        vertical-align: middle;\n",
       "    }\n",
       "\n",
       "    .dataframe tbody tr th {\n",
       "        vertical-align: top;\n",
       "    }\n",
       "\n",
       "    .dataframe thead th {\n",
       "        text-align: right;\n",
       "    }\n",
       "</style>\n",
       "<table border=\"1\" class=\"dataframe\">\n",
       "  <thead>\n",
       "    <tr style=\"text-align: right;\">\n",
       "      <th></th>\n",
       "      <th></th>\n",
       "      <th>nodal</th>\n",
       "      <th>zonal</th>\n",
       "      <th>national</th>\n",
       "    </tr>\n",
       "    <tr>\n",
       "      <th>snapshot</th>\n",
       "      <th></th>\n",
       "      <th></th>\n",
       "      <th></th>\n",
       "      <th></th>\n",
       "    </tr>\n",
       "  </thead>\n",
       "  <tbody>\n",
       "    <tr>\n",
       "      <th rowspan=\"5\" valign=\"top\">2024-03-22</th>\n",
       "      <th>wholesale</th>\n",
       "      <td>0.320884</td>\n",
       "      <td>0.320920</td>\n",
       "      <td>0.356214</td>\n",
       "    </tr>\n",
       "    <tr>\n",
       "      <th>congestion_rent</th>\n",
       "      <td>-0.225221</td>\n",
       "      <td>-0.217957</td>\n",
       "      <td>0.000000</td>\n",
       "    </tr>\n",
       "    <tr>\n",
       "      <th>cfd_payments</th>\n",
       "      <td>0.253306</td>\n",
       "      <td>0.253306</td>\n",
       "      <td>0.329628</td>\n",
       "    </tr>\n",
       "    <tr>\n",
       "      <th>roc_payments</th>\n",
       "      <td>0.527465</td>\n",
       "      <td>0.518570</td>\n",
       "      <td>0.526107</td>\n",
       "    </tr>\n",
       "    <tr>\n",
       "      <th>offer_cost</th>\n",
       "      <td>0.000000</td>\n",
       "      <td>0.000318</td>\n",
       "      <td>0.222232</td>\n",
       "    </tr>\n",
       "  </tbody>\n",
       "</table>\n",
       "</div>"
      ],
      "text/plain": [
       "                               nodal     zonal  national\n",
       "snapshot                                                \n",
       "2024-03-22 wholesale        0.320884  0.320920  0.356214\n",
       "           congestion_rent -0.225221 -0.217957  0.000000\n",
       "           cfd_payments     0.253306  0.253306  0.329628\n",
       "           roc_payments     0.527465  0.518570  0.526107\n",
       "           offer_cost       0.000000  0.000318  0.222232"
      ]
     },
     "execution_count": 29,
     "metadata": {},
     "output_type": "execute_result"
    }
   ],
   "source": [
    "cost_summary = pd.read_csv(\n",
    "    Path.cwd().parent / 'results' / f'{day}' / 'system_cost_summary_flex.csv', \n",
    "    index_col=[0,1],\n",
    "    parse_dates=[0]\n",
    "    )\n",
    "\n",
    "cost_summary.head()"
   ]
  },
  {
   "cell_type": "code",
   "execution_count": 30,
   "metadata": {},
   "outputs": [],
   "source": [
    "mp = pd.read_csv(\n",
    "    Path.cwd().parent / 'results' / f'{day}' / 'marginal_prices_flex.csv',\n",
    "    index_col=0,\n",
    "    parse_dates=[0],\n",
    "    header=[0,1]\n",
    "    )"
   ]
  },
  {
   "cell_type": "code",
   "execution_count": 31,
   "metadata": {},
   "outputs": [],
   "source": [
    "idx = pd.IndexSlice\n",
    "\n",
    "buses = mp.loc[:,idx['zonal',:]].columns.get_level_values(1)"
   ]
  },
  {
   "cell_type": "code",
   "execution_count": 32,
   "metadata": {},
   "outputs": [],
   "source": [
    "weights = pd.read_csv(Path.cwd().parent / 'data' / 'preprocessed' / 'load_weights.csv', index_col=0)\n",
    "\n",
    "weights = weights.loc[buses.astype(int)]\n",
    "weights /= weights.sum()"
   ]
  },
  {
   "cell_type": "code",
   "execution_count": null,
   "metadata": {},
   "outputs": [
    {
     "data": {
      "text/html": [
       "<div>\n",
       "<style scoped>\n",
       "    .dataframe tbody tr th:only-of-type {\n",
       "        vertical-align: middle;\n",
       "    }\n",
       "\n",
       "    .dataframe tbody tr th {\n",
       "        vertical-align: top;\n",
       "    }\n",
       "\n",
       "    .dataframe thead th {\n",
       "        text-align: right;\n",
       "    }\n",
       "</style>\n",
       "<table border=\"1\" class=\"dataframe\">\n",
       "  <thead>\n",
       "    <tr style=\"text-align: right;\">\n",
       "      <th>Bus</th>\n",
       "      <th>4950</th>\n",
       "      <th>4951</th>\n",
       "      <th>4952</th>\n",
       "      <th>4953</th>\n",
       "      <th>4955</th>\n",
       "      <th>4956</th>\n",
       "      <th>4958</th>\n",
       "      <th>4960</th>\n",
       "      <th>4961</th>\n",
       "      <th>4962</th>\n",
       "      <th>...</th>\n",
       "      <th>8515</th>\n",
       "      <th>8529</th>\n",
       "      <th>8565</th>\n",
       "      <th>8575</th>\n",
       "      <th>8578</th>\n",
       "      <th>8649</th>\n",
       "      <th>8744</th>\n",
       "      <th>8747</th>\n",
       "      <th>8838</th>\n",
       "      <th>8860</th>\n",
       "    </tr>\n",
       "    <tr>\n",
       "      <th>snapshot</th>\n",
       "      <th></th>\n",
       "      <th></th>\n",
       "      <th></th>\n",
       "      <th></th>\n",
       "      <th></th>\n",
       "      <th></th>\n",
       "      <th></th>\n",
       "      <th></th>\n",
       "      <th></th>\n",
       "      <th></th>\n",
       "      <th></th>\n",
       "      <th></th>\n",
       "      <th></th>\n",
       "      <th></th>\n",
       "      <th></th>\n",
       "      <th></th>\n",
       "      <th></th>\n",
       "      <th></th>\n",
       "      <th></th>\n",
       "      <th></th>\n",
       "      <th></th>\n",
       "    </tr>\n",
       "  </thead>\n",
       "  <tbody>\n",
       "    <tr>\n",
       "      <th>2024-03-22 00:00:00</th>\n",
       "      <td>117.051558</td>\n",
       "      <td>106.012014</td>\n",
       "      <td>105.282094</td>\n",
       "      <td>103.803471</td>\n",
       "      <td>92.978932</td>\n",
       "      <td>160.162038</td>\n",
       "      <td>78.297572</td>\n",
       "      <td>45.619038</td>\n",
       "      <td>63.498405</td>\n",
       "      <td>161.690244</td>\n",
       "      <td>...</td>\n",
       "      <td>230.882548</td>\n",
       "      <td>233.016865</td>\n",
       "      <td>23.895856</td>\n",
       "      <td>220.209515</td>\n",
       "      <td>159.122259</td>\n",
       "      <td>148.442173</td>\n",
       "      <td>14.095747</td>\n",
       "      <td>151.214500</td>\n",
       "      <td>94.348893</td>\n",
       "      <td>134.073544</td>\n",
       "    </tr>\n",
       "    <tr>\n",
       "      <th>2024-03-22 00:30:00</th>\n",
       "      <td>117.360687</td>\n",
       "      <td>106.291988</td>\n",
       "      <td>105.560140</td>\n",
       "      <td>104.077613</td>\n",
       "      <td>93.224486</td>\n",
       "      <td>160.585020</td>\n",
       "      <td>78.504353</td>\n",
       "      <td>45.739516</td>\n",
       "      <td>63.666102</td>\n",
       "      <td>162.117263</td>\n",
       "      <td>...</td>\n",
       "      <td>231.492301</td>\n",
       "      <td>233.632255</td>\n",
       "      <td>23.958964</td>\n",
       "      <td>220.791081</td>\n",
       "      <td>159.542496</td>\n",
       "      <td>148.834203</td>\n",
       "      <td>14.132973</td>\n",
       "      <td>151.613853</td>\n",
       "      <td>94.598065</td>\n",
       "      <td>134.427627</td>\n",
       "    </tr>\n",
       "    <tr>\n",
       "      <th>2024-03-22 01:00:00</th>\n",
       "      <td>115.703016</td>\n",
       "      <td>104.790657</td>\n",
       "      <td>104.069147</td>\n",
       "      <td>102.607559</td>\n",
       "      <td>91.907729</td>\n",
       "      <td>158.316824</td>\n",
       "      <td>77.395511</td>\n",
       "      <td>45.093465</td>\n",
       "      <td>62.766845</td>\n",
       "      <td>159.827424</td>\n",
       "      <td>...</td>\n",
       "      <td>228.222568</td>\n",
       "      <td>230.332296</td>\n",
       "      <td>23.620553</td>\n",
       "      <td>217.672499</td>\n",
       "      <td>157.289024</td>\n",
       "      <td>146.731982</td>\n",
       "      <td>13.933351</td>\n",
       "      <td>149.472370</td>\n",
       "      <td>93.261907</td>\n",
       "      <td>132.528893</td>\n",
       "    </tr>\n",
       "    <tr>\n",
       "      <th>2024-03-22 01:30:00</th>\n",
       "      <td>115.570678</td>\n",
       "      <td>104.670801</td>\n",
       "      <td>103.950116</td>\n",
       "      <td>102.490200</td>\n",
       "      <td>91.802607</td>\n",
       "      <td>158.135746</td>\n",
       "      <td>77.306989</td>\n",
       "      <td>45.041888</td>\n",
       "      <td>62.695054</td>\n",
       "      <td>159.644618</td>\n",
       "      <td>...</td>\n",
       "      <td>227.961534</td>\n",
       "      <td>230.068850</td>\n",
       "      <td>23.593537</td>\n",
       "      <td>217.423532</td>\n",
       "      <td>157.109122</td>\n",
       "      <td>146.564155</td>\n",
       "      <td>13.917414</td>\n",
       "      <td>149.301408</td>\n",
       "      <td>93.155237</td>\n",
       "      <td>132.377311</td>\n",
       "    </tr>\n",
       "    <tr>\n",
       "      <th>2024-03-22 02:00:00</th>\n",
       "      <td>111.175710</td>\n",
       "      <td>100.690337</td>\n",
       "      <td>99.997059</td>\n",
       "      <td>98.592661</td>\n",
       "      <td>88.311501</td>\n",
       "      <td>152.122095</td>\n",
       "      <td>74.367127</td>\n",
       "      <td>43.329017</td>\n",
       "      <td>60.310861</td>\n",
       "      <td>153.573588</td>\n",
       "      <td>...</td>\n",
       "      <td>219.292520</td>\n",
       "      <td>221.319698</td>\n",
       "      <td>22.696312</td>\n",
       "      <td>209.155261</td>\n",
       "      <td>151.134512</td>\n",
       "      <td>140.990553</td>\n",
       "      <td>13.388157</td>\n",
       "      <td>143.623713</td>\n",
       "      <td>89.612691</td>\n",
       "      <td>127.343212</td>\n",
       "    </tr>\n",
       "  </tbody>\n",
       "</table>\n",
       "<p>5 rows × 284 columns</p>\n",
       "</div>"
      ],
      "text/plain": [
       "Bus                        4950        4951        4952        4953  \\\n",
       "snapshot                                                              \n",
       "2024-03-22 00:00:00  117.051558  106.012014  105.282094  103.803471   \n",
       "2024-03-22 00:30:00  117.360687  106.291988  105.560140  104.077613   \n",
       "2024-03-22 01:00:00  115.703016  104.790657  104.069147  102.607559   \n",
       "2024-03-22 01:30:00  115.570678  104.670801  103.950116  102.490200   \n",
       "2024-03-22 02:00:00  111.175710  100.690337   99.997059   98.592661   \n",
       "\n",
       "Bus                       4955        4956       4958       4960       4961  \\\n",
       "snapshot                                                                      \n",
       "2024-03-22 00:00:00  92.978932  160.162038  78.297572  45.619038  63.498405   \n",
       "2024-03-22 00:30:00  93.224486  160.585020  78.504353  45.739516  63.666102   \n",
       "2024-03-22 01:00:00  91.907729  158.316824  77.395511  45.093465  62.766845   \n",
       "2024-03-22 01:30:00  91.802607  158.135746  77.306989  45.041888  62.695054   \n",
       "2024-03-22 02:00:00  88.311501  152.122095  74.367127  43.329017  60.310861   \n",
       "\n",
       "Bus                        4962  ...        8515        8529       8565  \\\n",
       "snapshot                         ...                                      \n",
       "2024-03-22 00:00:00  161.690244  ...  230.882548  233.016865  23.895856   \n",
       "2024-03-22 00:30:00  162.117263  ...  231.492301  233.632255  23.958964   \n",
       "2024-03-22 01:00:00  159.827424  ...  228.222568  230.332296  23.620553   \n",
       "2024-03-22 01:30:00  159.644618  ...  227.961534  230.068850  23.593537   \n",
       "2024-03-22 02:00:00  153.573588  ...  219.292520  221.319698  22.696312   \n",
       "\n",
       "Bus                        8575        8578        8649       8744  \\\n",
       "snapshot                                                             \n",
       "2024-03-22 00:00:00  220.209515  159.122259  148.442173  14.095747   \n",
       "2024-03-22 00:30:00  220.791081  159.542496  148.834203  14.132973   \n",
       "2024-03-22 01:00:00  217.672499  157.289024  146.731982  13.933351   \n",
       "2024-03-22 01:30:00  217.423532  157.109122  146.564155  13.917414   \n",
       "2024-03-22 02:00:00  209.155261  151.134512  140.990553  13.388157   \n",
       "\n",
       "Bus                        8747       8838        8860  \n",
       "snapshot                                                \n",
       "2024-03-22 00:00:00  151.214500  94.348893  134.073544  \n",
       "2024-03-22 00:30:00  151.613853  94.598065  134.427627  \n",
       "2024-03-22 01:00:00  149.472370  93.261907  132.528893  \n",
       "2024-03-22 01:30:00  149.301408  93.155237  132.377311  \n",
       "2024-03-22 02:00:00  143.623713  89.612691  127.343212  \n",
       "\n",
       "[5 rows x 284 columns]"
      ]
     },
     "execution_count": 33,
     "metadata": {},
     "output_type": "execute_result"
    }
   ],
   "source": [
    "load = pd.read_csv(\n",
    "    Path.cwd().parent / 'results' / f'{day}' / 'gb_total_load_flex.csv',\n",
    "    index_col=0,\n",
    "    parse_dates=[0]\n",
    ").rename(columns={'0': 'load'})\n",
    "\n",
    "load = pd.DataFrame(\n",
    "    np.outer(load.values, weights.values),\n",
    "    index=load.index,\n",
    "    columns=weights.index.astype(str)\n",
    "    )\n",
    "\n",
    "load.head()"
   ]
  },
  {
   "cell_type": "code",
   "execution_count": 34,
   "metadata": {},
   "outputs": [
    {
     "name": "stderr",
     "output_type": "stream",
     "text": [
      "WARNING:pypsa.io:Importing network from PyPSA version v0.31.0 while current version is v0.32.0. Read the release notes at https://pypsa.readthedocs.io/en/latest/release_notes.html to prepare your network for import.\n",
      "INFO:pypsa.io:Imported network network_flex_s_nodal.nc has buses, carriers, generators, links, loads, storage_units\n"
     ]
    }
   ],
   "source": [
    "network = pypsa.Network(\n",
    "    Path.cwd().parent / 'results' / f'{day}' / 'network_flex_s_nodal.nc'\n",
    ")\n",
    "buses = network.buses[['x', 'y']]\n",
    "buses.loc[:, ['region']] = buses.apply(lambda x: classify_north_south(x['x'], x['y']), axis=1)"
   ]
  },
  {
   "cell_type": "code",
   "execution_count": 43,
   "metadata": {},
   "outputs": [
    {
     "name": "stdout",
     "output_type": "stream",
     "text": [
      "(48, 60)\n",
      "(48, 224)\n"
     ]
    }
   ],
   "source": [
    "north_loads = load.loc[:, buses.loc[buses.region == 'north'].index]\n",
    "south_loads = load.loc[:, buses.loc[buses.region == 'south'].index.intersection(load.columns)]\n",
    "\n",
    "print(north_loads.shape)\n",
    "print(south_loads.shape)"
   ]
  },
  {
   "cell_type": "code",
   "execution_count": 63,
   "metadata": {},
   "outputs": [
    {
     "data": {
      "text/plain": [
       "wholesale  north       national     1.050088\n",
       "                       zonal       -1.274397\n",
       "           south       national    30.909548\n",
       "                       zonal       33.552814\n",
       "roc        socialised  national    22.678060\n",
       "                       zonal       23.178485\n",
       "cfd        socialised  national    12.814240\n",
       "                       zonal        9.741236\n",
       "bids       socialised  national     3.799688\n",
       "                       zonal       -0.014192\n",
       "offers     socialised  national    13.210386\n",
       "                       zonal        0.025816\n",
       "cfd        socialised  national    12.814240\n",
       "                       zonal        9.741236\n",
       "dtype: float64"
      ]
     },
     "execution_count": 63,
     "metadata": {},
     "output_type": "execute_result"
    }
   ],
   "source": [
    "import warnings\n",
    "warnings.filterwarnings('ignore')\n",
    "\n",
    "def get_wholesale_costs(mp, loads, mode):\n",
    "\n",
    "    idx = pd.IndexSlice\n",
    "\n",
    "    if mode == 'national':\n",
    "        return np.inner(\n",
    "            loads.sum(axis=1).values,\n",
    "            mp.loc[:,idx['national', 'GB']].values\n",
    "            ) * 0.5\n",
    "        \n",
    "    elif mode == 'zonal':\n",
    "        total = 0\n",
    "        for col in loads.columns:\n",
    "            total += np.inner(\n",
    "                loads.loc[:,col].values,\n",
    "                mp.loc[:,idx['zonal', col]].values\n",
    "                )\n",
    "        return total * 0.5\n",
    "\n",
    "\n",
    "costs = pd.Series(0, # is in units M£\n",
    "    index=pd.MultiIndex.from_product([\n",
    "        ['wholesale'],\n",
    "        ['north', 'south'],\n",
    "        ['national', 'zonal']\n",
    "        ]\n",
    "    ).append(\n",
    "        pd.MultiIndex.from_product([\n",
    "            ['roc', 'cfd', 'bids', 'offers', 'cfd'],\n",
    "            ['socialised'],\n",
    "            ['national', 'zonal']\n",
    "            ]\n",
    "        )\n",
    "    )\n",
    ")\n",
    "\n",
    "costs.loc[idx['wholesale', 'north', 'national']] = get_wholesale_costs(mp, north_loads, 'national') * 1e-6\n",
    "costs.loc[idx['wholesale', 'south', 'national']] = get_wholesale_costs(mp, south_loads, 'national') * 1e-6\n",
    "costs.loc[idx['wholesale', 'north', 'zonal']] = get_wholesale_costs(mp, north_loads, 'zonal') * 1e-6\n",
    "costs.loc[idx['wholesale', 'south', 'zonal']] = get_wholesale_costs(mp, south_loads, 'zonal') * 1e-6\n",
    "\n",
    "costs.loc[idx['roc', 'socialised', 'national']] = cost_summary.loc[idx[:, 'roc_payments'], 'national'].sum()\n",
    "costs.loc[idx['cfd', 'socialised', 'national']] = cost_summary.loc[idx[:, 'cfd_payments'], 'national'].sum()\n",
    "costs.loc[idx['bids', 'socialised', 'national']] = cost_summary.loc[idx[:, 'bid_cost'], 'national'].sum()\n",
    "costs.loc[idx['offers', 'socialised', 'national']] = cost_summary.loc[idx[:, 'offer_cost'], 'national'].sum()\n",
    "costs.loc[idx['cfd', 'socialised', 'national']] = cost_summary.loc[idx[:, 'cfd_payments'], 'national'].sum()\n",
    "\n",
    "costs.loc[idx['roc', 'socialised', 'zonal']] = cost_summary.loc[idx[:, 'roc_payments'], 'zonal'].sum()\n",
    "costs.loc[idx['cfd', 'socialised', 'zonal']] = cost_summary.loc[idx[:, 'cfd_payments'], 'zonal'].sum()\n",
    "costs.loc[idx['bids', 'socialised', 'zonal']] = cost_summary.loc[idx[:, 'bid_cost'], 'zonal'].sum()\n",
    "costs.loc[idx['offers', 'socialised', 'zonal']] = cost_summary.loc[idx[:, 'offer_cost'], 'zonal'].sum()\n",
    "costs.loc[idx['cfd', 'socialised', 'zonal']] = cost_summary.loc[idx[:, 'cfd_payments'], 'zonal'].sum()\n",
    "\n",
    "costs"
   ]
  },
  {
   "cell_type": "code",
   "execution_count": 109,
   "metadata": {},
   "outputs": [],
   "source": [
    "def get_consumer_box_limits(costs, mode, gap):\n",
    "\n",
    "    box1 = costs.loc[idx['wholesale', 'north', mode]].sum()\n",
    "    box2 = costs.loc[idx['wholesale', 'south', mode]].sum()\n",
    "    box3 = costs.loc[idx[:, 'socialised', mode]].sum()\n",
    "\n",
    "    total = box1 + box2 + box3\n",
    "\n",
    "    box1 = box1 / total\n",
    "    box2 = box2 / total\n",
    "    box3 = box3 / total\n",
    "\n",
    "    box1_upper = 1\n",
    "    box1_lower = box1_upper - box1\n",
    "\n",
    "    box2_upper = box1_lower - gap\n",
    "    box2_lower = box2_upper - box2\n",
    "\n",
    "    box3_upper = box2_lower - gap\n",
    "    box3_lower = box3_upper - box3\n",
    "\n",
    "    return (\n",
    "        (box1_upper, box1_lower),\n",
    "        (box2_upper, box2_lower),\n",
    "        (box3_upper, box3_lower)\n",
    "    )\n",
    "\n",
    "\n",
    "gap = 0.02\n",
    "box_width = 0.03\n",
    "left_end = 0.\n",
    "right_end = 1.\n",
    "\n",
    "con_n, con_z, soc = get_consumer_box_limits(costs, 'national', gap)"
   ]
  },
  {
   "cell_type": "code",
   "execution_count": 108,
   "metadata": {},
   "outputs": [],
   "source": [
    "def get_generator_box_limits(revs, gap):\n",
    "\n",
    "    box_heights = {}\n",
    "\n",
    "    revs = revs.copy() / revs.sum()\n",
    "\n",
    "    for region, carrier in zip(revs.index.get_level_values(0), revs.index.get_level_values(1)):\n",
    "\n",
    "        box_heights[(region, carrier)] = revs.loc[idx[region, carrier, :]].sum()\n",
    "\n",
    "    box_upper = {}\n",
    "    box_lower = {}\n",
    "\n",
    "    box_upper[('north', 'wind')] = 1\n",
    "    box_lower[('north', 'wind')] = box_upper[('north', 'wind')] - box_heights[('north', 'wind')]\n",
    "\n",
    "    box_upper[('north', 'disp')] = box_lower[('north', 'wind')] - gap\n",
    "    box_lower[('north', 'disp')] = box_upper[('north', 'disp')] - box_heights[('north', 'disp')]\n",
    "\n",
    "    box_upper[('north', 'hydro')] = box_lower[('north', 'disp')] - gap\n",
    "    box_lower[('north', 'hydro')] = box_upper[('north', 'hydro')] - box_heights[('north', 'hydro')]\n",
    "\n",
    "    box_upper[('north', 'storage')] = box_lower[('north', 'hydro')] - gap\n",
    "    box_lower[('north', 'storage')] = box_upper[('north', 'storage')] - box_heights[('north', 'storage')]\n",
    "\n",
    "    box_upper[('south', 'wind')] = box_lower[('north', 'storage')] - gap\n",
    "    box_lower[('south', 'wind')] = box_upper[('south', 'wind')] - box_heights[('south', 'wind')]\n",
    "\n",
    "    box_upper[('south', 'disp')] = box_lower[('south', 'wind')] - gap\n",
    "    box_lower[('south', 'disp')] = box_upper[('south', 'disp')] - box_heights[('south', 'disp')]\n",
    "\n",
    "    box_upper[('south', 'hydro')] = box_lower[('south', 'disp')] - gap\n",
    "    box_lower[('south', 'hydro')] = box_upper[('south', 'hydro')] - box_heights[('south', 'hydro')]\n",
    "\n",
    "    box_upper[('south', 'storage')] = box_lower[('south', 'hydro')] - gap\n",
    "    box_lower[('south', 'storage')] = box_upper[('south', 'storage')] - box_heights[('south', 'storage')]\n",
    "\n",
    "    box_upper[('total', 'interconnector')] = box_lower[('south', 'storage')] - gap\n",
    "    box_lower[('total', 'interconnector')] = box_upper[('total', 'interconnector')] - box_heights[('total', 'interconnector')]\n",
    "\n",
    "    return box_lower, box_upper\n",
    "\n",
    "rev_lowers, rev_uppers = get_generator_box_limits(rev_national, gap)"
   ]
  },
  {
   "cell_type": "code",
   "execution_count": 149,
   "metadata": {},
   "outputs": [],
   "source": [
    "rev_flows = rev_national.copy() / rev_national.sum()\n"
   ]
  },
  {
   "cell_type": "code",
   "execution_count": 152,
   "metadata": {},
   "outputs": [
    {
     "data": {
      "text/plain": [
       "(1, 0.9892050978887639)"
      ]
     },
     "execution_count": 152,
     "metadata": {},
     "output_type": "execute_result"
    }
   ],
   "source": [
    "con_n"
   ]
  },
  {
   "cell_type": "code",
   "execution_count": 154,
   "metadata": {},
   "outputs": [],
   "source": [
    "# Helper function to draw curved flow paths\n",
    "def bezier_path(start, end, turning_ratio, num_samples=100):\n",
    "    \"\"\"\n",
    "    Creates a smooth cubic Bézier curve as a NumPy array of points,\n",
    "    suitable for use in Sankey diagrams.\n",
    "\n",
    "    Parameters:\n",
    "        start (tuple or list): (x, y) coordinates for the starting point.\n",
    "        end (tuple or list): (x, y) coordinates for the ending point.\n",
    "        turning_ratio (float): A value between 0 and 1 that defines the x-position\n",
    "                               of the turning point. A value of 0 means the turning\n",
    "                               point is at the start's x-coordinate, while 1 is at the end's.\n",
    "        num_samples (int): The number of points to sample along the curve.\n",
    "\n",
    "    Returns:\n",
    "        numpy.ndarray: An array of shape (num_samples, 2) with the (x, y) coordinates of the curve.\n",
    "    \"\"\"\n",
    "    # Convert start and end to NumPy arrays\n",
    "    start = np.array(start, dtype=float)\n",
    "    end = np.array(end, dtype=float)\n",
    "    \n",
    "    # Compute the common x-coordinate for both control points based on turning_ratio\n",
    "    cp_x = start[0] + turning_ratio * (end[0] - start[0])\n",
    "    \n",
    "    # Define control points\n",
    "    cp1 = np.array([cp_x, start[1]])\n",
    "    cp2 = np.array([cp_x, end[1]])\n",
    "    \n",
    "    # Create an array of parameter values t in [0, 1]\n",
    "    t = np.linspace(0, 1, num_samples).reshape(-1, 1)  # shape (num_samples, 1)\n",
    "    one_minus_t = 1 - t\n",
    "\n",
    "    # Evaluate the cubic Bézier curve at each t using the formula:\n",
    "    # B(t) = (1-t)^3 * P0 + 3*(1-t)^2*t * P1 + 3*(1-t)*t^2 * P2 + t^3 * P3\n",
    "    curve = (one_minus_t**3) * start + \\\n",
    "            3 * (one_minus_t**2) * t * cp1 + \\\n",
    "            3 * one_minus_t * (t**2) * cp2 + \\\n",
    "            (t**3) * end\n",
    "\n",
    "    return curve[:,0], curve[:,1]"
   ]
  },
  {
   "cell_type": "code",
   "execution_count": 155,
   "metadata": {},
   "outputs": [
    {
     "data": {
      "text/plain": [
       "(1, 0.9892050978887639)"
      ]
     },
     "execution_count": 155,
     "metadata": {},
     "output_type": "execute_result"
    }
   ],
   "source": [
    "con_n"
   ]
  },
  {
   "cell_type": "code",
   "execution_count": 157,
   "metadata": {},
   "outputs": [
    {
     "data": {
      "text/plain": [
       "{('north', 'wind'): 1,\n",
       " ('north', 'disp'): 0.6373634114479054,\n",
       " ('north', 'hydro'): 0.616861272342654,\n",
       " ('north', 'storage'): 0.5858894748202965,\n",
       " ('south', 'wind'): 0.5647625529746111,\n",
       " ('south', 'disp'): 0.1618262638915575,\n",
       " ('south', 'hydro'): -0.08766582736524565,\n",
       " ('south', 'storage'): -0.10787788701136596,\n",
       " ('total', 'interconnector'): -0.13217607451181007}"
      ]
     },
     "execution_count": 157,
     "metadata": {},
     "output_type": "execute_result"
    }
   ],
   "source": [
    "rev_uppers"
   ]
  },
  {
   "cell_type": "code",
   "execution_count": 161,
   "metadata": {},
   "outputs": [
    {
     "data": {
      "text/plain": [
       "(0.6314548972361425, -0.040000000000000036)"
      ]
     },
     "execution_count": 161,
     "metadata": {},
     "output_type": "execute_result"
    }
   ],
   "source": [
    "soc"
   ]
  },
  {
   "cell_type": "code",
   "execution_count": 167,
   "metadata": {},
   "outputs": [
    {
     "data": {
      "image/png": "[encoded data removed]",
      "text/plain": [
       "<Figure size 1200x600 with 1 Axes>"
      ]
     },
     "metadata": {},
     "output_type": "display_data"
    }
   ],
   "source": [
    "fig, ax = plt.subplots(figsize=(12, 6))\n",
    "\n",
    "# Draw three rectangles on left side using box limits\n",
    "ax.add_patch(plt.Rectangle((left_end, con_n[1]), box_width, con_n[0]-con_n[1], facecolor='lightblue', alpha=0.8))\n",
    "ax.add_patch(plt.Rectangle((left_end, con_z[1]), box_width, con_z[0]-con_z[1], facecolor='lightgreen', alpha=0.8))\n",
    "ax.add_patch(plt.Rectangle((left_end, soc[1]), box_width, soc[0]-soc[1], facecolor='lightpink', alpha=0.8))\n",
    "\n",
    "for lower, upper in zip(rev_lowers.values(), rev_uppers.values()):\n",
    "    ax.add_patch(plt.Rectangle((right_end - box_width, lower), box_width, upper-lower, facecolor='lightblue', alpha=0.8))\n",
    "\n",
    "\n",
    "\n",
    "def add_flow(ax, left_upper, right_upper, box_width, volume, tp=0.5):\n",
    "\n",
    "    start = (box_width, left_upper - volume/2)\n",
    "    end = (1-box_width, right_upper - volume/2)\n",
    "\n",
    "    x, y = bezier_path(start, end, tp)\n",
    "    ax.fill_between(x, y-volume/2, y+volume/2, alpha=0.5, color='r')\n",
    "\n",
    "\n",
    "add_flow(\n",
    "    ax,\n",
    "    soc[0],\n",
    "    rev_uppers[('north', 'wind')],\n",
    "    box_width,\n",
    "    rev_flows.loc[idx['north', 'wind', 'roc']],\n",
    "    )\n",
    "\n",
    "ax.axis('off')\n",
    "plt.show()"
   ]
  },
  {
   "cell_type": "code",
   "execution_count": 166,
   "metadata": {},
   "outputs": [
    {
     "data": {
      "text/plain": [
       "{('north', 'wind'): 1,\n",
       " ('north', 'disp'): 0.6373634114479054,\n",
       " ('north', 'hydro'): 0.616861272342654,\n",
       " ('north', 'storage'): 0.5858894748202965,\n",
       " ('south', 'wind'): 0.5647625529746111,\n",
       " ('south', 'disp'): 0.1618262638915575,\n",
       " ('south', 'hydro'): -0.08766582736524565,\n",
       " ('south', 'storage'): -0.10787788701136596,\n",
       " ('total', 'interconnector'): -0.13217607451181007}"
      ]
     },
     "execution_count": 166,
     "metadata": {},
     "output_type": "execute_result"
    }
   ],
   "source": [
    "rev_uppers"
   ]
  },
  {
   "cell_type": "code",
   "execution_count": null,
   "metadata": {},
   "outputs": [
    {
     "data": {
      "image/png": "[encoded data removed]",
      "text/plain": [
       "<Figure size 1000x800 with 1 Axes>"
      ]
     },
     "metadata": {},
     "output_type": "display_data"
    }
   ],
   "source": [
    "import matplotlib.pyplot as plt\n",
    "import numpy as np\n",
    "\n",
    "# Create example Sankey data\n",
    "nodes = ['Wind', 'Gas', 'Solar', 'Consumers', 'Storage']\n",
    "flows = [\n",
    "    ('Wind', 'Consumers', 0.2),\n",
    "    ('Gas', 'Other Consumers', 0.3),\n",
    "    # ('Solar', 'Storage', 20),\n",
    "    # ('Storage', 'Consumers', 15),\n",
    "]\n",
    "\n",
    "# Create figure and axis\n",
    "fig, ax = plt.subplots(figsize=(10, 8))\n",
    "\n",
    "# Set node positions\n",
    "node_pos = {\n",
    "    'Wind': (0, 0.8),\n",
    "    'Gas': (0, 0.6), \n",
    "    'Solar': (0, 0.2),\n",
    "    'Storage': (0.5, 0.2),\n",
    "    'Consumers': (1, 0.5),\n",
    "    'Other Consumers': (1, 0.3)\n",
    "}\n",
    "\n",
    "# Draw flows\n",
    "colors = plt.cm.Set3(np.linspace(0, 1, len(flows)))\n",
    "\n",
    "for (source, target, value), color in zip(flows, colors):\n",
    "\n",
    "    r = np.random.rand() * 0.5\n",
    "    x, y = bezier_path(node_pos[source], node_pos[target], r)\n",
    "\n",
    "    ax.fill_between(x, y-value/2, y+value/2, alpha=0.5, color=color)\n",
    "\n",
    "# Draw nodes\n",
    "for node, (x, y) in node_pos.items():\n",
    "    ax.text(x, y, node, ha='center', va='center')\n",
    "\n",
    "# Configure plot\n",
    "ax.set_xlim(-0.1, 1.1)\n",
    "ax.set_ylim(0, 1)\n",
    "ax.axis('off')\n",
    "ax.set_title('Energy Flow Sankey Diagram')\n",
    "\n",
    "# plt.savefig('dummy_sankey.pdfk')\n",
    "plt.show()"
   ]
  },
  {
   "cell_type": "code",
   "execution_count": 142,
   "metadata": {},
   "outputs": [
    {
     "data": {
      "image/png": "[encoded data removed]",
      "text/plain": [
       "<Figure size 640x480 with 1 Axes>"
      ]
     },
     "metadata": {},
     "output_type": "display_data"
    }
   ],
   "source": [
    "import numpy as np\n",
    "\n",
    "\n",
    "# Example usage:\n",
    "if __name__ == \"__main__\":\n",
    "    start_point = (10, 20)\n",
    "    end_point = (200, 80)\n",
    "    turning_ratio = 0.7  # symmetric turning point along the x-axis\n",
    "    bezier_points = create_bezier_curve(start_point, end_point, turning_ratio, num_samples=100)\n",
    "    \n",
    "\n",
    "    x = bezier_points[:,0]\n",
    "    y = bezier_points[:,1]\n",
    "\n",
    "    plt.plot(x, y)"
   ]
  }
 ],
 "metadata": {
  "kernelspec": {
   "display_name": "Python 3",
   "language": "python",
   "name": "python3"
  },
  "language_info": {
   "codemirror_mode": {
    "name": "ipython",
    "version": 3
   },
   "file_extension": ".py",
   "mimetype": "text/x-python",
   "name": "python",
   "nbconvert_exporter": "python",
   "pygments_lexer": "ipython3",
   "version": "3.12.7"
  }
 },
 "nbformat": 4,
 "nbformat_minor": 2
}
