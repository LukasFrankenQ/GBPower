{
 "cells": [
  {
   "cell_type": "code",
   "execution_count": 22,
   "metadata": {},
   "outputs": [
    {
     "ename": "ModuleNotFoundError",
     "evalue": "No module named 'd3blocks'",
     "output_type": "error",
     "traceback": [
      "\u001b[1;31m---------------------------------------------------------------------------\u001b[0m",
      "\u001b[1;31mModuleNotFoundError\u001b[0m                       Traceback (most recent call last)",
      "Cell \u001b[1;32mIn[22], line 2\u001b[0m\n\u001b[0;32m      1\u001b[0m \u001b[38;5;66;03m# Load d3blocks\u001b[39;00m\n\u001b[1;32m----> 2\u001b[0m \u001b[38;5;28;01mfrom\u001b[39;00m \u001b[38;5;21;01md3blocks\u001b[39;00m \u001b[38;5;28;01mimport\u001b[39;00m D3Blocks\n\u001b[0;32m      4\u001b[0m \u001b[38;5;66;03m# Initialize\u001b[39;00m\n\u001b[0;32m      5\u001b[0m d3 \u001b[38;5;241m=\u001b[39m D3Blocks()\n",
      "\u001b[1;31mModuleNotFoundError\u001b[0m: No module named 'd3blocks'"
     ]
    }
   ],
   "source": [
    "# Load d3blocks\n",
    "from d3blocks import D3Blocks\n",
    "\n",
    "# Initialize\n",
    "d3 = D3Blocks()\n",
    "\n",
    "# Load example data\n",
    "df = d3.import_example('energy')\n",
    "\n",
    "# Plot\n",
    "d3.sankey(df, filepath='sankey.html')"
   ]
  },
  {
   "cell_type": "code",
   "execution_count": 23,
   "metadata": {},
   "outputs": [
    {
     "ename": "NameError",
     "evalue": "name 'df' is not defined",
     "output_type": "error",
     "traceback": [
      "\u001b[1;31m---------------------------------------------------------------------------\u001b[0m",
      "\u001b[1;31mNameError\u001b[0m                                 Traceback (most recent call last)",
      "Cell \u001b[1;32mIn[23], line 1\u001b[0m\n\u001b[1;32m----> 1\u001b[0m \u001b[43mdf\u001b[49m\n",
      "\u001b[1;31mNameError\u001b[0m: name 'df' is not defined"
     ]
    }
   ],
   "source": [
    "df"
   ]
  },
  {
   "cell_type": "code",
   "execution_count": 25,
   "metadata": {},
   "outputs": [
    {
     "ename": "NameError",
     "evalue": "name 'd3' is not defined",
     "output_type": "error",
     "traceback": [
      "\u001b[1;31m---------------------------------------------------------------------------\u001b[0m",
      "\u001b[1;31mNameError\u001b[0m                                 Traceback (most recent call last)",
      "Cell \u001b[1;32mIn[25], line 11\u001b[0m\n\u001b[0;32m      1\u001b[0m \u001b[38;5;28;01mimport\u001b[39;00m \u001b[38;5;21;01mpandas\u001b[39;00m \u001b[38;5;28;01mas\u001b[39;00m \u001b[38;5;21;01mpd\u001b[39;00m\n\u001b[0;32m      3\u001b[0m self_df \u001b[38;5;241m=\u001b[39m pd\u001b[38;5;241m.\u001b[39mDataFrame(\n\u001b[0;32m      4\u001b[0m     {\n\u001b[0;32m      5\u001b[0m         \u001b[38;5;124m'\u001b[39m\u001b[38;5;124msource\u001b[39m\u001b[38;5;124m'\u001b[39m: [\u001b[38;5;124m'\u001b[39m\u001b[38;5;124mA\u001b[39m\u001b[38;5;124m'\u001b[39m, \u001b[38;5;124m'\u001b[39m\u001b[38;5;124mB\u001b[39m\u001b[38;5;124m'\u001b[39m, \u001b[38;5;124m'\u001b[39m\u001b[38;5;124mC\u001b[39m\u001b[38;5;124m'\u001b[39m, \u001b[38;5;124m'\u001b[39m\u001b[38;5;124mD\u001b[39m\u001b[38;5;124m'\u001b[39m, \u001b[38;5;124m'\u001b[39m\u001b[38;5;124mI\u001b[39m\u001b[38;5;124m'\u001b[39m],\n\u001b[1;32m   (...)\u001b[0m\n\u001b[0;32m      8\u001b[0m     }\n\u001b[0;32m      9\u001b[0m )\n\u001b[1;32m---> 11\u001b[0m \u001b[43md3\u001b[49m\u001b[38;5;241m.\u001b[39msankey(self_df, filepath\u001b[38;5;241m=\u001b[39m\u001b[38;5;124m'\u001b[39m\u001b[38;5;124msankey.html\u001b[39m\u001b[38;5;124m'\u001b[39m)\n",
      "\u001b[1;31mNameError\u001b[0m: name 'd3' is not defined"
     ]
    }
   ],
   "source": [
    "import pandas as pd\n",
    "\n",
    "self_df = pd.DataFrame(\n",
    "    {\n",
    "        'source': ['A', 'B', 'C', 'D', 'I'],\n",
    "        'target': ['G', 'H', 'I', 'J', 'J'],\n",
    "        'weight': [2, 2, 1, 1, 1]\n",
    "    }\n",
    ")\n",
    "\n",
    "d3.sankey(self_df, filepath='sankey.html')"
   ]
  },
  {
   "cell_type": "code",
   "execution_count": 170,
   "metadata": {},
   "outputs": [],
   "source": [
    "import sys\n",
    "import pypsa\n",
    "import numpy as np\n",
    "import pandas as pd\n",
    "from pathlib import Path\n",
    "import matplotlib.pyplot as plt\n",
    "\n",
    "from plotting_constants import nice_names, color_dict, stack_to_ax\n",
    "\n",
    "sys.path.append(str(Path.cwd().parent / 'scripts'))\n",
    "from _helpers import classify_north_south\n",
    "\n",
    "idx = pd.IndexSlice"
   ]
  },
  {
   "cell_type": "code",
   "execution_count": 171,
   "metadata": {},
   "outputs": [],
   "source": [
    "day = '2022-07-22'"
   ]
  },
  {
   "cell_type": "code",
   "execution_count": 172,
   "metadata": {},
   "outputs": [],
   "source": [
    "# rev_path = str(Path.cwd().parent / 'summaries' / 'total_summary_revenues_flex_{}.csv')\n",
    "rev_path = str(Path.cwd().parent / 'results' / f'{day}' / 'bmu_revenues_flex_{}.csv')\n",
    "\n",
    "rev_national = pd.read_csv(rev_path.format('national'), index_col=0, header=[0,1,2], parse_dates=True).sum().mul(1e-6)\n",
    "rev_zonal = pd.read_csv(rev_path.format('zonal'), index_col=0, header=[0,1,2], parse_dates=True).sum().mul(1e-6)"
   ]
  },
  {
   "cell_type": "code",
   "execution_count": 173,
   "metadata": {},
   "outputs": [],
   "source": [
    "rev_national = pd.concat((\n",
    "    rev_national.loc[idx[:, ['wind', 'disp', 'hydro', 'storage'], :]],\n",
    "    pd.Series(rev_national.loc[idx[:, 'intercon', :]].sum(), index=pd.MultiIndex.from_tuples([('total', 'interconnector', 'wholesale')]))\n",
    "))\n",
    "\n",
    "rev_zonal = pd.concat((\n",
    "    rev_zonal.loc[idx[:, ['wind', 'disp', 'hydro', 'storage'], :]],\n",
    "    pd.Series(rev_zonal.loc[idx[:, 'intercon', :]].sum(), index=pd.MultiIndex.from_tuples([('total', 'interconnector', 'wholesale')]))\n",
    "))"
   ]
  },
  {
   "cell_type": "code",
   "execution_count": 174,
   "metadata": {},
   "outputs": [
    {
     "data": {
      "text/html": [
       "<div>\n",
       "<style scoped>\n",
       "    .dataframe tbody tr th:only-of-type {\n",
       "        vertical-align: middle;\n",
       "    }\n",
       "\n",
       "    .dataframe tbody tr th {\n",
       "        vertical-align: top;\n",
       "    }\n",
       "\n",
       "    .dataframe thead th {\n",
       "        text-align: right;\n",
       "    }\n",
       "</style>\n",
       "<table border=\"1\" class=\"dataframe\">\n",
       "  <thead>\n",
       "    <tr style=\"text-align: right;\">\n",
       "      <th></th>\n",
       "      <th></th>\n",
       "      <th>nodal</th>\n",
       "      <th>zonal</th>\n",
       "      <th>national</th>\n",
       "    </tr>\n",
       "    <tr>\n",
       "      <th>snapshot</th>\n",
       "      <th></th>\n",
       "      <th></th>\n",
       "      <th></th>\n",
       "      <th></th>\n",
       "    </tr>\n",
       "  </thead>\n",
       "  <tbody>\n",
       "    <tr>\n",
       "      <th rowspan=\"5\" valign=\"top\">2022-07-21 23:00:00</th>\n",
       "      <th>wholesale</th>\n",
       "      <td>3.024310</td>\n",
       "      <td>3.018061</td>\n",
       "      <td>3.018061</td>\n",
       "    </tr>\n",
       "    <tr>\n",
       "      <th>congestion_rent</th>\n",
       "      <td>-0.034638</td>\n",
       "      <td>-0.000000</td>\n",
       "      <td>0.000000</td>\n",
       "    </tr>\n",
       "    <tr>\n",
       "      <th>cfd_payments</th>\n",
       "      <td>-0.069451</td>\n",
       "      <td>-0.069140</td>\n",
       "      <td>-0.069140</td>\n",
       "    </tr>\n",
       "    <tr>\n",
       "      <th>roc_payments</th>\n",
       "      <td>0.061326</td>\n",
       "      <td>0.061326</td>\n",
       "      <td>0.061326</td>\n",
       "    </tr>\n",
       "    <tr>\n",
       "      <th>offer_cost</th>\n",
       "      <td>0.000000</td>\n",
       "      <td>0.008303</td>\n",
       "      <td>0.008303</td>\n",
       "    </tr>\n",
       "  </tbody>\n",
       "</table>\n",
       "</div>"
      ],
      "text/plain": [
       "                                        nodal     zonal  national\n",
       "snapshot                                                         \n",
       "2022-07-21 23:00:00 wholesale        3.024310  3.018061  3.018061\n",
       "                    congestion_rent -0.034638 -0.000000  0.000000\n",
       "                    cfd_payments    -0.069451 -0.069140 -0.069140\n",
       "                    roc_payments     0.061326  0.061326  0.061326\n",
       "                    offer_cost       0.000000  0.008303  0.008303"
      ]
     },
     "execution_count": 174,
     "metadata": {},
     "output_type": "execute_result"
    }
   ],
   "source": [
    "cost_summary = pd.read_csv(\n",
    "    Path.cwd().parent / 'results' / f'{day}' / 'system_cost_summary_flex.csv', \n",
    "    index_col=[0,1],\n",
    "    parse_dates=[0]\n",
    "    )\n",
    "\n",
    "cost_summary.head()"
   ]
  },
  {
   "cell_type": "code",
   "execution_count": 175,
   "metadata": {},
   "outputs": [],
   "source": [
    "mp = pd.read_csv(\n",
    "    Path.cwd().parent / 'results' / f'{day}' / 'marginal_prices_flex.csv',\n",
    "    index_col=0,\n",
    "    parse_dates=[0],\n",
    "    header=[0,1]\n",
    "    )"
   ]
  },
  {
   "cell_type": "code",
   "execution_count": 176,
   "metadata": {},
   "outputs": [],
   "source": [
    "idx = pd.IndexSlice\n",
    "\n",
    "buses = mp.loc[:,idx['zonal',:]].columns.get_level_values(1)"
   ]
  },
  {
   "cell_type": "code",
   "execution_count": 177,
   "metadata": {},
   "outputs": [],
   "source": [
    "weights = pd.read_csv(Path.cwd().parent / 'data' / 'preprocessed' / 'load_weights.csv', index_col=0)\n",
    "\n",
    "weights = weights.loc[buses.astype(int)]\n",
    "weights /= weights.sum()"
   ]
  },
  {
   "cell_type": "code",
   "execution_count": 178,
   "metadata": {},
   "outputs": [
    {
     "data": {
      "text/html": [
       "<div>\n",
       "<style scoped>\n",
       "    .dataframe tbody tr th:only-of-type {\n",
       "        vertical-align: middle;\n",
       "    }\n",
       "\n",
       "    .dataframe tbody tr th {\n",
       "        vertical-align: top;\n",
       "    }\n",
       "\n",
       "    .dataframe thead th {\n",
       "        text-align: right;\n",
       "    }\n",
       "</style>\n",
       "<table border=\"1\" class=\"dataframe\">\n",
       "  <thead>\n",
       "    <tr style=\"text-align: right;\">\n",
       "      <th>Bus</th>\n",
       "      <th>4950</th>\n",
       "      <th>4951</th>\n",
       "      <th>4952</th>\n",
       "      <th>4953</th>\n",
       "      <th>4955</th>\n",
       "      <th>4956</th>\n",
       "      <th>4958</th>\n",
       "      <th>4960</th>\n",
       "      <th>4961</th>\n",
       "      <th>4962</th>\n",
       "      <th>...</th>\n",
       "      <th>8515</th>\n",
       "      <th>8529</th>\n",
       "      <th>8565</th>\n",
       "      <th>8575</th>\n",
       "      <th>8578</th>\n",
       "      <th>8649</th>\n",
       "      <th>8744</th>\n",
       "      <th>8747</th>\n",
       "      <th>8838</th>\n",
       "      <th>8860</th>\n",
       "    </tr>\n",
       "    <tr>\n",
       "      <th>snapshot</th>\n",
       "      <th></th>\n",
       "      <th></th>\n",
       "      <th></th>\n",
       "      <th></th>\n",
       "      <th></th>\n",
       "      <th></th>\n",
       "      <th></th>\n",
       "      <th></th>\n",
       "      <th></th>\n",
       "      <th></th>\n",
       "      <th></th>\n",
       "      <th></th>\n",
       "      <th></th>\n",
       "      <th></th>\n",
       "      <th></th>\n",
       "      <th></th>\n",
       "      <th></th>\n",
       "      <th></th>\n",
       "      <th></th>\n",
       "      <th></th>\n",
       "      <th></th>\n",
       "    </tr>\n",
       "  </thead>\n",
       "  <tbody>\n",
       "    <tr>\n",
       "      <th>2022-07-21 23:00:00</th>\n",
       "      <td>102.157071</td>\n",
       "      <td>92.522278</td>\n",
       "      <td>91.885239</td>\n",
       "      <td>90.594767</td>\n",
       "      <td>81.147620</td>\n",
       "      <td>139.781862</td>\n",
       "      <td>68.334422</td>\n",
       "      <td>39.814142</td>\n",
       "      <td>55.418409</td>\n",
       "      <td>141.115608</td>\n",
       "      <td>...</td>\n",
       "      <td>201.503383</td>\n",
       "      <td>203.366114</td>\n",
       "      <td>20.855174</td>\n",
       "      <td>192.188464</td>\n",
       "      <td>138.874392</td>\n",
       "      <td>129.553317</td>\n",
       "      <td>12.302102</td>\n",
       "      <td>131.972874</td>\n",
       "      <td>82.343258</td>\n",
       "      <td>117.013057</td>\n",
       "    </tr>\n",
       "    <tr>\n",
       "      <th>2022-07-21 23:30:00</th>\n",
       "      <td>101.051524</td>\n",
       "      <td>91.520999</td>\n",
       "      <td>90.890854</td>\n",
       "      <td>89.614347</td>\n",
       "      <td>80.269438</td>\n",
       "      <td>138.269138</td>\n",
       "      <td>67.594905</td>\n",
       "      <td>39.383272</td>\n",
       "      <td>54.818669</td>\n",
       "      <td>139.588451</td>\n",
       "      <td>...</td>\n",
       "      <td>199.322707</td>\n",
       "      <td>201.165280</td>\n",
       "      <td>20.629479</td>\n",
       "      <td>190.108594</td>\n",
       "      <td>137.371489</td>\n",
       "      <td>128.151287</td>\n",
       "      <td>12.168968</td>\n",
       "      <td>130.544659</td>\n",
       "      <td>81.452136</td>\n",
       "      <td>115.746737</td>\n",
       "    </tr>\n",
       "    <tr>\n",
       "      <th>2022-07-22 00:00:00</th>\n",
       "      <td>97.610752</td>\n",
       "      <td>88.404739</td>\n",
       "      <td>87.796049</td>\n",
       "      <td>86.563008</td>\n",
       "      <td>77.536289</td>\n",
       "      <td>133.561118</td>\n",
       "      <td>65.293320</td>\n",
       "      <td>38.042284</td>\n",
       "      <td>52.952111</td>\n",
       "      <td>134.835509</td>\n",
       "      <td>...</td>\n",
       "      <td>192.535833</td>\n",
       "      <td>194.315667</td>\n",
       "      <td>19.927052</td>\n",
       "      <td>183.635458</td>\n",
       "      <td>132.694034</td>\n",
       "      <td>123.787777</td>\n",
       "      <td>11.754619</td>\n",
       "      <td>126.099655</td>\n",
       "      <td>78.678717</td>\n",
       "      <td>111.805598</td>\n",
       "    </tr>\n",
       "    <tr>\n",
       "      <th>2022-07-22 00:30:00</th>\n",
       "      <td>97.111084</td>\n",
       "      <td>87.952196</td>\n",
       "      <td>87.346623</td>\n",
       "      <td>86.119893</td>\n",
       "      <td>77.139382</td>\n",
       "      <td>132.877422</td>\n",
       "      <td>64.959085</td>\n",
       "      <td>37.847546</td>\n",
       "      <td>52.681050</td>\n",
       "      <td>134.145288</td>\n",
       "      <td>...</td>\n",
       "      <td>191.550245</td>\n",
       "      <td>193.320968</td>\n",
       "      <td>19.825045</td>\n",
       "      <td>182.695431</td>\n",
       "      <td>132.014776</td>\n",
       "      <td>123.154109</td>\n",
       "      <td>11.694447</td>\n",
       "      <td>125.454154</td>\n",
       "      <td>78.275962</td>\n",
       "      <td>111.233267</td>\n",
       "    </tr>\n",
       "    <tr>\n",
       "      <th>2022-07-22 01:00:00</th>\n",
       "      <td>94.955182</td>\n",
       "      <td>85.999625</td>\n",
       "      <td>85.407495</td>\n",
       "      <td>84.207999</td>\n",
       "      <td>75.426859</td>\n",
       "      <td>129.927493</td>\n",
       "      <td>63.516969</td>\n",
       "      <td>37.007317</td>\n",
       "      <td>51.511511</td>\n",
       "      <td>131.167213</td>\n",
       "      <td>...</td>\n",
       "      <td>187.297758</td>\n",
       "      <td>189.029170</td>\n",
       "      <td>19.384922</td>\n",
       "      <td>178.639524</td>\n",
       "      <td>129.083998</td>\n",
       "      <td>120.420042</td>\n",
       "      <td>11.434826</td>\n",
       "      <td>122.669024</td>\n",
       "      <td>76.538207</td>\n",
       "      <td>108.763847</td>\n",
       "    </tr>\n",
       "  </tbody>\n",
       "</table>\n",
       "<p>5 rows × 284 columns</p>\n",
       "</div>"
      ],
      "text/plain": [
       "Bus                        4950       4951       4952       4953       4955  \\\n",
       "snapshot                                                                      \n",
       "2022-07-21 23:00:00  102.157071  92.522278  91.885239  90.594767  81.147620   \n",
       "2022-07-21 23:30:00  101.051524  91.520999  90.890854  89.614347  80.269438   \n",
       "2022-07-22 00:00:00   97.610752  88.404739  87.796049  86.563008  77.536289   \n",
       "2022-07-22 00:30:00   97.111084  87.952196  87.346623  86.119893  77.139382   \n",
       "2022-07-22 01:00:00   94.955182  85.999625  85.407495  84.207999  75.426859   \n",
       "\n",
       "Bus                        4956       4958       4960       4961        4962  \\\n",
       "snapshot                                                                       \n",
       "2022-07-21 23:00:00  139.781862  68.334422  39.814142  55.418409  141.115608   \n",
       "2022-07-21 23:30:00  138.269138  67.594905  39.383272  54.818669  139.588451   \n",
       "2022-07-22 00:00:00  133.561118  65.293320  38.042284  52.952111  134.835509   \n",
       "2022-07-22 00:30:00  132.877422  64.959085  37.847546  52.681050  134.145288   \n",
       "2022-07-22 01:00:00  129.927493  63.516969  37.007317  51.511511  131.167213   \n",
       "\n",
       "Bus                  ...        8515        8529       8565        8575  \\\n",
       "snapshot             ...                                                  \n",
       "2022-07-21 23:00:00  ...  201.503383  203.366114  20.855174  192.188464   \n",
       "2022-07-21 23:30:00  ...  199.322707  201.165280  20.629479  190.108594   \n",
       "2022-07-22 00:00:00  ...  192.535833  194.315667  19.927052  183.635458   \n",
       "2022-07-22 00:30:00  ...  191.550245  193.320968  19.825045  182.695431   \n",
       "2022-07-22 01:00:00  ...  187.297758  189.029170  19.384922  178.639524   \n",
       "\n",
       "Bus                        8578        8649       8744        8747       8838  \\\n",
       "snapshot                                                                        \n",
       "2022-07-21 23:00:00  138.874392  129.553317  12.302102  131.972874  82.343258   \n",
       "2022-07-21 23:30:00  137.371489  128.151287  12.168968  130.544659  81.452136   \n",
       "2022-07-22 00:00:00  132.694034  123.787777  11.754619  126.099655  78.678717   \n",
       "2022-07-22 00:30:00  132.014776  123.154109  11.694447  125.454154  78.275962   \n",
       "2022-07-22 01:00:00  129.083998  120.420042  11.434826  122.669024  76.538207   \n",
       "\n",
       "Bus                        8860  \n",
       "snapshot                         \n",
       "2022-07-21 23:00:00  117.013057  \n",
       "2022-07-21 23:30:00  115.746737  \n",
       "2022-07-22 00:00:00  111.805598  \n",
       "2022-07-22 00:30:00  111.233267  \n",
       "2022-07-22 01:00:00  108.763847  \n",
       "\n",
       "[5 rows x 284 columns]"
      ]
     },
     "execution_count": 178,
     "metadata": {},
     "output_type": "execute_result"
    }
   ],
   "source": [
    "load = pd.read_csv(\n",
    "    Path.cwd().parent / 'results' / f'{day}' / 'gb_total_load_flex.csv',\n",
    "    index_col=0,\n",
    "    parse_dates=[0]\n",
    ").rename(columns={'0': 'load'})\n",
    "\n",
    "load = pd.DataFrame(\n",
    "    np.outer(load.values, weights.values),\n",
    "    index=load.index,\n",
    "    columns=weights.index.astype(str)\n",
    "    )\n",
    "\n",
    "load.head()"
   ]
  },
  {
   "cell_type": "code",
   "execution_count": 179,
   "metadata": {},
   "outputs": [
    {
     "name": "stderr",
     "output_type": "stream",
     "text": [
      "WARNING:pypsa.io:Importing network from PyPSA version v0.31.0 while current version is v0.32.0. Read the release notes at https://pypsa.readthedocs.io/en/latest/release_notes.html to prepare your network for import.\n",
      "INFO:pypsa.io:Imported network network_flex_s_nodal.nc has buses, carriers, generators, links, loads, storage_units\n"
     ]
    }
   ],
   "source": [
    "network = pypsa.Network(\n",
    "    Path.cwd().parent / 'results' / f'{day}' / 'network_flex_s_nodal.nc'\n",
    ")\n",
    "buses = network.buses[['x', 'y']]\n",
    "buses.loc[:, ['region']] = buses.apply(lambda x: classify_north_south(x['x'], x['y']), axis=1)"
   ]
  },
  {
   "cell_type": "code",
   "execution_count": 180,
   "metadata": {},
   "outputs": [
    {
     "name": "stdout",
     "output_type": "stream",
     "text": [
      "(48, 60)\n",
      "(48, 224)\n"
     ]
    }
   ],
   "source": [
    "north_loads = load.loc[:, buses.loc[buses.region == 'north'].index]\n",
    "south_loads = load.loc[:, buses.loc[buses.region == 'south'].index.intersection(load.columns)]\n",
    "\n",
    "print(north_loads.shape)\n",
    "print(south_loads.shape)"
   ]
  },
  {
   "cell_type": "code",
   "execution_count": 181,
   "metadata": {},
   "outputs": [
    {
     "data": {
      "text/plain": [
       "wholesale  north       national      6.550780\n",
       "                       zonal         6.550780\n",
       "           south       national    192.823569\n",
       "                       zonal       192.823569\n",
       "roc        socialised  national      2.927434\n",
       "                       zonal         2.927434\n",
       "cfd        socialised  national     -4.026601\n",
       "                       zonal        -4.026601\n",
       "bids       socialised  national     -0.108988\n",
       "                       zonal        -0.108988\n",
       "offers     socialised  national      0.284674\n",
       "                       zonal         0.284674\n",
       "cfd        socialised  national     -4.026601\n",
       "                       zonal        -4.026601\n",
       "dtype: float64"
      ]
     },
     "execution_count": 181,
     "metadata": {},
     "output_type": "execute_result"
    }
   ],
   "source": [
    "import warnings\n",
    "warnings.filterwarnings('ignore')\n",
    "\n",
    "def get_wholesale_costs(mp, loads, mode):\n",
    "\n",
    "    idx = pd.IndexSlice\n",
    "\n",
    "    if mode == 'national':\n",
    "        return np.inner(\n",
    "            loads.sum(axis=1).values,\n",
    "            mp.loc[:,idx['national', 'GB']].values\n",
    "            ) * 0.5\n",
    "        \n",
    "    elif mode == 'zonal':\n",
    "        total = 0\n",
    "        for col in loads.columns:\n",
    "            total += np.inner(\n",
    "                loads.loc[:,col].values,\n",
    "                mp.loc[:,idx['zonal', col]].values\n",
    "                )\n",
    "        return total * 0.5\n",
    "\n",
    "\n",
    "costs = pd.Series(0, # is in units M£\n",
    "    index=pd.MultiIndex.from_product([\n",
    "        ['wholesale'],\n",
    "        ['north', 'south'],\n",
    "        ['national', 'zonal']\n",
    "        ]\n",
    "    ).append(\n",
    "        pd.MultiIndex.from_product([\n",
    "            ['roc', 'cfd', 'bids', 'offers', 'cfd'],\n",
    "            ['socialised'],\n",
    "            ['national', 'zonal']\n",
    "            ]\n",
    "        )\n",
    "    )\n",
    ")\n",
    "\n",
    "costs.loc[idx['wholesale', 'north', 'national']] = get_wholesale_costs(mp, north_loads, 'national') * 1e-6\n",
    "costs.loc[idx['wholesale', 'south', 'national']] = get_wholesale_costs(mp, south_loads, 'national') * 1e-6\n",
    "costs.loc[idx['wholesale', 'north', 'zonal']] = get_wholesale_costs(mp, north_loads, 'zonal') * 1e-6\n",
    "costs.loc[idx['wholesale', 'south', 'zonal']] = get_wholesale_costs(mp, south_loads, 'zonal') * 1e-6\n",
    "\n",
    "costs.loc[idx['roc', 'socialised', 'national']] = cost_summary.loc[idx[:, 'roc_payments'], 'national'].sum()\n",
    "costs.loc[idx['cfd', 'socialised', 'national']] = cost_summary.loc[idx[:, 'cfd_payments'], 'national'].sum()\n",
    "costs.loc[idx['bids', 'socialised', 'national']] = cost_summary.loc[idx[:, 'bid_cost'], 'national'].sum()\n",
    "costs.loc[idx['offers', 'socialised', 'national']] = cost_summary.loc[idx[:, 'offer_cost'], 'national'].sum()\n",
    "costs.loc[idx['cfd', 'socialised', 'national']] = cost_summary.loc[idx[:, 'cfd_payments'], 'national'].sum()\n",
    "\n",
    "costs.loc[idx['roc', 'socialised', 'zonal']] = cost_summary.loc[idx[:, 'roc_payments'], 'zonal'].sum()\n",
    "costs.loc[idx['cfd', 'socialised', 'zonal']] = cost_summary.loc[idx[:, 'cfd_payments'], 'zonal'].sum()\n",
    "costs.loc[idx['bids', 'socialised', 'zonal']] = cost_summary.loc[idx[:, 'bid_cost'], 'zonal'].sum()\n",
    "costs.loc[idx['offers', 'socialised', 'zonal']] = cost_summary.loc[idx[:, 'offer_cost'], 'zonal'].sum()\n",
    "costs.loc[idx['cfd', 'socialised', 'zonal']] = cost_summary.loc[idx[:, 'cfd_payments'], 'zonal'].sum()\n",
    "\n",
    "costs"
   ]
  },
  {
   "cell_type": "code",
   "execution_count": 182,
   "metadata": {},
   "outputs": [],
   "source": [
    "def get_consumer_box_limits(costs, mode, gap):\n",
    "\n",
    "    box1 = costs.loc[idx['wholesale', 'north', mode]].sum()\n",
    "    box2 = costs.loc[idx['wholesale', 'south', mode]].sum()\n",
    "    box3 = costs.loc[idx[:, 'socialised', mode]].sum()\n",
    "\n",
    "    total = box1 + box2 + box3\n",
    "\n",
    "    box1 = box1 / total\n",
    "    box2 = box2 / total\n",
    "    box3 = box3 / total\n",
    "\n",
    "    box1_upper = 1\n",
    "    box1_lower = box1_upper - box1\n",
    "\n",
    "    box2_upper = box1_lower - gap\n",
    "    box2_lower = box2_upper - box2\n",
    "\n",
    "    box3_upper = box2_lower - gap\n",
    "    box3_lower = box3_upper - box3\n",
    "\n",
    "    return (\n",
    "        (box1_upper, box1_lower),\n",
    "        (box2_upper, box2_lower),\n",
    "        (box3_upper, box3_lower)\n",
    "    )\n",
    "\n",
    "\n",
    "gap = 0.02\n",
    "box_width = 0.03\n",
    "left_end = 0.\n",
    "right_end = 1.\n",
    "\n",
    "con_n, con_z, soc = get_consumer_box_limits(costs, 'national', gap)"
   ]
  },
  {
   "cell_type": "code",
   "execution_count": 183,
   "metadata": {},
   "outputs": [],
   "source": [
    "def get_generator_box_limits(revs, gap):\n",
    "\n",
    "    box_heights = {}\n",
    "\n",
    "    revs = revs.copy() / revs.sum()\n",
    "\n",
    "    for region, carrier in zip(revs.index.get_level_values(0), revs.index.get_level_values(1)):\n",
    "\n",
    "        box_heights[(region, carrier)] = revs.loc[idx[region, carrier, :]].sum()\n",
    "\n",
    "    box_upper = {}\n",
    "    box_lower = {}\n",
    "\n",
    "    box_upper[('north', 'wind')] = 1\n",
    "    box_lower[('north', 'wind')] = box_upper[('north', 'wind')] - box_heights[('north', 'wind')]\n",
    "\n",
    "    box_upper[('north', 'disp')] = box_lower[('north', 'wind')] - gap\n",
    "    box_lower[('north', 'disp')] = box_upper[('north', 'disp')] - box_heights[('north', 'disp')]\n",
    "\n",
    "    box_upper[('north', 'hydro')] = box_lower[('north', 'disp')] - gap\n",
    "    box_lower[('north', 'hydro')] = box_upper[('north', 'hydro')] - box_heights[('north', 'hydro')]\n",
    "\n",
    "    box_upper[('north', 'storage')] = box_lower[('north', 'hydro')] - gap\n",
    "    box_lower[('north', 'storage')] = box_upper[('north', 'storage')] - box_heights[('north', 'storage')]\n",
    "\n",
    "    box_upper[('south', 'wind')] = box_lower[('north', 'storage')] - gap\n",
    "    box_lower[('south', 'wind')] = box_upper[('south', 'wind')] - box_heights[('south', 'wind')]\n",
    "\n",
    "    box_upper[('south', 'disp')] = box_lower[('south', 'wind')] - gap\n",
    "    box_lower[('south', 'disp')] = box_upper[('south', 'disp')] - box_heights[('south', 'disp')]\n",
    "\n",
    "    box_upper[('south', 'hydro')] = box_lower[('south', 'disp')] - gap\n",
    "    box_lower[('south', 'hydro')] = box_upper[('south', 'hydro')] - box_heights[('south', 'hydro')]\n",
    "\n",
    "    box_upper[('south', 'storage')] = box_lower[('south', 'hydro')] - gap\n",
    "    box_lower[('south', 'storage')] = box_upper[('south', 'storage')] - box_heights[('south', 'storage')]\n",
    "\n",
    "    box_upper[('total', 'interconnector')] = box_lower[('south', 'storage')] - gap\n",
    "    box_lower[('total', 'interconnector')] = box_upper[('total', 'interconnector')] - box_heights[('total', 'interconnector')]\n",
    "\n",
    "    return box_lower, box_upper\n",
    "\n",
    "rev_lowers, rev_uppers = get_generator_box_limits(rev_national, gap)"
   ]
  },
  {
   "cell_type": "code",
   "execution_count": 184,
   "metadata": {},
   "outputs": [],
   "source": [
    "rev_flows = rev_national.copy() / rev_national.sum()\n"
   ]
  },
  {
   "cell_type": "code",
   "execution_count": 185,
   "metadata": {},
   "outputs": [
    {
     "data": {
      "text/plain": [
       "(1, 0.9663067795865647)"
      ]
     },
     "execution_count": 185,
     "metadata": {},
     "output_type": "execute_result"
    }
   ],
   "source": [
    "con_n"
   ]
  },
  {
   "cell_type": "code",
   "execution_count": 186,
   "metadata": {},
   "outputs": [],
   "source": [
    "# Helper function to draw curved flow paths\n",
    "def bezier_path(start, end, turning_ratio, num_samples=100):\n",
    "    \"\"\"\n",
    "    Creates a smooth cubic Bézier curve as a NumPy array of points,\n",
    "    suitable for use in Sankey diagrams.\n",
    "\n",
    "    Parameters:\n",
    "        start (tuple or list): (x, y) coordinates for the starting point.\n",
    "        end (tuple or list): (x, y) coordinates for the ending point.\n",
    "        turning_ratio (float): A value between 0 and 1 that defines the x-position\n",
    "                               of the turning point. A value of 0 means the turning\n",
    "                               point is at the start's x-coordinate, while 1 is at the end's.\n",
    "        num_samples (int): The number of points to sample along the curve.\n",
    "\n",
    "    Returns:\n",
    "        numpy.ndarray: An array of shape (num_samples, 2) with the (x, y) coordinates of the curve.\n",
    "    \"\"\"\n",
    "    # Convert start and end to NumPy arrays\n",
    "    start = np.array(start, dtype=float)\n",
    "    end = np.array(end, dtype=float)\n",
    "    \n",
    "    # Compute the common x-coordinate for both control points based on turning_ratio\n",
    "    cp_x = start[0] + turning_ratio * (end[0] - start[0])\n",
    "    \n",
    "    # Define control points\n",
    "    cp1 = np.array([cp_x, start[1]])\n",
    "    cp2 = np.array([cp_x, end[1]])\n",
    "    \n",
    "    # Create an array of parameter values t in [0, 1]\n",
    "    t = np.linspace(0, 1, num_samples).reshape(-1, 1)  # shape (num_samples, 1)\n",
    "    one_minus_t = 1 - t\n",
    "\n",
    "    # Evaluate the cubic Bézier curve at each t using the formula:\n",
    "    # B(t) = (1-t)^3 * P0 + 3*(1-t)^2*t * P1 + 3*(1-t)*t^2 * P2 + t^3 * P3\n",
    "    curve = (one_minus_t**3) * start + \\\n",
    "            3 * (one_minus_t**2) * t * cp1 + \\\n",
    "            3 * one_minus_t * (t**2) * cp2 + \\\n",
    "            (t**3) * end\n",
    "\n",
    "    return curve[:,0], curve[:,1]"
   ]
  },
  {
   "cell_type": "code",
   "execution_count": 187,
   "metadata": {},
   "outputs": [
    {
     "data": {
      "text/plain": [
       "(1, 0.9663067795865647)"
      ]
     },
     "execution_count": 187,
     "metadata": {},
     "output_type": "execute_result"
    }
   ],
   "source": [
    "con_n"
   ]
  },
  {
   "cell_type": "code",
   "execution_count": 188,
   "metadata": {},
   "outputs": [
    {
     "data": {
      "text/plain": [
       "{('north', 'wind'): 1,\n",
       " ('north', 'disp'): 0.9647785058023423,\n",
       " ('north', 'hydro'): 0.8952461054223562,\n",
       " ('north', 'storage'): 0.8604372144140447,\n",
       " ('south', 'wind'): 0.8398076152737074,\n",
       " ('south', 'disp'): 0.7766048539619006,\n",
       " ('south', 'hydro'): -0.07074548696335102,\n",
       " ('south', 'storage'): -0.09124986879888497,\n",
       " ('total', 'interconnector'): -0.11378623239787261}"
      ]
     },
     "execution_count": 188,
     "metadata": {},
     "output_type": "execute_result"
    }
   ],
   "source": [
    "rev_uppers"
   ]
  },
  {
   "cell_type": "code",
   "execution_count": 189,
   "metadata": {},
   "outputs": [
    {
     "data": {
      "text/plain": [
       "(-0.06546020789342465, -0.03999999999999997)"
      ]
     },
     "execution_count": 189,
     "metadata": {},
     "output_type": "execute_result"
    }
   ],
   "source": [
    "soc"
   ]
  },
  {
   "cell_type": "code",
   "execution_count": 190,
   "metadata": {},
   "outputs": [
    {
     "data": {
      "image/png": "[encoded data removed]",
      "text/plain": [
       "<Figure size 1200x600 with 1 Axes>"
      ]
     },
     "metadata": {},
     "output_type": "display_data"
    }
   ],
   "source": [
    "fig, ax = plt.subplots(figsize=(12, 6))\n",
    "\n",
    "# Draw three rectangles on left side using box limits\n",
    "ax.add_patch(plt.Rectangle((left_end, con_n[1]), box_width, con_n[0]-con_n[1], facecolor='lightblue', alpha=0.8))\n",
    "ax.add_patch(plt.Rectangle((left_end, con_z[1]), box_width, con_z[0]-con_z[1], facecolor='lightgreen', alpha=0.8))\n",
    "ax.add_patch(plt.Rectangle((left_end, soc[1]), box_width, soc[0]-soc[1], facecolor='lightpink', alpha=0.8))\n",
    "\n",
    "for lower, upper in zip(rev_lowers.values(), rev_uppers.values()):\n",
    "    ax.add_patch(plt.Rectangle((right_end - box_width, lower), box_width, upper-lower, facecolor='lightblue', alpha=0.8))\n",
    "\n",
    "\n",
    "\n",
    "def add_flow(ax, left_upper, right_upper, box_width, volume, tp=0.5):\n",
    "\n",
    "    start = (box_width, left_upper - volume/2)\n",
    "    end = (1-box_width, right_upper - volume/2)\n",
    "\n",
    "    x, y = bezier_path(start, end, tp)\n",
    "    ax.fill_between(x, y-volume/2, y+volume/2, alpha=0.5, color='r')\n",
    "\n",
    "\n",
    "add_flow(\n",
    "    ax,\n",
    "    soc[0],\n",
    "    rev_uppers[('north', 'wind')],\n",
    "    box_width,\n",
    "    rev_flows.loc[idx['north', 'wind', 'roc']],\n",
    "    )\n",
    "\n",
    "ax.axis('off')\n",
    "plt.show()"
   ]
  },
  {
   "cell_type": "code",
   "execution_count": 166,
   "metadata": {},
   "outputs": [
    {
     "data": {
      "text/plain": [
       "{('north', 'wind'): 1,\n",
       " ('north', 'disp'): 0.6373634114479054,\n",
       " ('north', 'hydro'): 0.616861272342654,\n",
       " ('north', 'storage'): 0.5858894748202965,\n",
       " ('south', 'wind'): 0.5647625529746111,\n",
       " ('south', 'disp'): 0.1618262638915575,\n",
       " ('south', 'hydro'): -0.08766582736524565,\n",
       " ('south', 'storage'): -0.10787788701136596,\n",
       " ('total', 'interconnector'): -0.13217607451181007}"
      ]
     },
     "execution_count": 166,
     "metadata": {},
     "output_type": "execute_result"
    }
   ],
   "source": [
    "rev_uppers"
   ]
  },
  {
   "cell_type": "code",
   "execution_count": null,
   "metadata": {},
   "outputs": [
    {
     "data": {
      "image/png": "[encoded data removed]",
      "text/plain": [
       "<Figure size 1000x800 with 1 Axes>"
      ]
     },
     "metadata": {},
     "output_type": "display_data"
    }
   ],
   "source": [
    "import matplotlib.pyplot as plt\n",
    "import numpy as np\n",
    "\n",
    "# Create example Sankey data\n",
    "nodes = ['Wind', 'Gas', 'Solar', 'Consumers', 'Storage']\n",
    "flows = [\n",
    "    ('Wind', 'Consumers', 0.2),\n",
    "    ('Gas', 'Other Consumers', 0.3),\n",
    "    # ('Solar', 'Storage', 20),\n",
    "    # ('Storage', 'Consumers', 15),\n",
    "]\n",
    "\n",
    "# Create figure and axis\n",
    "fig, ax = plt.subplots(figsize=(10, 8))\n",
    "\n",
    "# Set node positions\n",
    "node_pos = {\n",
    "    'Wind': (0, 0.8),\n",
    "    'Gas': (0, 0.6), \n",
    "    'Solar': (0, 0.2),\n",
    "    'Storage': (0.5, 0.2),\n",
    "    'Consumers': (1, 0.5),\n",
    "    'Other Consumers': (1, 0.3)\n",
    "}\n",
    "\n",
    "# Draw flows\n",
    "colors = plt.cm.Set3(np.linspace(0, 1, len(flows)))\n",
    "\n",
    "for (source, target, value), color in zip(flows, colors):\n",
    "\n",
    "    r = np.random.rand() * 0.5\n",
    "    x, y = bezier_path(node_pos[source], node_pos[target], r)\n",
    "\n",
    "    ax.fill_between(x, y-value/2, y+value/2, alpha=0.5, color=color)\n",
    "\n",
    "# Draw nodes\n",
    "for node, (x, y) in node_pos.items():\n",
    "    ax.text(x, y, node, ha='center', va='center')\n",
    "\n",
    "# Configure plot\n",
    "ax.set_xlim(-0.1, 1.1)\n",
    "ax.set_ylim(0, 1)\n",
    "ax.axis('off')\n",
    "ax.set_title('Energy Flow Sankey Diagram')\n",
    "\n",
    "# plt.savefig('dummy_sankey.pdfk')\n",
    "plt.show()"
   ]
  },
  {
   "cell_type": "code",
   "execution_count": 142,
   "metadata": {},
   "outputs": [
    {
     "data": {
      "image/png": "[encoded data removed]",
      "text/plain": [
       "<Figure size 640x480 with 1 Axes>"
      ]
     },
     "metadata": {},
     "output_type": "display_data"
    }
   ],
   "source": [
    "import numpy as np\n",
    "\n",
    "\n",
    "# Example usage:\n",
    "if __name__ == \"__main__\":\n",
    "    start_point = (10, 20)\n",
    "    end_point = (200, 80)\n",
    "    turning_ratio = 0.7  # symmetric turning point along the x-axis\n",
    "    bezier_points = create_bezier_curve(start_point, end_point, turning_ratio, num_samples=100)\n",
    "    \n",
    "\n",
    "    x = bezier_points[:,0]\n",
    "    y = bezier_points[:,1]\n",
    "\n",
    "    plt.plot(x, y)"
   ]
  }
 ],
 "metadata": {
  "kernelspec": {
   "display_name": "Python 3",
   "language": "python",
   "name": "python3"
  },
  "language_info": {
   "codemirror_mode": {
    "name": "ipython",
    "version": 3
   },
   "file_extension": ".py",
   "mimetype": "text/x-python",
   "name": "python",
   "nbconvert_exporter": "python",
   "pygments_lexer": "ipython3",
   "version": "3.12.7"
  }
 },
 "nbformat": 4,
 "nbformat_minor": 2
}
