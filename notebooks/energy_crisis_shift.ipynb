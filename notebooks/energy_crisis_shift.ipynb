{
 "cells": [
  {
   "cell_type": "code",
   "execution_count": 1,
   "metadata": {},
   "outputs": [],
   "source": [
    "import pypsa\n",
    "import numpy as np\n",
    "import pandas as pd\n",
    "import geopandas as gpd\n",
    "from pathlib import Path\n",
    "import matplotlib.pyplot as plt\n",
    "\n",
    "from plotting_constants import nice_names, color_dict"
   ]
  },
  {
   "cell_type": "code",
   "execution_count": 2,
   "metadata": {},
   "outputs": [],
   "source": [
    "# start, end = '2022-01-01', '2023-06-30'\n",
    "start, end = '2022-01-01', '2024-12-31'\n",
    "# start, end = '2022-01-01', '2022-12-31'\n",
    "\n",
    "date_range = pd.date_range(start, end).strftime('%Y-%m-%d')"
   ]
  },
  {
   "cell_type": "code",
   "execution_count": 3,
   "metadata": {},
   "outputs": [
    {
     "name": "stderr",
     "output_type": "stream",
     "text": [
      "C:\\Users\\lukas\\AppData\\Local\\Temp\\ipykernel_14136\\619580916.py:2: UserWarning: Could not infer format, so each element will be parsed individually, falling back to `dateutil`. To ensure parsing is consistent and as-expected, please specify a format.\n",
      "  sc = pd.read_csv(Path.cwd().parent / 'summaries' / 'total_summary_flex.csv', index_col=[0,1], parse_dates=True)\n"
     ]
    }
   ],
   "source": [
    "mp = pd.read_csv(Path.cwd().parent / 'summaries' / 'marginal_prices_summary_flex.csv', index_col=0, parse_dates=True, header=[0,1])\n",
    "sc = pd.read_csv(Path.cwd().parent / 'summaries' / 'total_summary_flex.csv', index_col=[0,1], parse_dates=True)"
   ]
  },
  {
   "cell_type": "code",
   "execution_count": null,
   "metadata": {},
   "outputs": [
    {
     "data": {
      "text/plain": [
       "Index(['wholesale', 'congestion_rent', 'cfd_payments', 'roc_payments',\n",
       "       'offer_cost', 'bid_cost', 'balancing_volume'],\n",
       "      dtype='object')"
      ]
     },
     "execution_count": 4,
     "metadata": {},
     "output_type": "execute_result"
    }
   ],
   "source": [
    "sc.index.get_level_values(1).unique()"
   ]
  },
  {
   "cell_type": "code",
   "execution_count": 5,
   "metadata": {},
   "outputs": [],
   "source": [
    "lw = pd.read_csv(Path.cwd().parent / 'data' / 'prerun' / 'load_weights.csv', index_col=0)\n",
    "lw.index = lw.index.astype(str)"
   ]
  },
  {
   "cell_type": "code",
   "execution_count": 6,
   "metadata": {},
   "outputs": [],
   "source": [
    "regions = gpd.read_file(Path.cwd().parent / 'data' / 'regions_onshore_s.geojson')"
   ]
  },
  {
   "cell_type": "code",
   "execution_count": 7,
   "metadata": {},
   "outputs": [
    {
     "data": {
      "text/html": [
       "<div>\n",
       "<style scoped>\n",
       "    .dataframe tbody tr th:only-of-type {\n",
       "        vertical-align: middle;\n",
       "    }\n",
       "\n",
       "    .dataframe tbody tr th {\n",
       "        vertical-align: top;\n",
       "    }\n",
       "\n",
       "    .dataframe thead th {\n",
       "        text-align: right;\n",
       "    }\n",
       "</style>\n",
       "<table border=\"1\" class=\"dataframe\">\n",
       "  <thead>\n",
       "    <tr style=\"text-align: right;\">\n",
       "      <th></th>\n",
       "      <th>carrier</th>\n",
       "      <th>bus</th>\n",
       "      <th>lon</th>\n",
       "      <th>lat</th>\n",
       "    </tr>\n",
       "    <tr>\n",
       "      <th>NationalGridBmUnit</th>\n",
       "      <th></th>\n",
       "      <th></th>\n",
       "      <th></th>\n",
       "      <th></th>\n",
       "    </tr>\n",
       "  </thead>\n",
       "  <tbody>\n",
       "    <tr>\n",
       "      <th>BRGDG-1</th>\n",
       "      <td>fossil</td>\n",
       "      <td>6038</td>\n",
       "      <td>-0.508006</td>\n",
       "      <td>53.540993</td>\n",
       "    </tr>\n",
       "    <tr>\n",
       "      <th>AG-NHAV02</th>\n",
       "      <td>fossil</td>\n",
       "      <td>5913</td>\n",
       "      <td>-3.781</td>\n",
       "      <td>55.803</td>\n",
       "    </tr>\n",
       "    <tr>\n",
       "      <th>ABERU-1</th>\n",
       "      <td>fossil</td>\n",
       "      <td>6049</td>\n",
       "      <td>-1.270137</td>\n",
       "      <td>53.090486</td>\n",
       "    </tr>\n",
       "    <tr>\n",
       "      <th>BRGG-1</th>\n",
       "      <td>fossil</td>\n",
       "      <td>6042</td>\n",
       "      <td>-0.32959</td>\n",
       "      <td>53.442264</td>\n",
       "    </tr>\n",
       "    <tr>\n",
       "      <th>BRIDU-1</th>\n",
       "      <td>fossil</td>\n",
       "      <td>6037</td>\n",
       "      <td>-0.203475</td>\n",
       "      <td>54.086555</td>\n",
       "    </tr>\n",
       "    <tr>\n",
       "      <th>...</th>\n",
       "      <td>...</td>\n",
       "      <td>...</td>\n",
       "      <td>...</td>\n",
       "      <td>...</td>\n",
       "    </tr>\n",
       "    <tr>\n",
       "      <th>GRAI-6</th>\n",
       "      <td>fossil</td>\n",
       "      <td>4972</td>\n",
       "      <td>0.703125</td>\n",
       "      <td>51.47454</td>\n",
       "    </tr>\n",
       "    <tr>\n",
       "      <th>GRAI-7</th>\n",
       "      <td>fossil</td>\n",
       "      <td>4972</td>\n",
       "      <td>0.703125</td>\n",
       "      <td>51.47454</td>\n",
       "    </tr>\n",
       "    <tr>\n",
       "      <th>GRAI-8</th>\n",
       "      <td>fossil</td>\n",
       "      <td>4972</td>\n",
       "      <td>0.703125</td>\n",
       "      <td>51.47454</td>\n",
       "    </tr>\n",
       "    <tr>\n",
       "      <th>SHBA-1</th>\n",
       "      <td>fossil</td>\n",
       "      <td>6043</td>\n",
       "      <td>-0.131836</td>\n",
       "      <td>53.618579</td>\n",
       "    </tr>\n",
       "    <tr>\n",
       "      <th>SHBA-2</th>\n",
       "      <td>fossil</td>\n",
       "      <td>6043</td>\n",
       "      <td>-0.131836</td>\n",
       "      <td>53.618579</td>\n",
       "    </tr>\n",
       "  </tbody>\n",
       "</table>\n",
       "<p>100 rows × 4 columns</p>\n",
       "</div>"
      ],
      "text/plain": [
       "                   carrier   bus        lon        lat\n",
       "NationalGridBmUnit                                    \n",
       "BRGDG-1             fossil  6038  -0.508006  53.540993\n",
       "AG-NHAV02           fossil  5913     -3.781     55.803\n",
       "ABERU-1             fossil  6049  -1.270137  53.090486\n",
       "BRGG-1              fossil  6042   -0.32959  53.442264\n",
       "BRIDU-1             fossil  6037  -0.203475  54.086555\n",
       "...                    ...   ...        ...        ...\n",
       "GRAI-6              fossil  4972   0.703125   51.47454\n",
       "GRAI-7              fossil  4972   0.703125   51.47454\n",
       "GRAI-8              fossil  4972   0.703125   51.47454\n",
       "SHBA-1              fossil  6043  -0.131836  53.618579\n",
       "SHBA-2              fossil  6043  -0.131836  53.618579\n",
       "\n",
       "[100 rows x 4 columns]"
      ]
     },
     "execution_count": 7,
     "metadata": {},
     "output_type": "execute_result"
    }
   ],
   "source": [
    "bmus = pd.read_csv(Path.cwd().parent / 'data' / 'prerun' / 'prepared_bmus.csv', index_col=0)\n",
    "foss = bmus.loc[bmus.loc[:, 'carrier'] == 'fossil']\n",
    "\n",
    "foss"
   ]
  },
  {
   "cell_type": "code",
   "execution_count": 8,
   "metadata": {},
   "outputs": [],
   "source": [
    "'''\n",
    "loads = []\n",
    "\n",
    "for day in date_range:\n",
    "\n",
    "    try:\n",
    "        n = pypsa.Network(Path.cwd().parent / 'results' / day / 'network_flex_s_national.nc')\n",
    "        l = n.loads.query('carrier == \"electricity\"').index\n",
    "        loads.append(n.loads_t.p_set[l])\n",
    "    except FileNotFoundError:\n",
    "        continue\n",
    "\n",
    "loads = pd.concat(loads)\n",
    "'''\n",
    "\n",
    "# loads = pd.read_csv('hold_loads.csv', index_col=0, parse_dates=True)\n",
    "loads = pd.read_csv(\n",
    "    Path.cwd().parent / 'summaries' / 'total_gb_load.csv', index_col=0, parse_dates=True\n",
    "    ).loc[start:end]"
   ]
  },
  {
   "cell_type": "code",
   "execution_count": 9,
   "metadata": {},
   "outputs": [
    {
     "data": {
      "text/plain": [
       "9.399439676967706"
      ]
     },
     "execution_count": 9,
     "metadata": {},
     "output_type": "execute_result"
    }
   ],
   "source": [
    "7_000_000_000 / loads.mul(0.5).sum().sum()"
   ]
  },
  {
   "cell_type": "code",
   "execution_count": 10,
   "metadata": {},
   "outputs": [
    {
     "data": {
      "text/plain": [
       "3.142098406300633"
      ]
     },
     "execution_count": 10,
     "metadata": {},
     "output_type": "execute_result"
    }
   ],
   "source": [
    "780_000_000 * 3 / loads.mul(0.5).sum().sum()"
   ]
  },
  {
   "cell_type": "code",
   "execution_count": 11,
   "metadata": {},
   "outputs": [],
   "source": [
    "# loads.to_csv('hold_loads.csv')"
   ]
  },
  {
   "cell_type": "code",
   "execution_count": 12,
   "metadata": {},
   "outputs": [
    {
     "name": "stderr",
     "output_type": "stream",
     "text": [
      "100%|██████████| 1096/1096 [01:16<00:00, 14.27it/s]\n"
     ]
    }
   ],
   "source": [
    "from tqdm import tqdm\n",
    "\n",
    "pns = []\n",
    "\n",
    "for day in tqdm(date_range):\n",
    "\n",
    "    try:\n",
    "        pns.append(\n",
    "            pd.read_csv(\n",
    "                Path.cwd().parent / 'data' / 'base' / day / 'physical_notifications.csv',\n",
    "                index_col=0\n",
    "                )\n",
    "            )\n",
    "    except FileNotFoundError:\n",
    "        continue\n",
    "\n",
    "pns = pd.concat(pns)"
   ]
  },
  {
   "cell_type": "code",
   "execution_count": 13,
   "metadata": {},
   "outputs": [
    {
     "name": "stderr",
     "output_type": "stream",
     "text": [
      "100%|██████████| 1096/1096 [00:06<00:00, 164.09it/s]\n"
     ]
    }
   ],
   "source": [
    "from tqdm import tqdm\n",
    "\n",
    "dap = []\n",
    "\n",
    "for day in tqdm(date_range):\n",
    "\n",
    "    try:\n",
    "        dap.append(\n",
    "            pd.read_csv(\n",
    "                Path.cwd().parent / 'data' / 'base' / day / 'day_ahead_prices.csv',\n",
    "                index_col=0\n",
    "                )\n",
    "            )\n",
    "    except FileNotFoundError:\n",
    "        continue\n",
    "\n",
    "dap = pd.concat(dap).iloc[:,0]"
   ]
  },
  {
   "cell_type": "code",
   "execution_count": 14,
   "metadata": {},
   "outputs": [],
   "source": [
    "gas_gen = pns.loc[:, pns.columns.intersection(foss.index)].sum(axis=1)"
   ]
  },
  {
   "cell_type": "code",
   "execution_count": 15,
   "metadata": {},
   "outputs": [
    {
     "data": {
      "text/plain": [
       "0.020128087831655993"
      ]
     },
     "execution_count": 15,
     "metadata": {},
     "output_type": "execute_result"
    }
   ],
   "source": [
    "(dap <= 0).sum() / len(dap)"
   ]
  },
  {
   "cell_type": "code",
   "execution_count": 16,
   "metadata": {},
   "outputs": [],
   "source": [
    "idx = pd.IndexSlice\n",
    "\n",
    "zmp = mp.loc[start:end, idx['zonal',:]]\n",
    "nmp = mp.loc[start:end, idx['national',:]]"
   ]
  },
  {
   "cell_type": "code",
   "execution_count": 17,
   "metadata": {},
   "outputs": [],
   "source": [
    "n_values = zmp.apply(lambda x: x.nunique(), axis=1)"
   ]
  },
  {
   "cell_type": "code",
   "execution_count": 18,
   "metadata": {},
   "outputs": [
    {
     "data": {
      "image/png": "[encoded data removed]",
      "text/plain": [
       "<Figure size 700x300 with 1 Axes>"
      ]
     },
     "metadata": {},
     "output_type": "display_data"
    },
    {
     "data": {
      "image/png": "[encoded data removed]",
      "text/plain": [
       "<Figure size 700x300 with 1 Axes>"
      ]
     },
     "metadata": {},
     "output_type": "display_data"
    }
   ],
   "source": [
    "import seaborn as sns\n",
    "\n",
    "for i in n_values.unique()[:2]:\n",
    "\n",
    "    ssz = zmp.loc[n_values.loc[n_values == i].index]\n",
    "    ssn = nmp.loc[n_values.loc[n_values == i].index]\n",
    "\n",
    "    fig, ax = plt.subplots(figsize=(7, 3))\n",
    "\n",
    "    sns.kdeplot(np.random.choice(ssz.values.flatten(), 2000), ax=ax, label='zonal')\n",
    "    sns.kdeplot(np.random.choice(ssn.values.flatten(), 2000), ax=ax, label='national')\n",
    "\n",
    "    share_of_times = np.around(100 * (ssn.shape[0] / len(nmp.index)), 2)\n",
    "\n",
    "    ax.set_title(f'{i} unique values ({share_of_times}% of times)')\n",
    "\n",
    "    ax.legend()\n",
    "    plt.show()\n",
    "\n"
   ]
  },
  {
   "cell_type": "code",
   "execution_count": 19,
   "metadata": {},
   "outputs": [
    {
     "data": {
      "text/plain": [
       "0.11999610591900312"
      ]
     },
     "execution_count": 19,
     "metadata": {},
     "output_type": "execute_result"
    }
   ],
   "source": [
    "(zmp < 0).any(axis=1).sum() / len(zmp)"
   ]
  },
  {
   "cell_type": "code",
   "execution_count": 20,
   "metadata": {},
   "outputs": [],
   "source": [
    "nmp.columns = nmp.columns.get_level_values(1)"
   ]
  },
  {
   "cell_type": "code",
   "execution_count": 21,
   "metadata": {},
   "outputs": [],
   "source": [
    "zmp.columns = zmp.columns.get_level_values(1)"
   ]
  },
  {
   "cell_type": "code",
   "execution_count": 22,
   "metadata": {},
   "outputs": [],
   "source": [
    "def classify_period(nat, lmp):\n",
    "\n",
    "    nat = nat.copy()\n",
    "    lmp = lmp.copy()\n",
    "\n",
    "    nat_negative_mask = nat.loc[nat.iloc[:,0] <= 0].index\n",
    "\n",
    "    nat_negative_prices = {\n",
    "        'national': nat.loc[nat_negative_mask],\n",
    "        'zonal': lmp.loc[nat_negative_mask],\n",
    "    }\n",
    "\n",
    "    lmp.drop(nat_negative_mask, inplace=True)\n",
    "    nat.drop(nat_negative_mask, inplace=True)\n",
    "\n",
    "    all_positive_mask = lmp.loc[(lmp > 0).all(axis=1)].index\n",
    "\n",
    "    all_positive_prices = {\n",
    "        'national': nat.loc[all_positive_mask],\n",
    "        'zonal': lmp.loc[all_positive_mask],\n",
    "    }\n",
    "\n",
    "    lmp.drop(all_positive_mask, inplace=True)\n",
    "    nat.drop(all_positive_mask, inplace=True)\n",
    "\n",
    "    mixed_prices = {\n",
    "        'national': nat,\n",
    "        'zonal': lmp,\n",
    "    }\n",
    "\n",
    "    return nat_negative_prices, all_positive_prices, mixed_prices\n",
    "\n",
    "\n",
    "neg, pos, mixed = classify_period(nmp, zmp)"
   ]
  },
  {
   "cell_type": "code",
   "execution_count": 23,
   "metadata": {},
   "outputs": [],
   "source": [
    "\n",
    "def bars_to_ax(ax, lmp, loads, weights, costs, index_groups):\n",
    "\n",
    "    distributed_price = costs.sum().drop('wholesale') / loads.sum().sum() * 1e6 #/2\n",
    "\n",
    "    total_load = loads.sum().sum()\n",
    "\n",
    "    bar_kwargs = {\n",
    "        'alpha': 0.8,\n",
    "    }\n",
    "    # Create distinct colors for each cost component.\n",
    "\n",
    "    for j, group in enumerate(index_groups):\n",
    "\n",
    "        cumulative_positive = 0\n",
    "        cumulative_negative = 0\n",
    "\n",
    "        for i, (cat, value) in enumerate(distributed_price.items()):\n",
    "\n",
    "            if value >= 0:\n",
    "                ax.bar(j-0.25, value, width=0.5, bottom=cumulative_positive,\n",
    "                    color=color_dict[cat], align='edge', label=f\"cost: {cat}\", **bar_kwargs)\n",
    "                ax.plot(\n",
    "                    [j-0.25, j+0.25],\n",
    "                    [cumulative_positive + value, cumulative_positive + value],\n",
    "                    color='k',\n",
    "                    alpha=0.5,\n",
    "                    lw=0.5,\n",
    "                )\n",
    "                cumulative_positive += value\n",
    "            else:\n",
    "                ax.bar(j-0.25, value, width=0.5, bottom=cumulative_negative,\n",
    "                    color=color_dict[cat], align='edge', label=f\"cost: {cat}\", **bar_kwargs)\n",
    "                ax.plot(\n",
    "                    [j-0.25, j+0.25],\n",
    "                    [cumulative_negative + value, cumulative_negative + value],\n",
    "                    color='k',\n",
    "                    alpha=0.5,\n",
    "                    lw=0.5,\n",
    "                )\n",
    "                cumulative_negative += value\n",
    "\n",
    "        assert len(lmp[group].iloc[0].unique()) == 1, \"There should be only one unique value in the group\"\n",
    "        lmp_group = lmp[group].mean(axis=1)\n",
    "\n",
    "        avg = (lmp_group * loads.values.flatten()).sum() / total_load\n",
    "        x_loc = j - 0.25\n",
    "        bar_width = 0.5\n",
    "\n",
    "        if avg >= 0:\n",
    "            ax.bar(\n",
    "                x_loc,\n",
    "                avg,\n",
    "                width=bar_width,\n",
    "                bottom=cumulative_positive,\n",
    "                align='edge',\n",
    "                label=\"lmp_group\",\n",
    "                color=color_dict['wholesale'],\n",
    "                **bar_kwargs,\n",
    "            )\n",
    "            ax.plot(\n",
    "                [x_loc, x_loc + bar_width],\n",
    "                [cumulative_positive + avg, cumulative_positive + avg],\n",
    "                color='k',\n",
    "                alpha=0.5,\n",
    "                lw=0.5,\n",
    "            )\n",
    "        else:\n",
    "            ax.bar(\n",
    "                x_loc,\n",
    "                avg,\n",
    "                width=bar_width,\n",
    "                bottom=cumulative_negative,\n",
    "                align='edge',\n",
    "                label=\"lmp_group\",\n",
    "                color=color_dict['wholesale'],\n",
    "                **bar_kwargs,\n",
    "            )\n",
    "            ax.plot(\n",
    "                [x_loc, x_loc + bar_width],\n",
    "                [cumulative_negative + avg, cumulative_negative + avg],\n",
    "                color='k',\n",
    "                alpha=0.5,\n",
    "                lw=0.5,\n",
    "            )\n",
    "        ax.plot(\n",
    "            [x_loc, x_loc + bar_width],\n",
    "            [cumulative_positive + cumulative_negative + avg, cumulative_positive + cumulative_negative + avg],\n",
    "            color='r',\n",
    "            alpha=0.5,\n",
    "        )"
   ]
  },
  {
   "cell_type": "code",
   "execution_count": 24,
   "metadata": {},
   "outputs": [],
   "source": [
    "ss = mixed['zonal'].iloc[0]\n",
    "\n",
    "low_cost_regions = ss[ss < 0].index\n",
    "high_cost_regions = ss[ss > 0].index"
   ]
  },
  {
   "cell_type": "code",
   "execution_count": 25,
   "metadata": {},
   "outputs": [],
   "source": [
    "from shapely.ops import unary_union\n",
    "import geopandas as gpd\n",
    "\n",
    "def regions_to_ax(regions, ax, dark_regions):\n",
    "\n",
    "    if not dark_regions.empty:\n",
    "        gpd.GeoSeries([unary_union(regions.loc[dark_regions].geometry)]).plot(ax=ax, color='midnightblue', alpha=0.8, edgecolor='none', lw=0.5)\n",
    "    gpd.GeoSeries([unary_union(regions.geometry)]).plot(ax=ax, facecolor='none', edgecolor='k', alpha=1, lw=0.3)\n",
    "    ax.set_xticks([])\n",
    "    ax.set_yticks([])"
   ]
  },
  {
   "cell_type": "code",
   "execution_count": null,
   "metadata": {},
   "outputs": [
    {
     "name": "stdout",
     "output_type": "stream",
     "text": [
      "Warning! Double check wholesale prices\n"
     ]
    },
    {
     "data": {
      "text/html": [
       "<div>\n",
       "<style scoped>\n",
       "    .dataframe tbody tr th:only-of-type {\n",
       "        vertical-align: middle;\n",
       "    }\n",
       "\n",
       "    .dataframe tbody tr th {\n",
       "        vertical-align: top;\n",
       "    }\n",
       "\n",
       "    .dataframe thead th {\n",
       "        text-align: right;\n",
       "    }\n",
       "</style>\n",
       "<table border=\"1\" class=\"dataframe\">\n",
       "  <thead>\n",
       "    <tr style=\"text-align: right;\">\n",
       "      <th></th>\n",
       "      <th>bid_cost</th>\n",
       "      <th>cfd_payments</th>\n",
       "      <th>congestion_rent</th>\n",
       "      <th>offer_cost</th>\n",
       "      <th>roc_payments</th>\n",
       "      <th>wholesale</th>\n",
       "    </tr>\n",
       "  </thead>\n",
       "  <tbody>\n",
       "    <tr>\n",
       "      <th>2022-01-03 05:00:00</th>\n",
       "      <td>2.069262</td>\n",
       "      <td>14.495140</td>\n",
       "      <td>0.0</td>\n",
       "      <td>7.883885</td>\n",
       "      <td>25.578474</td>\n",
       "      <td>0.0</td>\n",
       "    </tr>\n",
       "    <tr>\n",
       "      <th>2022-02-17 03:00:00</th>\n",
       "      <td>0.080932</td>\n",
       "      <td>12.308784</td>\n",
       "      <td>0.0</td>\n",
       "      <td>0.465308</td>\n",
       "      <td>24.379296</td>\n",
       "      <td>0.0</td>\n",
       "    </tr>\n",
       "    <tr>\n",
       "      <th>2022-02-17 03:30:00</th>\n",
       "      <td>0.233814</td>\n",
       "      <td>12.513631</td>\n",
       "      <td>0.0</td>\n",
       "      <td>1.344278</td>\n",
       "      <td>24.433481</td>\n",
       "      <td>0.0</td>\n",
       "    </tr>\n",
       "    <tr>\n",
       "      <th>2022-02-17 04:00:00</th>\n",
       "      <td>0.044293</td>\n",
       "      <td>12.180103</td>\n",
       "      <td>0.0</td>\n",
       "      <td>0.254655</td>\n",
       "      <td>25.034017</td>\n",
       "      <td>0.0</td>\n",
       "    </tr>\n",
       "    <tr>\n",
       "      <th>2022-02-17 04:30:00</th>\n",
       "      <td>0.311386</td>\n",
       "      <td>12.828387</td>\n",
       "      <td>0.0</td>\n",
       "      <td>1.790269</td>\n",
       "      <td>25.035761</td>\n",
       "      <td>0.0</td>\n",
       "    </tr>\n",
       "  </tbody>\n",
       "</table>\n",
       "</div>"
      ],
      "text/plain": [
       "                     bid_cost  cfd_payments  congestion_rent  offer_cost  \\\n",
       "2022-01-03 05:00:00  2.069262     14.495140              0.0    7.883885   \n",
       "2022-02-17 03:00:00  0.080932     12.308784              0.0    0.465308   \n",
       "2022-02-17 03:30:00  0.233814     12.513631              0.0    1.344278   \n",
       "2022-02-17 04:00:00  0.044293     12.180103              0.0    0.254655   \n",
       "2022-02-17 04:30:00  0.311386     12.828387              0.0    1.790269   \n",
       "\n",
       "                     roc_payments  wholesale  \n",
       "2022-01-03 05:00:00     25.578474        0.0  \n",
       "2022-02-17 03:00:00     24.379296        0.0  \n",
       "2022-02-17 03:30:00     24.433481        0.0  \n",
       "2022-02-17 04:00:00     25.034017        0.0  \n",
       "2022-02-17 04:30:00     25.035761        0.0  "
      ]
     },
     "execution_count": 26,
     "metadata": {},
     "output_type": "execute_result"
    }
   ],
   "source": [
    "from copy import deepcopy\n",
    "\n",
    "\n",
    "def get_wholesale_costs(mps, loads, lw):\n",
    "\n",
    "    loads = loads.copy() / 2\n",
    "    lw = lw.copy().loc[mps.columns].values\n",
    "\n",
    "    # print(mps.mean(axis=1))\n",
    "    weighted_row_means = (mps.mul(lw, axis=1)).sum(axis=1)# / lw.sum()\n",
    "    # print(weighted_row_means)\n",
    "\n",
    "    if len(loads.shape) > 1:\n",
    "        loads = loads.sum(axis=1).values\n",
    "    else:\n",
    "        loads = loads.values\n",
    "\n",
    "    return (weighted_row_means * loads).sum() / loads.sum()# / lw.loc[mps.columns].sum()\n",
    "\n",
    "\n",
    "print('Warning! Double check wholesale prices')\n",
    "\n",
    "def get_total_prices(sc, mps, loads, lw, layout, aggregate_time=True):\n",
    "\n",
    "    mps = deepcopy(mps)\n",
    "\n",
    "    try:\n",
    "        mps = mps[layout]\n",
    "    except KeyError:\n",
    "        pass\n",
    "\n",
    "    costs = sc.loc[idx[mps.index, :], layout].unstack().drop(columns=['balancing_volume'])\n",
    "\n",
    "    if aggregate_time:\n",
    "        return costs.sum() / loads.loc[costs.index].sum().sum() * 1e6\n",
    "    else:\n",
    "        return costs.div(loads.loc[costs.index].values.flatten(), axis=0) * 1e6\n",
    "\n",
    "\n",
    "get_total_prices(sc, neg['national'], loads, pd.Series(1, ['GB']), 'national', aggregate_time=False).head()"
   ]
  },
  {
   "cell_type": "code",
   "execution_count": 27,
   "metadata": {},
   "outputs": [],
   "source": [
    "def simple_bars_to_ax(ax, values):\n",
    "\n",
    "    cumulative_positive = 0\n",
    "    cumulative_negative = 0\n",
    "\n",
    "    bar_kwargs = {\n",
    "        'alpha': 0.8,\n",
    "    }\n",
    "\n",
    "    for i, (cat, value) in enumerate(values.items()):\n",
    "\n",
    "        if value >= 0:\n",
    "            ax.bar(-0.25, value, width=0.5, bottom=cumulative_positive,\n",
    "                color=color_dict[cat], align='edge', label=f\"cost: {cat}\", **bar_kwargs)\n",
    "            ax.plot(\n",
    "                [-0.25, 0.25],\n",
    "                [cumulative_positive + value, cumulative_positive + value],\n",
    "                color='k',\n",
    "                alpha=0.5,\n",
    "                lw=0.5,\n",
    "            )\n",
    "            cumulative_positive += value\n",
    "        else:\n",
    "            ax.bar(-0.25, value, width=0.5, bottom=cumulative_negative,\n",
    "                color=color_dict[cat], align='edge', label=f\"cost: {cat}\", **bar_kwargs)\n",
    "            ax.plot(\n",
    "                [-0.25, 0.25],\n",
    "                [cumulative_negative + value, cumulative_negative + value],\n",
    "                color='k',\n",
    "                alpha=0.5,\n",
    "                lw=0.5,\n",
    "            )\n",
    "            cumulative_negative += value\n",
    "        \n",
    "    total = cumulative_positive + cumulative_negative\n",
    "    ax.plot(\n",
    "        [-0.25, 0.25],\n",
    "        [total, total],\n",
    "        color='red',\n",
    "        lw=2,\n",
    "    )\n",
    "\n",
    "    ax.plot(\n",
    "        [-0.25, 0.25],\n",
    "        [values.drop('congestion_rent').sum(), values.drop('congestion_rent').sum()],\n",
    "        color='red',\n",
    "        linestyle='-.',\n",
    "        alpha=0.8,\n",
    "        lw=2,\n",
    "    )\n"
   ]
  },
  {
   "cell_type": "code",
   "execution_count": 28,
   "metadata": {},
   "outputs": [
    {
     "name": "stderr",
     "output_type": "stream",
     "text": [
      "C:\\Users\\lukas\\AppData\\Local\\Temp\\ipykernel_14136\\2051069817.py:1: UserWarning: Could not infer format, so each element will be parsed individually, falling back to `dateutil`. To ensure parsing is consistent and as-expected, please specify a format.\n",
      "  fp = pd.read_excel(\n",
      "C:\\Users\\lukas\\AppData\\Local\\Temp\\ipykernel_14136\\2051069817.py:18: FutureWarning: Downcasting behavior in `replace` is deprecated and will be removed in a future version. To retain the old behavior, explicitly call `result.infer_objects(copy=False)`. To opt-in to the future behavior, set `pd.set_option('future.no_silent_downcasting', True)`\n",
      "  .replace('[x]', np.nan)\n"
     ]
    }
   ],
   "source": [
    "fp = pd.read_excel(\n",
    "    Path.cwd() / 'systemaveragepriceofgasdataset130225.xlsx',\n",
    "    sheet_name=3,\n",
    "    parse_dates=True,\n",
    "    index_col=0,\n",
    "    skiprows=1\n",
    "    )\n",
    "\n",
    "def process(df):\n",
    "\n",
    "    df = (\n",
    "        df.iloc[4:]\n",
    "        .rename(\n",
    "        columns={\n",
    "            'Unnamed: 1': 'day_price',\n",
    "            'Unnamed: 2': 'before_week_average',\n",
    "        })\n",
    "        .replace('[x]', np.nan)\n",
    "        ['day_price']\n",
    "        )\n",
    "    df.index.name = 'date'\n",
    "    df.index = pd.to_datetime(df.index)\n",
    "    return df * 10\n",
    "\n",
    "fp = process(fp)"
   ]
  },
  {
   "cell_type": "code",
   "execution_count": 29,
   "metadata": {},
   "outputs": [
    {
     "data": {
      "text/plain": [
       "<Axes: xlabel='date'>"
      ]
     },
     "execution_count": 29,
     "metadata": {},
     "output_type": "execute_result"
    },
    {
     "data": {
      "image/png": "[encoded data removed]",
      "text/plain": [
       "<Figure size 640x480 with 1 Axes>"
      ]
     },
     "metadata": {},
     "output_type": "display_data"
    }
   ],
   "source": [
    "fp.loc['2022':'2024-12-31'].plot()"
   ]
  },
  {
   "cell_type": "code",
   "execution_count": 30,
   "metadata": {},
   "outputs": [
    {
     "data": {
      "text/plain": [
       "date\n",
       "2024-12-28    41.741\n",
       "2024-12-29    41.607\n",
       "2024-12-30    41.013\n",
       "2024-12-31    41.601\n",
       "2025-01-01    41.922\n",
       "Name: day_price, dtype: float64"
      ]
     },
     "execution_count": 30,
     "metadata": {},
     "output_type": "execute_result"
    }
   ],
   "source": [
    "fp.loc['2022':'2025-01-01'].tail()"
   ]
  },
  {
   "cell_type": "code",
   "execution_count": 31,
   "metadata": {},
   "outputs": [
    {
     "data": {
      "text/plain": [
       "snapshot\n",
       "2022-01-03    53.38\n",
       "2022-02-17    57.55\n",
       "2022-02-17    57.55\n",
       "2022-02-17    57.55\n",
       "2022-02-17    57.55\n",
       "Name: day_price, dtype: float64"
      ]
     },
     "execution_count": 31,
     "metadata": {},
     "output_type": "execute_result"
    }
   ],
   "source": [
    "n = neg['zonal'].index\n",
    "\n",
    "fp.loc[n.strftime('%Y-%m-%d')].head()"
   ]
  },
  {
   "cell_type": "code",
   "execution_count": 32,
   "metadata": {},
   "outputs": [],
   "source": [
    "def get_weighted_average_price(df, weights):\n",
    "\n",
    "    weighted_sum = df.multiply(weights.loc[df.index].values, axis=0) \\\n",
    "                            .groupby(df.index.strftime('%Y-%m-%d')).sum()\n",
    "        \n",
    "    daily_weights = weights.loc[df.index] \\\n",
    "                        .groupby(df.index.strftime('%Y-%m-%d')).sum()\n",
    "\n",
    "    return weighted_sum.divide(daily_weights.values, axis=0)\n"
   ]
  },
  {
   "cell_type": "code",
   "execution_count": 35,
   "metadata": {},
   "outputs": [
    {
     "data": {
      "image/png": "[encoded data removed]",
      "text/plain": [
       "<Figure size 750x600 with 9 Axes>"
      ]
     },
     "metadata": {},
     "output_type": "display_data"
    }
   ],
   "source": [
    "import seaborn as sns\n",
    "\n",
    "fig, axs = plt.subplots(3, 3, figsize=(7.5, 6), gridspec_kw={'width_ratios': [1, 2, 1]})\n",
    "\n",
    "# Reordering the rows: \n",
    "# First row (index 0) = what was previously third row (index 2)\n",
    "# Second row (index 1) = what was previously first row (index 0)\n",
    "# Third row (index 2) = what was previously second row (index 1)\n",
    "\n",
    "# What was previously in third row (pos) now in first row\n",
    "bars_to_ax(\n",
    "    axs[0,1],\n",
    "    pos['zonal'],\n",
    "    loads.loc[pos['zonal'].index],\n",
    "    lw,\n",
    "    sc.loc[idx[pos['zonal'].index, :], 'zonal'].unstack().drop(columns=['balancing_volume']),\n",
    "    [low_cost_regions, high_cost_regions]\n",
    "    )\n",
    "\n",
    "bars_to_ax(\n",
    "    axs[0,0],\n",
    "    pos['national'],\n",
    "    loads.loc[pos['national'].index],\n",
    "    lw,\n",
    "    sc.loc[idx[pos['national'].index, :], 'national'].unstack().drop(columns=['balancing_volume']),\n",
    "    [['GB']]\n",
    "    )\n",
    "\n",
    "# What was previously in first row (mixed) now in second row\n",
    "bars_to_ax(\n",
    "    axs[1,1],\n",
    "    mixed['zonal'],\n",
    "    loads.loc[mixed['zonal'].index],\n",
    "    lw,\n",
    "    sc.loc[idx[mixed['zonal'].index, :], 'zonal'].unstack().drop(columns=['balancing_volume']),\n",
    "    [low_cost_regions, high_cost_regions]\n",
    "    )\n",
    "\n",
    "bars_to_ax(\n",
    "    axs[1,0],\n",
    "    mixed['national'],\n",
    "    loads.loc[mixed['national'].index],\n",
    "    lw,\n",
    "    sc.loc[idx[mixed['national'].index, :], 'national'].unstack().drop(columns=['balancing_volume']),\n",
    "    [['GB']]\n",
    "    )\n",
    "\n",
    "# What was previously in second row (neg) now in third row\n",
    "bars_to_ax(\n",
    "    axs[2,1],\n",
    "    neg['zonal'],\n",
    "    loads.loc[neg['zonal'].index],\n",
    "    lw,\n",
    "    sc.loc[idx[neg['zonal'].index, :], 'zonal'].unstack().drop(columns=['balancing_volume']),\n",
    "    [low_cost_regions, high_cost_regions]\n",
    "    )\n",
    "\n",
    "bars_to_ax(\n",
    "    axs[2,0],\n",
    "    neg['national'],\n",
    "    loads.loc[neg['national'].index],\n",
    "    lw,\n",
    "    sc.loc[idx[neg['national'].index, :], 'national'].unstack().drop(columns=['balancing_volume']),\n",
    "    [['GB']]\n",
    "    )\n",
    "\n",
    "neg_zonal = get_total_prices(sc, neg['zonal'], loads, lw.iloc[:,0], 'zonal')\n",
    "neg_national = get_total_prices(sc, neg['national'], loads, pd.Series(1, ['GB']), 'national')\n",
    "\n",
    "neg_diff = neg_zonal - neg_national\n",
    "simple_bars_to_ax(\n",
    "    axs[2,2],\n",
    "    # neg_diff,\n",
    "    - neg_diff,\n",
    ")\n",
    "\n",
    "pos_zonal = get_total_prices(sc, pos['zonal'], loads, lw.iloc[:,0], 'zonal')\n",
    "pos_national = get_total_prices(sc, pos['national'], loads, pd.Series(1, ['GB']), 'national')\n",
    "\n",
    "pos_diff = pos_zonal - pos_national\n",
    "simple_bars_to_ax(\n",
    "    axs[0,2],\n",
    "    # pos_diff,\n",
    "    - pos_diff,\n",
    ")\n",
    "\n",
    "mixed_zonal = get_total_prices(sc, mixed['zonal'], loads, lw.iloc[:,0], 'zonal')\n",
    "mixed_national = get_total_prices(sc, mixed['national'], loads, pd.Series(1, ['GB']), 'national')\n",
    "\n",
    "mixed_diff = mixed_zonal - mixed_national\n",
    "simple_bars_to_ax(\n",
    "    axs[1,2],\n",
    "    # mixed_diff,\n",
    "    - mixed_diff,\n",
    ")\n",
    "\n",
    "for ax in axs[:, 0]:\n",
    "    ax.set_xlim(-0.5, 0.5)\n",
    "\n",
    "for ax in axs[:, 1]:\n",
    "    ax.set_xlim(-0.5, 1.5)\n",
    "\n",
    "\n",
    "for ax in axs[:,1]:\n",
    "    ax.set_yticklabels([])\n",
    "    ax.spines['left'].set_visible(False)\n",
    "\n",
    "for ax in axs[:,2]:\n",
    "    ax.spines['left'].set_visible(False)\n",
    "\n",
    "for ax in axs.flatten():\n",
    "    ax.spines['top'].set_visible(False)\n",
    "    ax.spines['right'].set_visible(False)\n",
    "    ax.grid(True, linestyle='--', axis='y')\n",
    "    ax.set_axisbelow(True)\n",
    "\n",
    "for ax in axs[2,:2]:\n",
    "    ax.set_ylim(-70, 70)\n",
    "for ax in axs[0,:2]:\n",
    "    ax.set_ylim(-20, 250)\n",
    "for ax in axs[1,:2]:\n",
    "    ax.set_ylim(-70, 220)\n",
    "\n",
    "ax_inset = axs[2,0].inset_axes([0.65, -0.1, 0.35, 0.5])\n",
    "regions_to_ax(\n",
    "    regions.set_index('name'),\n",
    "    ax_inset,\n",
    "    pd.Index([])\n",
    ")\n",
    "ax_inset = axs[2,1].inset_axes([0.8, 0.015, 0.2, 0.3])\n",
    "regions_to_ax(\n",
    "    regions.set_index('name'),\n",
    "    ax_inset,\n",
    "    high_cost_regions,\n",
    ")\n",
    "ax_inset = axs[0,0].inset_axes([0.65, -0.1, 0.35, 0.5])\n",
    "regions_to_ax(\n",
    "    regions.set_index('name'),\n",
    "    ax_inset,\n",
    "    high_cost_regions.union(low_cost_regions),\n",
    ")\n",
    "ax_inset = axs[0,1].inset_axes([0.8, 0.015, 0.2, 0.3])\n",
    "regions_to_ax(\n",
    "    regions.set_index('name'),\n",
    "    ax_inset,\n",
    "    high_cost_regions.union(low_cost_regions),\n",
    ")\n",
    "ax_inset = axs[1,0].inset_axes([0.65, -0.1, 0.35, 0.5])\n",
    "regions_to_ax(\n",
    "    regions.set_index('name'),\n",
    "    ax_inset,\n",
    "    high_cost_regions.union(low_cost_regions),\n",
    ")\n",
    "ax_inset = axs[1,1].inset_axes([0.8, 0.015, 0.2, 0.3])\n",
    "regions_to_ax(\n",
    "    regions.set_index('name'),\n",
    "    ax_inset,\n",
    "    high_cost_regions,\n",
    ")\n",
    "\n",
    "for ax in axs[:2,2]:\n",
    "    ax.set_xticks([])\n",
    "\n",
    "for ax in axs[:,2]:\n",
    "    ax.set_xlim(-0.5, 0.5)\n",
    "\n",
    "neg_share = 100 * len(neg['national']) / len(zmp)\n",
    "pos_share = 100 * len(pos['national']) / len(zmp)\n",
    "mixed_share = 100 * len(mixed['national']) / len(zmp)\n",
    "\n",
    "axs[2,0].set_ylabel(f'\\nExtreme Wind Case\\n({neg_share:.1f}% of time)')\n",
    "axs[0,0].set_ylabel(f'\\nLow Wind Case\\n({pos_share:.1f}% of time)')\n",
    "axs[1,0].set_ylabel(f'Consumer Price (£/MWh)\\nHigh Wind Case\\n({mixed_share:.1f}% of time)')\n",
    "\n",
    "# labels, handles = \n",
    "\n",
    "for ax in axs[:,2]:\n",
    "    position = ax.get_position()\n",
    "    new_pos = [position.x0 + 0.025, position.y0, position.width, position.height]\n",
    "    ax.set_position(new_pos)\n",
    "\n",
    "# for ax in axs[:,3]:\n",
    "#     position = ax.get_position()\n",
    "#     new_pos = [position.x0 + 0.04, position.y0, position.width, position.height]\n",
    "#     ax.set_position(new_pos)\n",
    "\n",
    "title_pad = 10\n",
    "axs[0,0].set_title('National Market', fontsize=10, pad=title_pad)\n",
    "axs[0,1].set_title('Zonal Market', fontsize=10, pad=title_pad)\n",
    "axs[0,2].set_title('Zonal Consumer Cost\\nReduction (£/MWh)', fontsize=10, pad=title_pad)\n",
    "# axs[0,3].set_title('Daily Price\\nDifference (£/MWh)', fontsize=10, pad=title_pad, loc='left')\n",
    "\n",
    "axs[2,1].set_xticks([0, 1])\n",
    "axs[2,1].set_xticklabels(['Low Price\\nRegions', 'High Price\\nRegions'])\n",
    "axs[2,1].tick_params(axis='x', which='both', length=0)\n",
    "\n",
    "for ax in axs[:2,:2].flatten():\n",
    "    ax.set_xticks([])\n",
    "\n",
    "axs[2,0].set_xticks([])\n",
    "axs[2,2].set_xticks([])\n",
    "\n",
    "axs[0,2].set_ylim(-4, 4)\n",
    "\n",
    "for ax in axs[:,:].flatten():\n",
    "    ax.axhline(0, color='k', lw=1)\n",
    "    ax.spines['bottom'].set_visible(False)\n",
    "\n",
    "handles, labels = [], []\n",
    "\n",
    "from matplotlib.patches import Patch\n",
    "from matplotlib.lines import Line2D\n",
    "\n",
    "for label, color in color_dict.items():\n",
    "\n",
    "    if label in ['wholesale selling', 'wholesale buying']:\n",
    "        continue\n",
    "\n",
    "    handles.append(Patch(color=color, label=nice_names[label]))\n",
    "    labels.append(nice_names[label])\n",
    "\n",
    "handles.append(Line2D([0], [0], color='r', lw=1, linestyle='-', alpha=0.8))\n",
    "labels.append(\"Total\")\n",
    "\n",
    "handles.append(Line2D([0], [0], color='r', lw=1, linestyle='-.', alpha=0.8))\n",
    "labels.append(\"Total w/o Congestion Rent\")\n",
    "\n",
    "axs[2,0].legend(\n",
    "    handles=handles,\n",
    "    labels=labels,\n",
    "    loc='upper left',\n",
    "    bbox_to_anchor=(-1, -0.4),\n",
    "    fontsize=8,\n",
    "    ncol=4,\n",
    "    frameon=False,\n",
    ")\n",
    "\n",
    "axs[0,0].text(\n",
    "    -1.35,\n",
    "    330,\n",
    "    f'{start} - {end}',\n",
    "    fontsize=9,\n",
    "    ha='left',\n",
    "    weight='bold',\n",
    ")\n",
    "\n",
    "plt.savefig(f'wind_cases_from_{start}_to_{end}.pdf', bbox_inches='tight')\n",
    "plt.show()"
   ]
  }
 ],
 "metadata": {
  "kernelspec": {
   "display_name": "Python 3",
   "language": "python",
   "name": "python3"
  },
  "language_info": {
   "codemirror_mode": {
    "name": "ipython",
    "version": 3
   },
   "file_extension": ".py",
   "mimetype": "text/x-python",
   "name": "python",
   "nbconvert_exporter": "python",
   "pygments_lexer": "ipython3",
   "version": "3.12.7"
  }
 },
 "nbformat": 4,
 "nbformat_minor": 2
}
