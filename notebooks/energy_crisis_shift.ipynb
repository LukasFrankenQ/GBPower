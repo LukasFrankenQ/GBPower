{
 "cells": [
  {
   "cell_type": "code",
   "execution_count": 130,
   "metadata": {},
   "outputs": [],
   "source": [
    "import pypsa\n",
    "import numpy as np\n",
    "import pandas as pd\n",
    "import geopandas as gpd\n",
    "from pathlib import Path\n",
    "import matplotlib.pyplot as plt\n",
    "\n",
    "from plotting_constants import nice_names, color_dict"
   ]
  },
  {
   "cell_type": "code",
   "execution_count": 2,
   "metadata": {},
   "outputs": [
    {
     "name": "stderr",
     "output_type": "stream",
     "text": [
      "C:\\Users\\lukas\\AppData\\Local\\Temp\\ipykernel_36140\\619580916.py:2: UserWarning: Could not infer format, so each element will be parsed individually, falling back to `dateutil`. To ensure parsing is consistent and as-expected, please specify a format.\n",
      "  sc = pd.read_csv(Path.cwd().parent / 'summaries' / 'total_summary_flex.csv', index_col=[0,1], parse_dates=True)\n"
     ]
    }
   ],
   "source": [
    "mp = pd.read_csv(Path.cwd().parent / 'summaries' / 'marginal_prices_summary_flex.csv', index_col=0, parse_dates=True, header=[0,1])\n",
    "sc = pd.read_csv(Path.cwd().parent / 'summaries' / 'total_summary_flex.csv', index_col=[0,1], parse_dates=True)"
   ]
  },
  {
   "cell_type": "code",
   "execution_count": 3,
   "metadata": {},
   "outputs": [
    {
     "data": {
      "text/plain": [
       "Index(['wholesale', 'congestion_rent', 'cfd_payments', 'roc_payments',\n",
       "       'offer_cost', 'bid_cost', 'balancing_volume'],\n",
       "      dtype='object')"
      ]
     },
     "execution_count": 3,
     "metadata": {},
     "output_type": "execute_result"
    }
   ],
   "source": [
    "sc.index.get_level_values(1).unique()"
   ]
  },
  {
   "cell_type": "code",
   "execution_count": 142,
   "metadata": {},
   "outputs": [],
   "source": [
    "lw = pd.read_csv(Path.cwd().parent / 'data' / 'preprocessed' / 'load_weights.csv', index_col=0)\n",
    "lw.index = lw.index.astype(str)"
   ]
  },
  {
   "cell_type": "code",
   "execution_count": 5,
   "metadata": {},
   "outputs": [],
   "source": [
    "regions = gpd.read_file(Path.cwd().parent / 'data' / 'regions_onshore_s.geojson')"
   ]
  },
  {
   "cell_type": "code",
   "execution_count": null,
   "metadata": {},
   "outputs": [],
   "source": [
    "start, end = '2022-01-01', '2023-06-30'\n",
    "\n",
    "date_range = pd.date_range(start, end).strftime('%Y-%m-%d')"
   ]
  },
  {
   "cell_type": "code",
   "execution_count": 33,
   "metadata": {},
   "outputs": [
    {
     "data": {
      "text/html": [
       "<div>\n",
       "<style scoped>\n",
       "    .dataframe tbody tr th:only-of-type {\n",
       "        vertical-align: middle;\n",
       "    }\n",
       "\n",
       "    .dataframe tbody tr th {\n",
       "        vertical-align: top;\n",
       "    }\n",
       "\n",
       "    .dataframe thead th {\n",
       "        text-align: right;\n",
       "    }\n",
       "</style>\n",
       "<table border=\"1\" class=\"dataframe\">\n",
       "  <thead>\n",
       "    <tr style=\"text-align: right;\">\n",
       "      <th></th>\n",
       "      <th>carrier</th>\n",
       "      <th>bus</th>\n",
       "      <th>lon</th>\n",
       "      <th>lat</th>\n",
       "    </tr>\n",
       "    <tr>\n",
       "      <th>NationalGridBmUnit</th>\n",
       "      <th></th>\n",
       "      <th></th>\n",
       "      <th></th>\n",
       "      <th></th>\n",
       "    </tr>\n",
       "  </thead>\n",
       "  <tbody>\n",
       "    <tr>\n",
       "      <th>BRGDG-1</th>\n",
       "      <td>fossil</td>\n",
       "      <td>6038</td>\n",
       "      <td>-0.508006</td>\n",
       "      <td>53.540993</td>\n",
       "    </tr>\n",
       "    <tr>\n",
       "      <th>AG-NHAV02</th>\n",
       "      <td>fossil</td>\n",
       "      <td>5913</td>\n",
       "      <td>-3.781</td>\n",
       "      <td>55.803</td>\n",
       "    </tr>\n",
       "    <tr>\n",
       "      <th>ABERU-1</th>\n",
       "      <td>fossil</td>\n",
       "      <td>6049</td>\n",
       "      <td>-1.270137</td>\n",
       "      <td>53.090486</td>\n",
       "    </tr>\n",
       "    <tr>\n",
       "      <th>BRGG-1</th>\n",
       "      <td>fossil</td>\n",
       "      <td>6042</td>\n",
       "      <td>-0.32959</td>\n",
       "      <td>53.442264</td>\n",
       "    </tr>\n",
       "    <tr>\n",
       "      <th>BRIDU-1</th>\n",
       "      <td>fossil</td>\n",
       "      <td>6037</td>\n",
       "      <td>-0.203475</td>\n",
       "      <td>54.086555</td>\n",
       "    </tr>\n",
       "    <tr>\n",
       "      <th>...</th>\n",
       "      <td>...</td>\n",
       "      <td>...</td>\n",
       "      <td>...</td>\n",
       "      <td>...</td>\n",
       "    </tr>\n",
       "    <tr>\n",
       "      <th>GRAI-6</th>\n",
       "      <td>fossil</td>\n",
       "      <td>4972</td>\n",
       "      <td>0.703125</td>\n",
       "      <td>51.47454</td>\n",
       "    </tr>\n",
       "    <tr>\n",
       "      <th>GRAI-7</th>\n",
       "      <td>fossil</td>\n",
       "      <td>4972</td>\n",
       "      <td>0.703125</td>\n",
       "      <td>51.47454</td>\n",
       "    </tr>\n",
       "    <tr>\n",
       "      <th>GRAI-8</th>\n",
       "      <td>fossil</td>\n",
       "      <td>4972</td>\n",
       "      <td>0.703125</td>\n",
       "      <td>51.47454</td>\n",
       "    </tr>\n",
       "    <tr>\n",
       "      <th>SHBA-1</th>\n",
       "      <td>fossil</td>\n",
       "      <td>6043</td>\n",
       "      <td>-0.131836</td>\n",
       "      <td>53.618579</td>\n",
       "    </tr>\n",
       "    <tr>\n",
       "      <th>SHBA-2</th>\n",
       "      <td>fossil</td>\n",
       "      <td>6043</td>\n",
       "      <td>-0.131836</td>\n",
       "      <td>53.618579</td>\n",
       "    </tr>\n",
       "  </tbody>\n",
       "</table>\n",
       "<p>100 rows × 4 columns</p>\n",
       "</div>"
      ],
      "text/plain": [
       "                   carrier   bus        lon        lat\n",
       "NationalGridBmUnit                                    \n",
       "BRGDG-1             fossil  6038  -0.508006  53.540993\n",
       "AG-NHAV02           fossil  5913     -3.781     55.803\n",
       "ABERU-1             fossil  6049  -1.270137  53.090486\n",
       "BRGG-1              fossil  6042   -0.32959  53.442264\n",
       "BRIDU-1             fossil  6037  -0.203475  54.086555\n",
       "...                    ...   ...        ...        ...\n",
       "GRAI-6              fossil  4972   0.703125   51.47454\n",
       "GRAI-7              fossil  4972   0.703125   51.47454\n",
       "GRAI-8              fossil  4972   0.703125   51.47454\n",
       "SHBA-1              fossil  6043  -0.131836  53.618579\n",
       "SHBA-2              fossil  6043  -0.131836  53.618579\n",
       "\n",
       "[100 rows x 4 columns]"
      ]
     },
     "execution_count": 33,
     "metadata": {},
     "output_type": "execute_result"
    }
   ],
   "source": [
    "bmus = pd.read_csv(Path.cwd().parent / 'data' / 'preprocessed' / 'prepared_bmus.csv', index_col=0)\n",
    "foss = bmus.loc[bmus.loc[:, 'carrier'] == 'fossil']\n",
    "\n",
    "foss"
   ]
  },
  {
   "cell_type": "code",
   "execution_count": null,
   "metadata": {},
   "outputs": [],
   "source": [
    "loads = []\n",
    "\n",
    "for day in date_range:\n",
    "\n",
    "    try:\n",
    "        n = pypsa.Network(Path.cwd().parent / 'results' / day / 'network_flex_s_national.nc')\n",
    "        l = n.loads.query('carrier == \"electricity\"').index\n",
    "        loads.append(n.loads_t.p_set[l])\n",
    "    except FileNotFoundError:\n",
    "        continue\n",
    "\n",
    "loads = pd.concat(loads)"
   ]
  },
  {
   "cell_type": "code",
   "execution_count": 32,
   "metadata": {},
   "outputs": [
    {
     "name": "stderr",
     "output_type": "stream",
     "text": [
      "  0%|          | 0/546 [00:00<?, ?it/s]"
     ]
    },
    {
     "name": "stderr",
     "output_type": "stream",
     "text": [
      "100%|██████████| 546/546 [00:28<00:00, 18.86it/s]\n"
     ]
    }
   ],
   "source": [
    "from tqdm import tqdm\n",
    "\n",
    "pns = []\n",
    "\n",
    "for day in tqdm(date_range):\n",
    "\n",
    "    try:\n",
    "        pns.append(\n",
    "            pd.read_csv(\n",
    "                Path.cwd().parent / 'data' / 'base' / day / 'physical_notifications.csv',\n",
    "                index_col=0\n",
    "                )\n",
    "            )\n",
    "    except FileNotFoundError:\n",
    "        continue\n",
    "\n",
    "pns = pd.concat(pns)"
   ]
  },
  {
   "cell_type": "code",
   "execution_count": 44,
   "metadata": {},
   "outputs": [
    {
     "name": "stderr",
     "output_type": "stream",
     "text": [
      "100%|██████████| 546/546 [00:00<00:00, 682.30it/s]\n"
     ]
    }
   ],
   "source": [
    "from tqdm import tqdm\n",
    "\n",
    "dap = []\n",
    "\n",
    "for day in tqdm(date_range):\n",
    "\n",
    "    try:\n",
    "        dap.append(\n",
    "            pd.read_csv(\n",
    "                Path.cwd().parent / 'data' / 'base' / day / 'day_ahead_prices.csv',\n",
    "                index_col=0\n",
    "                )\n",
    "            )\n",
    "    except FileNotFoundError:\n",
    "        continue\n",
    "\n",
    "dap = pd.concat(dap).iloc[:,0]"
   ]
  },
  {
   "cell_type": "code",
   "execution_count": 45,
   "metadata": {},
   "outputs": [],
   "source": [
    "gas_gen = pns.loc[:, pns.columns.intersection(foss.index)].sum(axis=1)"
   ]
  },
  {
   "cell_type": "code",
   "execution_count": 48,
   "metadata": {},
   "outputs": [
    {
     "data": {
      "text/plain": [
       "0.008547660841028771"
      ]
     },
     "execution_count": 48,
     "metadata": {},
     "output_type": "execute_result"
    }
   ],
   "source": [
    "(dap <= 0).sum() / len(dap)"
   ]
  },
  {
   "cell_type": "code",
   "execution_count": 11,
   "metadata": {},
   "outputs": [
    {
     "data": {
      "text/html": [
       "<div>\n",
       "<style scoped>\n",
       "    .dataframe tbody tr th:only-of-type {\n",
       "        vertical-align: middle;\n",
       "    }\n",
       "\n",
       "    .dataframe tbody tr th {\n",
       "        vertical-align: top;\n",
       "    }\n",
       "\n",
       "    .dataframe thead th {\n",
       "        text-align: right;\n",
       "    }\n",
       "</style>\n",
       "<table border=\"1\" class=\"dataframe\">\n",
       "  <thead>\n",
       "    <tr style=\"text-align: right;\">\n",
       "      <th></th>\n",
       "      <th>load_weight</th>\n",
       "    </tr>\n",
       "    <tr>\n",
       "      <th>name</th>\n",
       "      <th></th>\n",
       "    </tr>\n",
       "  </thead>\n",
       "  <tbody>\n",
       "    <tr>\n",
       "      <th>8838</th>\n",
       "      <td>0.002569</td>\n",
       "    </tr>\n",
       "    <tr>\n",
       "      <th>8013</th>\n",
       "      <td>0.000261</td>\n",
       "    </tr>\n",
       "    <tr>\n",
       "      <th>8520</th>\n",
       "      <td>0.000241</td>\n",
       "    </tr>\n",
       "    <tr>\n",
       "      <th>8649</th>\n",
       "      <td>0.004041</td>\n",
       "    </tr>\n",
       "    <tr>\n",
       "      <th>4950</th>\n",
       "      <td>0.003187</td>\n",
       "    </tr>\n",
       "    <tr>\n",
       "      <th>...</th>\n",
       "      <td>...</td>\n",
       "    </tr>\n",
       "    <tr>\n",
       "      <th>7458</th>\n",
       "      <td>0.001419</td>\n",
       "    </tr>\n",
       "    <tr>\n",
       "      <th>8283</th>\n",
       "      <td>0.005545</td>\n",
       "    </tr>\n",
       "    <tr>\n",
       "      <th>8094</th>\n",
       "      <td>0.004038</td>\n",
       "    </tr>\n",
       "    <tr>\n",
       "      <th>8093</th>\n",
       "      <td>0.004038</td>\n",
       "    </tr>\n",
       "    <tr>\n",
       "      <th>7908</th>\n",
       "      <td>0.003017</td>\n",
       "    </tr>\n",
       "  </tbody>\n",
       "</table>\n",
       "<p>385 rows × 1 columns</p>\n",
       "</div>"
      ],
      "text/plain": [
       "      load_weight\n",
       "name             \n",
       "8838     0.002569\n",
       "8013     0.000261\n",
       "8520     0.000241\n",
       "8649     0.004041\n",
       "4950     0.003187\n",
       "...           ...\n",
       "7458     0.001419\n",
       "8283     0.005545\n",
       "8094     0.004038\n",
       "8093     0.004038\n",
       "7908     0.003017\n",
       "\n",
       "[385 rows x 1 columns]"
      ]
     },
     "execution_count": 11,
     "metadata": {},
     "output_type": "execute_result"
    }
   ],
   "source": [
    "lw"
   ]
  },
  {
   "cell_type": "code",
   "execution_count": 15,
   "metadata": {},
   "outputs": [],
   "source": [
    "idx = pd.IndexSlice\n",
    "\n",
    "zmp = mp.loc[:, idx['zonal',:]]\n",
    "nmp = mp.loc[:, idx['national',:]]"
   ]
  },
  {
   "cell_type": "code",
   "execution_count": 55,
   "metadata": {},
   "outputs": [
    {
     "data": {
      "text/plain": [
       "93"
      ]
     },
     "execution_count": 55,
     "metadata": {},
     "output_type": "execute_result"
    }
   ],
   "source": [
    "(nmp.iloc[:,0] == 0).sum()\n"
   ]
  },
  {
   "cell_type": "code",
   "execution_count": 13,
   "metadata": {},
   "outputs": [],
   "source": [
    "n_values = zmp.apply(lambda x: x.nunique(), axis=1)"
   ]
  },
  {
   "cell_type": "code",
   "execution_count": 25,
   "metadata": {},
   "outputs": [
    {
     "data": {
      "image/png": "[encoded data removed]",
      "text/plain": [
       "<Figure size 700x300 with 1 Axes>"
      ]
     },
     "metadata": {},
     "output_type": "display_data"
    },
    {
     "data": {
      "image/png": "[encoded data removed]",
      "text/plain": [
       "<Figure size 700x300 with 1 Axes>"
      ]
     },
     "metadata": {},
     "output_type": "display_data"
    }
   ],
   "source": [
    "import seaborn as sns\n",
    "\n",
    "for i in n_values.unique()[:2]:\n",
    "\n",
    "    ssz = zmp.loc[n_values.loc[n_values == i].index]\n",
    "    ssn = nmp.loc[n_values.loc[n_values == i].index]\n",
    "\n",
    "    fig, ax = plt.subplots(figsize=(7, 3))\n",
    "\n",
    "    sns.kdeplot(np.random.choice(ssz.values.flatten(), 2000), ax=ax, label='zonal')\n",
    "    sns.kdeplot(np.random.choice(ssn.values.flatten(), 2000), ax=ax, label='national')\n",
    "\n",
    "    share_of_times = np.around(100 * (ssn.shape[0] / len(nmp.index)), 2)\n",
    "\n",
    "    ax.set_title(f'{i} unique values ({share_of_times}% of times)')\n",
    "\n",
    "    ax.legend()\n",
    "    plt.show()\n",
    "\n"
   ]
  },
  {
   "cell_type": "code",
   "execution_count": 62,
   "metadata": {},
   "outputs": [
    {
     "data": {
      "text/plain": [
       "0.38507589327802394"
      ]
     },
     "execution_count": 62,
     "metadata": {},
     "output_type": "execute_result"
    }
   ],
   "source": [
    "(zmp < 0).any(axis=1).sum() / len(zmp)"
   ]
  },
  {
   "cell_type": "code",
   "execution_count": 71,
   "metadata": {},
   "outputs": [],
   "source": [
    "nmp.columns = nmp.columns.get_level_values(1)"
   ]
  },
  {
   "cell_type": "code",
   "execution_count": 73,
   "metadata": {},
   "outputs": [],
   "source": [
    "zmp.columns = zmp.columns.get_level_values(1)"
   ]
  },
  {
   "cell_type": "code",
   "execution_count": 83,
   "metadata": {},
   "outputs": [],
   "source": [
    "def classify_period(nat, lmp):\n",
    "\n",
    "    nat = nat.copy()\n",
    "    lmp = lmp.copy()\n",
    "\n",
    "    nat_negative_mask = nat.loc[nat.iloc[:,0] <= 0].index\n",
    "\n",
    "    nat_negative_prices = {\n",
    "        'national': nat.loc[nat_negative_mask],\n",
    "        'zonal': lmp.loc[nat_negative_mask],\n",
    "    }\n",
    "\n",
    "    lmp.drop(nat_negative_mask, inplace=True)\n",
    "    nat.drop(nat_negative_mask, inplace=True)\n",
    "\n",
    "    all_positive_mask = lmp.loc[(lmp > 0).all(axis=1)].index\n",
    "\n",
    "    all_positive_prices = {\n",
    "        'national': nat.loc[all_positive_mask],\n",
    "        'zonal': lmp.loc[all_positive_mask],\n",
    "    }\n",
    "\n",
    "    lmp.drop(all_positive_mask, inplace=True)\n",
    "    nat.drop(all_positive_mask, inplace=True)\n",
    "\n",
    "    mixed_prices = {\n",
    "        'national': nat,\n",
    "        'zonal': lmp,\n",
    "    }\n",
    "\n",
    "    return nat_negative_prices, all_positive_prices, mixed_prices\n",
    "\n",
    "\n",
    "neg, pos, mixed = classify_period(nmp, zmp)"
   ]
  },
  {
   "cell_type": "code",
   "execution_count": 93,
   "metadata": {},
   "outputs": [
    {
     "data": {
      "text/plain": [
       "Index(['2022-02-17', '2022-02-20', '2022-12-18', '2022-12-25', '2022-12-26',\n",
       "       '2022-12-27', '2022-12-28', '2022-12-29', '2022-12-30', '2023-01-01',\n",
       "       '2023-01-07', '2023-01-08', '2023-01-10', '2023-01-11', '2023-01-13',\n",
       "       '2023-01-15', '2023-03-13'],\n",
       "      dtype='object', name='snapshot')"
      ]
     },
     "execution_count": 93,
     "metadata": {},
     "output_type": "execute_result"
    }
   ],
   "source": [
    "neg['national'].index.difference(loads.index).strftime('%Y-%m-%d').unique()"
   ]
  },
  {
   "cell_type": "code",
   "execution_count": 100,
   "metadata": {},
   "outputs": [
    {
     "data": {
      "text/plain": [
       "21214"
      ]
     },
     "execution_count": 100,
     "metadata": {},
     "output_type": "execute_result"
    }
   ],
   "source": [
    "len(zmp.index)"
   ]
  },
  {
   "cell_type": "code",
   "execution_count": 99,
   "metadata": {},
   "outputs": [
    {
     "data": {
      "text/plain": [
       "21214"
      ]
     },
     "execution_count": 99,
     "metadata": {},
     "output_type": "execute_result"
    }
   ],
   "source": [
    "len(loads.reindex(zmp.index).interpolate(method='linear'))"
   ]
  },
  {
   "cell_type": "code",
   "execution_count": 104,
   "metadata": {},
   "outputs": [
    {
     "data": {
      "text/html": [
       "<div>\n",
       "<style scoped>\n",
       "    .dataframe tbody tr th:only-of-type {\n",
       "        vertical-align: middle;\n",
       "    }\n",
       "\n",
       "    .dataframe tbody tr th {\n",
       "        vertical-align: top;\n",
       "    }\n",
       "\n",
       "    .dataframe thead th {\n",
       "        text-align: right;\n",
       "    }\n",
       "</style>\n",
       "<table border=\"1\" class=\"dataframe\">\n",
       "  <thead>\n",
       "    <tr style=\"text-align: right;\">\n",
       "      <th>Load</th>\n",
       "      <th>GB electricity</th>\n",
       "    </tr>\n",
       "    <tr>\n",
       "      <th>snapshot</th>\n",
       "      <th></th>\n",
       "    </tr>\n",
       "  </thead>\n",
       "  <tbody>\n",
       "    <tr>\n",
       "      <th>2022-01-03 05:00:00</th>\n",
       "      <td>23855.233333</td>\n",
       "    </tr>\n",
       "    <tr>\n",
       "      <th>2022-02-17 03:00:00</th>\n",
       "      <td>25176.950000</td>\n",
       "    </tr>\n",
       "    <tr>\n",
       "      <th>2022-02-17 03:30:00</th>\n",
       "      <td>24985.137500</td>\n",
       "    </tr>\n",
       "    <tr>\n",
       "      <th>2022-02-17 04:00:00</th>\n",
       "      <td>24793.325000</td>\n",
       "    </tr>\n",
       "    <tr>\n",
       "      <th>2022-02-17 04:30:00</th>\n",
       "      <td>25118.425000</td>\n",
       "    </tr>\n",
       "    <tr>\n",
       "      <th>...</th>\n",
       "      <td>...</td>\n",
       "    </tr>\n",
       "    <tr>\n",
       "      <th>2023-01-15 06:00:00</th>\n",
       "      <td>22448.358333</td>\n",
       "    </tr>\n",
       "    <tr>\n",
       "      <th>2023-01-15 06:30:00</th>\n",
       "      <td>24401.358333</td>\n",
       "    </tr>\n",
       "    <tr>\n",
       "      <th>2023-03-13 05:00:00</th>\n",
       "      <td>22381.608333</td>\n",
       "    </tr>\n",
       "    <tr>\n",
       "      <th>2023-03-13 05:30:00</th>\n",
       "      <td>24506.466667</td>\n",
       "    </tr>\n",
       "    <tr>\n",
       "      <th>2023-03-25 04:00:00</th>\n",
       "      <td>23714.325000</td>\n",
       "    </tr>\n",
       "  </tbody>\n",
       "</table>\n",
       "<p>93 rows × 1 columns</p>\n",
       "</div>"
      ],
      "text/plain": [
       "Load                 GB electricity\n",
       "snapshot                           \n",
       "2022-01-03 05:00:00    23855.233333\n",
       "2022-02-17 03:00:00    25176.950000\n",
       "2022-02-17 03:30:00    24985.137500\n",
       "2022-02-17 04:00:00    24793.325000\n",
       "2022-02-17 04:30:00    25118.425000\n",
       "...                             ...\n",
       "2023-01-15 06:00:00    22448.358333\n",
       "2023-01-15 06:30:00    24401.358333\n",
       "2023-03-13 05:00:00    22381.608333\n",
       "2023-03-13 05:30:00    24506.466667\n",
       "2023-03-25 04:00:00    23714.325000\n",
       "\n",
       "[93 rows x 1 columns]"
      ]
     },
     "execution_count": 104,
     "metadata": {},
     "output_type": "execute_result"
    }
   ],
   "source": [
    "loads.reindex(zmp.index).interpolate(method='linear').loc[neg['national'].index]"
   ]
  },
  {
   "cell_type": "code",
   "execution_count": 116,
   "metadata": {},
   "outputs": [
    {
     "data": {
      "text/plain": [
       "Index(['wholesale', 'congestion_rent', 'cfd_payments', 'roc_payments',\n",
       "       'offer_cost', 'bid_cost', 'balancing_volume'],\n",
       "      dtype='object')"
      ]
     },
     "execution_count": 116,
     "metadata": {},
     "output_type": "execute_result"
    }
   ],
   "source": [
    "sc.index.get_level_values(1).unique()"
   ]
  },
  {
   "cell_type": "code",
   "execution_count": 219,
   "metadata": {},
   "outputs": [],
   "source": [
    "\n",
    "\n",
    "def bars_to_ax(ax, lmp, loads, weights, costs, index_groups):\n",
    "\n",
    "    distributed_price = costs.sum().drop('wholesale') / loads.sum().sum() / 2 * 1e6\n",
    "\n",
    "    total_load = loads.sum().sum()\n",
    "\n",
    "    bar_kwargs = {\n",
    "        'alpha': 0.8,\n",
    "    }\n",
    "    # Create distinct colors for each cost component.\n",
    "\n",
    "    for j, group in enumerate(index_groups):\n",
    "\n",
    "        cumulative_positive = 0\n",
    "        cumulative_negative = 0\n",
    "\n",
    "        for i, (cat, value) in enumerate(distributed_price.items()):\n",
    "\n",
    "            if value >= 0:\n",
    "                ax.bar(j-0.25, value, width=0.5, bottom=cumulative_positive,\n",
    "                    color=color_dict[cat], align='edge', label=f\"cost: {cat}\", **bar_kwargs)\n",
    "                ax.plot(\n",
    "                    [j-0.25, j+0.25],\n",
    "                    [cumulative_positive + value, cumulative_positive + value],\n",
    "                    color='k',\n",
    "                    alpha=0.5,\n",
    "                    lw=0.5,\n",
    "                )\n",
    "                cumulative_positive += value\n",
    "            else:\n",
    "                ax.bar(j-0.25, value, width=0.5, bottom=cumulative_negative,\n",
    "                    color=color_dict[cat], align='edge', label=f\"cost: {cat}\", **bar_kwargs)\n",
    "                ax.plot(\n",
    "                    [j-0.25, j+0.25],\n",
    "                    [cumulative_negative + value, cumulative_negative + value],\n",
    "                    color='k',\n",
    "                    alpha=0.5,\n",
    "                    lw=0.5,\n",
    "                )\n",
    "                cumulative_negative += value\n",
    "\n",
    "        assert len(lmp[group].iloc[0].unique()) == 1, \"There should be only one unique value in the group\"\n",
    "        lmp_group = lmp[group].mean(axis=1)\n",
    "\n",
    "        avg = (lmp_group * loads.values.flatten()).sum() / total_load\n",
    "        x_loc = j - 0.25\n",
    "        bar_width = 0.5\n",
    "\n",
    "        if avg >= 0:\n",
    "            ax.bar(\n",
    "                x_loc,\n",
    "                avg,\n",
    "                width=bar_width,\n",
    "                bottom=cumulative_positive,\n",
    "                align='edge',\n",
    "                label=\"lmp_group\",\n",
    "                color=color_dict['wholesale'],\n",
    "                **bar_kwargs,\n",
    "            )\n",
    "            ax.plot(\n",
    "                [x_loc, x_loc + bar_width],\n",
    "                [cumulative_positive + avg, cumulative_positive + avg],\n",
    "                color='k',\n",
    "                alpha=0.5,\n",
    "                lw=0.5,\n",
    "            )\n",
    "        else:\n",
    "            ax.bar(\n",
    "                x_loc,\n",
    "                avg,\n",
    "                width=bar_width,\n",
    "                bottom=cumulative_negative,\n",
    "                align='edge',\n",
    "                label=\"lmp_group\",\n",
    "                color=color_dict['wholesale'],\n",
    "                **bar_kwargs,\n",
    "            )\n",
    "            ax.plot(\n",
    "                [x_loc, x_loc + bar_width],\n",
    "                [cumulative_negative + avg, cumulative_negative + avg],\n",
    "                color='k',\n",
    "                alpha=0.5,\n",
    "                lw=0.5,\n",
    "            )\n",
    "        ax.plot(\n",
    "            [x_loc, x_loc + bar_width],\n",
    "            [cumulative_positive + cumulative_negative + avg, cumulative_positive + cumulative_negative + avg],\n",
    "            color='r',\n",
    "            alpha=0.5,\n",
    "        )\n",
    "    ax.set_xticks([])"
   ]
  },
  {
   "cell_type": "code",
   "execution_count": 220,
   "metadata": {},
   "outputs": [],
   "source": [
    "ss = mixed['zonal'].iloc[0]\n",
    "\n",
    "low_cost_regions = ss[ss < 0].index\n",
    "high_cost_regions = ss[ss > 0].index"
   ]
  },
  {
   "cell_type": "code",
   "execution_count": 230,
   "metadata": {},
   "outputs": [
    {
     "data": {
      "image/png": "[encoded data removed]",
      "text/plain": [
       "<Figure size 500x700 with 6 Axes>"
      ]
     },
     "metadata": {},
     "output_type": "display_data"
    }
   ],
   "source": [
    "\n",
    "\n",
    "fig, axs = plt.subplots(3, 2, figsize=(5, 7), gridspec_kw={'width_ratios': [1, 2]})\n",
    "\n",
    "bars_to_ax(\n",
    "    axs[0,1],\n",
    "    neg['zonal'],\n",
    "    loads.loc[neg['zonal'].index],\n",
    "    lw,\n",
    "    sc.loc[idx[neg['zonal'].index, :], 'zonal'].unstack().drop(columns=['balancing_volume']),\n",
    "    [low_cost_regions, high_cost_regions]\n",
    "    )\n",
    "\n",
    "bars_to_ax(\n",
    "    axs[0,0],\n",
    "    neg['national'],\n",
    "    loads.loc[neg['national'].index],\n",
    "    lw,\n",
    "    sc.loc[idx[neg['national'].index, :], 'national'].unstack().drop(columns=['balancing_volume']),\n",
    "    [['GB']]\n",
    "    )\n",
    "\n",
    "bars_to_ax(\n",
    "    axs[1,1],\n",
    "    pos['zonal'],\n",
    "    loads.loc[pos['zonal'].index],\n",
    "    lw,\n",
    "    sc.loc[idx[pos['zonal'].index, :], 'zonal'].unstack().drop(columns=['balancing_volume']),\n",
    "    [low_cost_regions, high_cost_regions]\n",
    "    )\n",
    "\n",
    "bars_to_ax(\n",
    "    axs[1,0],\n",
    "    pos['national'],\n",
    "    loads.loc[pos['national'].index],\n",
    "    lw,\n",
    "    sc.loc[idx[pos['national'].index, :], 'national'].unstack().drop(columns=['balancing_volume']),\n",
    "    [['GB']]\n",
    "    )\n",
    "\n",
    "bars_to_ax(\n",
    "    axs[2,1],\n",
    "    mixed['zonal'],\n",
    "    loads.loc[mixed['zonal'].index],\n",
    "    lw,\n",
    "    sc.loc[idx[mixed['zonal'].index, :], 'zonal'].unstack().drop(columns=['balancing_volume']),\n",
    "    [low_cost_regions, high_cost_regions]\n",
    "    )\n",
    "\n",
    "bars_to_ax(\n",
    "    axs[2,0],\n",
    "    mixed['national'],\n",
    "    loads.loc[mixed['national'].index],\n",
    "    lw,\n",
    "    sc.loc[idx[mixed['national'].index, :], 'national'].unstack().drop(columns=['balancing_volume']),\n",
    "    [['GB']]\n",
    "    )\n",
    "\n",
    "for ax in axs[:, 0]:\n",
    "    ax.set_xlim(-0.5, 0.5)\n",
    "\n",
    "for ax in axs[:, 1]:\n",
    "    ax.set_xlim(-0.5, 1.5)\n",
    "\n",
    "for ax in axs[:,1]:\n",
    "    ax.set_yticklabels([])\n",
    "    # (Intentionally left blank so as not to remove the y-ticks; the grid remains via the existing ticks.)\n",
    "    ax.spines['left'].set_visible(False)\n",
    "\n",
    "\n",
    "for ax in axs.flatten():\n",
    "    ax.spines['top'].set_visible(False)\n",
    "    ax.spines['right'].set_visible(False)\n",
    "    ax.grid(True, linestyle='--', axis='y')\n",
    "    ax.set_axisbelow(True)\n",
    "\n",
    "for ax in axs[0]:\n",
    "    ax.set_ylim(-70, 70)\n",
    "for ax in axs[1]:\n",
    "    ax.set_ylim(-20, 250)\n",
    "for ax in axs[2]:\n",
    "    ax.set_ylim(-70, 220)\n",
    "\n",
    "plt.show()"
   ]
  },
  {
   "cell_type": "code",
   "execution_count": null,
   "metadata": {},
   "outputs": [
    {
     "data": {
      "text/plain": [
       "2022-01-01 00:00:00\n",
       " 73.097151    225\n",
       "-77.290000     59\n",
       "Name: count, dtype: int64"
      ]
     },
     "execution_count": 183,
     "metadata": {},
     "output_type": "execute_result"
    }
   ],
   "source": []
  }
 ],
 "metadata": {
  "kernelspec": {
   "display_name": "Python 3",
   "language": "python",
   "name": "python3"
  },
  "language_info": {
   "codemirror_mode": {
    "name": "ipython",
    "version": 3
   },
   "file_extension": ".py",
   "mimetype": "text/x-python",
   "name": "python",
   "nbconvert_exporter": "python",
   "pygments_lexer": "ipython3",
   "version": "3.12.7"
  }
 },
 "nbformat": 4,
 "nbformat_minor": 2
}
