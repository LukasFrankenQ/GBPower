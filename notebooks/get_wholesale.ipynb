{
 "cells": [
  {
   "cell_type": "code",
   "execution_count": 2,
   "metadata": {},
   "outputs": [],
   "source": [
    "import pandas as pd\n",
    "import numpy as np\n",
    "import matplotlib.pyplot as plt\n",
    "import requests"
   ]
  },
  {
   "cell_type": "code",
   "execution_count": 22,
   "metadata": {},
   "outputs": [],
   "source": [
    "start = '2022-04-01'\n",
    "end = '2022-04-08'"
   ]
  },
  {
   "cell_type": "code",
   "execution_count": 23,
   "metadata": {},
   "outputs": [],
   "source": [
    "request = requests.get(url)"
   ]
  },
  {
   "cell_type": "code",
   "execution_count": null,
   "metadata": {},
   "outputs": [
    {
     "name": "stdout",
     "output_type": "stream",
     "text": [
      "2022-05-01 00:00:00+00:00\n",
      "0 days 00:00:00\n",
      "2022-04-01 2022-04-08\n",
      "7 days 00:00:00\n",
      "2022-04-08 2022-04-15\n",
      "14 days 00:00:00\n",
      "2022-04-15 2022-04-22\n",
      "21 days 00:00:00\n",
      "2022-04-22 2022-04-29\n",
      "28 days 00:00:00\n",
      "2022-04-29 2022-05-01\n"
     ]
    }
   ],
   "source": [
    "from io import StringIO\n",
    "\n",
    "start = '2022-04-01'\n",
    "end  = '2022-05-01'\n",
    "\n",
    "url = (\n",
    "    'https://data.elexon.co.uk/bmrs/api/v1/balancing/pricing/'\n",
    "    'market-index?from={}T00%3A00Z&to={}'\n",
    "    'T00%3A00Z&dataProviders=N2EX&dataProviders=APX&format=csv'\n",
    ")\n",
    "\n",
    "def dt(dt):\n",
    "    return pd.Timestamp(dt)\n",
    "\n",
    "\n",
    "df = build_day_ahead_prices(start, end)"
   ]
  },
  {
   "cell_type": "code",
   "execution_count": 123,
   "metadata": {},
   "outputs": [
    {
     "data": {
      "text/plain": [
       "DatetimeIndex(['2022-04-30 17:30:00+00:00'], dtype='datetime64[ns, UTC]', freq=None)"
      ]
     },
     "execution_count": 123,
     "metadata": {},
     "output_type": "execute_result"
    }
   ],
   "source": [
    "all_dates = list(map(pd.Timestamp, pd.date_range(start, end, freq='30min', tz='utc')[:-1]))\n",
    "\n",
    "pd.Index(all_dates).difference(df.index)"
   ]
  },
  {
   "cell_type": "code",
   "execution_count": 124,
   "metadata": {},
   "outputs": [
    {
     "name": "stdout",
     "output_type": "stream",
     "text": [
      "2022-04-01 00:00:00+00:00\n",
      "2022-04-01 00:00:00+00:00\n",
      "True\n"
     ]
    }
   ],
   "source": [
    "print(pd.Index(all_dates)[0])\n",
    "print(df.index[0])\n",
    "print(pd.Index(all_dates)[0] == df.index[0])"
   ]
  },
  {
   "cell_type": "code",
   "execution_count": 102,
   "metadata": {},
   "outputs": [
    {
     "data": {
      "text/plain": [
       "StartTime\n",
       "2022-04-15 00:00:00+00:00    140.74\n",
       "2022-04-15 00:00:00+00:00    140.74\n",
       "dtype: float64"
      ]
     },
     "execution_count": 102,
     "metadata": {},
     "output_type": "execute_result"
    }
   ],
   "source": [
    "df.loc['2022-04-15 00:00:00+00:00']"
   ]
  },
  {
   "cell_type": "code",
   "execution_count": 95,
   "metadata": {},
   "outputs": [
    {
     "data": {
      "text/plain": [
       "StartTime\n",
       "2022-04-01 00:00:00+00:00    1\n",
       "2022-04-20 14:30:00+00:00    1\n",
       "2022-04-20 18:30:00+00:00    1\n",
       "2022-04-20 18:00:00+00:00    1\n",
       "2022-04-20 17:30:00+00:00    1\n",
       "                            ..\n",
       "2022-04-10 18:00:00+00:00    1\n",
       "2022-04-10 17:30:00+00:00    1\n",
       "2022-04-10 17:00:00+00:00    1\n",
       "2022-04-10 16:30:00+00:00    1\n",
       "2022-04-30 23:30:00+00:00    1\n",
       "Name: count, Length: 1385, dtype: int64"
      ]
     },
     "execution_count": 95,
     "metadata": {},
     "output_type": "execute_result"
    }
   ],
   "source": [
    "pd.Series(df.index).value_counts()"
   ]
  },
  {
   "cell_type": "code",
   "execution_count": 59,
   "metadata": {},
   "outputs": [
    {
     "data": {
      "text/plain": [
       "StartTime\n",
       "2022-04-08 00:00:00+00:00    766.55\n",
       "2022-04-08 00:30:00+00:00    805.30\n",
       "2022-04-08 01:00:00+00:00    796.60\n",
       "2022-04-08 01:30:00+00:00    837.10\n",
       "2022-04-08 02:00:00+00:00    753.95\n",
       "                              ...  \n",
       "2022-04-29 22:00:00+00:00    588.20\n",
       "2022-04-29 22:30:00+00:00    346.25\n",
       "2022-04-29 23:00:00+00:00    227.65\n",
       "2022-04-29 23:30:00+00:00    365.60\n",
       "2022-04-30 00:00:00+00:00    612.10\n",
       "Name: Volume, Length: 1057, dtype: float64"
      ]
     },
     "execution_count": 59,
     "metadata": {},
     "output_type": "execute_result"
    }
   ],
   "source": [
    "df.groupby(df.index)['Volume'].sum()"
   ]
  },
  {
   "cell_type": "code",
   "execution_count": 68,
   "metadata": {},
   "outputs": [],
   "source": [
    "clean = (\n",
    "    (a := df.loc[df.DataProvider == \"APXMIDP\"])['Price'].mul(\n",
    "        a.Volume.div(\n",
    "            t := df.groupby(df.index)['Volume'].sum()\n",
    "        )) + \n",
    "    (n := df.loc[df.DataProvider == \"N2EXMIDP\"])['Price'].mul(\n",
    "        n.Volume.div(t)\n",
    "    )\n",
    ")"
   ]
  },
  {
   "cell_type": "code",
   "execution_count": 72,
   "metadata": {},
   "outputs": [
    {
     "data": {
      "text/html": [
       "<div>\n",
       "<style scoped>\n",
       "    .dataframe tbody tr th:only-of-type {\n",
       "        vertical-align: middle;\n",
       "    }\n",
       "\n",
       "    .dataframe tbody tr th {\n",
       "        vertical-align: top;\n",
       "    }\n",
       "\n",
       "    .dataframe thead th {\n",
       "        text-align: right;\n",
       "    }\n",
       "</style>\n",
       "<table border=\"1\" class=\"dataframe\">\n",
       "  <thead>\n",
       "    <tr style=\"text-align: right;\">\n",
       "      <th></th>\n",
       "      <th>day_ahead_price</th>\n",
       "    </tr>\n",
       "    <tr>\n",
       "      <th>StartTime</th>\n",
       "      <th></th>\n",
       "    </tr>\n",
       "  </thead>\n",
       "  <tbody>\n",
       "    <tr>\n",
       "      <th>2022-04-08 00:00:00+00:00</th>\n",
       "      <td>194.74</td>\n",
       "    </tr>\n",
       "    <tr>\n",
       "      <th>2022-04-08 00:30:00+00:00</th>\n",
       "      <td>208.77</td>\n",
       "    </tr>\n",
       "    <tr>\n",
       "      <th>2022-04-08 01:00:00+00:00</th>\n",
       "      <td>198.25</td>\n",
       "    </tr>\n",
       "    <tr>\n",
       "      <th>2022-04-08 01:30:00+00:00</th>\n",
       "      <td>194.20</td>\n",
       "    </tr>\n",
       "    <tr>\n",
       "      <th>2022-04-08 02:00:00+00:00</th>\n",
       "      <td>190.06</td>\n",
       "    </tr>\n",
       "    <tr>\n",
       "      <th>...</th>\n",
       "      <td>...</td>\n",
       "    </tr>\n",
       "    <tr>\n",
       "      <th>2022-04-29 22:00:00+00:00</th>\n",
       "      <td>170.50</td>\n",
       "    </tr>\n",
       "    <tr>\n",
       "      <th>2022-04-29 22:30:00+00:00</th>\n",
       "      <td>101.14</td>\n",
       "    </tr>\n",
       "    <tr>\n",
       "      <th>2022-04-29 23:00:00+00:00</th>\n",
       "      <td>101.30</td>\n",
       "    </tr>\n",
       "    <tr>\n",
       "      <th>2022-04-29 23:30:00+00:00</th>\n",
       "      <td>92.31</td>\n",
       "    </tr>\n",
       "    <tr>\n",
       "      <th>2022-04-30 00:00:00+00:00</th>\n",
       "      <td>108.10</td>\n",
       "    </tr>\n",
       "  </tbody>\n",
       "</table>\n",
       "<p>1060 rows × 1 columns</p>\n",
       "</div>"
      ],
      "text/plain": [
       "                           day_ahead_price\n",
       "StartTime                                 \n",
       "2022-04-08 00:00:00+00:00           194.74\n",
       "2022-04-08 00:30:00+00:00           208.77\n",
       "2022-04-08 01:00:00+00:00           198.25\n",
       "2022-04-08 01:30:00+00:00           194.20\n",
       "2022-04-08 02:00:00+00:00           190.06\n",
       "...                                    ...\n",
       "2022-04-29 22:00:00+00:00           170.50\n",
       "2022-04-29 22:30:00+00:00           101.14\n",
       "2022-04-29 23:00:00+00:00           101.30\n",
       "2022-04-29 23:30:00+00:00            92.31\n",
       "2022-04-30 00:00:00+00:00           108.10\n",
       "\n",
       "[1060 rows x 1 columns]"
      ]
     },
     "execution_count": 72,
     "metadata": {},
     "output_type": "execute_result"
    }
   ],
   "source": [
    "clean.rename('day_ahead_price').to_frame()"
   ]
  },
  {
   "cell_type": "code",
   "execution_count": 134,
   "metadata": {},
   "outputs": [
    {
     "data": {
      "image/png": "[encoded data removed]",
      "text/plain": [
       "<Figure size 1500x400 with 1 Axes>"
      ]
     },
     "metadata": {},
     "output_type": "display_data"
    }
   ],
   "source": [
    "fig, ax =  plt.subplots(1, 1, figsize=(15, 4))\n",
    "\n",
    "# df.plot.scatter(ax=ax, label='clean')\n",
    "d = df.reindex(all_dates).interpolate()\n",
    "ax.scatter(d.index[-50:], d.values[-50:], label='fixed')\n",
    "ax.scatter(df.index[-50:], df.values[-50:], label='raw')\n",
    "\n",
    "ax.legend()\n",
    "plt.show()"
   ]
  },
  {
   "cell_type": "code",
   "execution_count": 46,
   "metadata": {},
   "outputs": [
    {
     "name": "stdout",
     "output_type": "stream",
     "text": [
      "https://data.elexon.co.uk/bmrs/api/v1/balancing/pricing/market-index?from=2022-04-01T00%3A00Z&to=2022-04-05T00%3A00Z&dataProviders=N2EX&dataProviders=APX&format=csv\n"
     ]
    },
    {
     "data": {
      "text/plain": [
       "'https://data.elexon.co.uk/bmrs/api/v1/balancing/pricing/market-index?from=2022-10-12T00%3A00Z&to=2022-10-19T00%3A00Z&dataProviders=N2EX&dataProviders=APX&format=csv'"
      ]
     },
     "execution_count": 46,
     "metadata": {},
     "output_type": "execute_result"
    }
   ],
   "source": [
    "from io import StringIO\n",
    "\n",
    "\n",
    "start = '2022-04-01'\n",
    "end = '2022-04-05'\n",
    "url = (\n",
    "    'https://data.elexon.co.uk/bmrs/api/v1/balancing/pricing/'\n",
    "    f'market-index?from={start}T00%3A00Z&to={end}'\n",
    "    'T00%3A00Z&dataProviders=N2EX&dataProviders=APX&format=csv'\n",
    ")\n",
    "print(url)\n",
    "\n",
    "response = requests.get(url)\n",
    "data = StringIO(response.text)\n",
    "df = pd.read_csv(data, index_col=0, parse_dates=True)\n",
    "\n",
    "'https://data.elexon.co.uk/bmrs/api/v1/balancing/pricing/market-index?from=2022-10-12T00%3A00Z&to=2022-10-19T00%3A00Z&dataProviders=N2EX&dataProviders=APX&format=csv'\n"
   ]
  },
  {
   "cell_type": "code",
   "execution_count": 48,
   "metadata": {},
   "outputs": [
    {
     "data": {
      "text/html": [
       "<div>\n",
       "<style scoped>\n",
       "    .dataframe tbody tr th:only-of-type {\n",
       "        vertical-align: middle;\n",
       "    }\n",
       "\n",
       "    .dataframe tbody tr th {\n",
       "        vertical-align: top;\n",
       "    }\n",
       "\n",
       "    .dataframe thead th {\n",
       "        text-align: right;\n",
       "    }\n",
       "</style>\n",
       "<table border=\"1\" class=\"dataframe\">\n",
       "  <thead>\n",
       "    <tr style=\"text-align: right;\">\n",
       "      <th></th>\n",
       "      <th>DataProvider</th>\n",
       "      <th>SettlementDate</th>\n",
       "      <th>SettlementPeriod</th>\n",
       "      <th>Price</th>\n",
       "      <th>Volume</th>\n",
       "    </tr>\n",
       "    <tr>\n",
       "      <th>StartTime</th>\n",
       "      <th></th>\n",
       "      <th></th>\n",
       "      <th></th>\n",
       "      <th></th>\n",
       "      <th></th>\n",
       "    </tr>\n",
       "  </thead>\n",
       "  <tbody>\n",
       "    <tr>\n",
       "      <th>2022-04-01 00:00:00+00:00</th>\n",
       "      <td>N2EXMIDP</td>\n",
       "      <td>2022-04-01</td>\n",
       "      <td>3</td>\n",
       "      <td>0.00</td>\n",
       "      <td>0.00</td>\n",
       "    </tr>\n",
       "    <tr>\n",
       "      <th>2022-04-01 00:00:00+00:00</th>\n",
       "      <td>APXMIDP</td>\n",
       "      <td>2022-04-01</td>\n",
       "      <td>3</td>\n",
       "      <td>201.57</td>\n",
       "      <td>757.15</td>\n",
       "    </tr>\n",
       "    <tr>\n",
       "      <th>2022-04-01 00:30:00+00:00</th>\n",
       "      <td>APXMIDP</td>\n",
       "      <td>2022-04-01</td>\n",
       "      <td>4</td>\n",
       "      <td>223.50</td>\n",
       "      <td>935.80</td>\n",
       "    </tr>\n",
       "    <tr>\n",
       "      <th>2022-04-01 00:30:00+00:00</th>\n",
       "      <td>N2EXMIDP</td>\n",
       "      <td>2022-04-01</td>\n",
       "      <td>4</td>\n",
       "      <td>0.00</td>\n",
       "      <td>0.00</td>\n",
       "    </tr>\n",
       "    <tr>\n",
       "      <th>2022-04-01 01:00:00+00:00</th>\n",
       "      <td>APXMIDP</td>\n",
       "      <td>2022-04-01</td>\n",
       "      <td>5</td>\n",
       "      <td>201.54</td>\n",
       "      <td>897.50</td>\n",
       "    </tr>\n",
       "    <tr>\n",
       "      <th>...</th>\n",
       "      <td>...</td>\n",
       "      <td>...</td>\n",
       "      <td>...</td>\n",
       "      <td>...</td>\n",
       "      <td>...</td>\n",
       "    </tr>\n",
       "    <tr>\n",
       "      <th>2022-04-04 23:00:00+00:00</th>\n",
       "      <td>APXMIDP</td>\n",
       "      <td>2022-04-05</td>\n",
       "      <td>1</td>\n",
       "      <td>198.42</td>\n",
       "      <td>663.70</td>\n",
       "    </tr>\n",
       "    <tr>\n",
       "      <th>2022-04-04 23:30:00+00:00</th>\n",
       "      <td>N2EXMIDP</td>\n",
       "      <td>2022-04-05</td>\n",
       "      <td>2</td>\n",
       "      <td>0.00</td>\n",
       "      <td>0.00</td>\n",
       "    </tr>\n",
       "    <tr>\n",
       "      <th>2022-04-04 23:30:00+00:00</th>\n",
       "      <td>APXMIDP</td>\n",
       "      <td>2022-04-05</td>\n",
       "      <td>2</td>\n",
       "      <td>205.67</td>\n",
       "      <td>696.05</td>\n",
       "    </tr>\n",
       "    <tr>\n",
       "      <th>2022-04-05 00:00:00+00:00</th>\n",
       "      <td>N2EXMIDP</td>\n",
       "      <td>2022-04-05</td>\n",
       "      <td>3</td>\n",
       "      <td>0.00</td>\n",
       "      <td>0.00</td>\n",
       "    </tr>\n",
       "    <tr>\n",
       "      <th>2022-04-05 00:00:00+00:00</th>\n",
       "      <td>APXMIDP</td>\n",
       "      <td>2022-04-05</td>\n",
       "      <td>3</td>\n",
       "      <td>208.62</td>\n",
       "      <td>634.80</td>\n",
       "    </tr>\n",
       "  </tbody>\n",
       "</table>\n",
       "<p>383 rows × 5 columns</p>\n",
       "</div>"
      ],
      "text/plain": [
       "                          DataProvider SettlementDate  SettlementPeriod  \\\n",
       "StartTime                                                                 \n",
       "2022-04-01 00:00:00+00:00     N2EXMIDP     2022-04-01                 3   \n",
       "2022-04-01 00:00:00+00:00      APXMIDP     2022-04-01                 3   \n",
       "2022-04-01 00:30:00+00:00      APXMIDP     2022-04-01                 4   \n",
       "2022-04-01 00:30:00+00:00     N2EXMIDP     2022-04-01                 4   \n",
       "2022-04-01 01:00:00+00:00      APXMIDP     2022-04-01                 5   \n",
       "...                                ...            ...               ...   \n",
       "2022-04-04 23:00:00+00:00      APXMIDP     2022-04-05                 1   \n",
       "2022-04-04 23:30:00+00:00     N2EXMIDP     2022-04-05                 2   \n",
       "2022-04-04 23:30:00+00:00      APXMIDP     2022-04-05                 2   \n",
       "2022-04-05 00:00:00+00:00     N2EXMIDP     2022-04-05                 3   \n",
       "2022-04-05 00:00:00+00:00      APXMIDP     2022-04-05                 3   \n",
       "\n",
       "                            Price  Volume  \n",
       "StartTime                                  \n",
       "2022-04-01 00:00:00+00:00    0.00    0.00  \n",
       "2022-04-01 00:00:00+00:00  201.57  757.15  \n",
       "2022-04-01 00:30:00+00:00  223.50  935.80  \n",
       "2022-04-01 00:30:00+00:00    0.00    0.00  \n",
       "2022-04-01 01:00:00+00:00  201.54  897.50  \n",
       "...                           ...     ...  \n",
       "2022-04-04 23:00:00+00:00  198.42  663.70  \n",
       "2022-04-04 23:30:00+00:00    0.00    0.00  \n",
       "2022-04-04 23:30:00+00:00  205.67  696.05  \n",
       "2022-04-05 00:00:00+00:00    0.00    0.00  \n",
       "2022-04-05 00:00:00+00:00  208.62  634.80  \n",
       "\n",
       "[383 rows x 5 columns]"
      ]
     },
     "execution_count": 48,
     "metadata": {},
     "output_type": "execute_result"
    }
   ],
   "source": [
    "df.sort_index()"
   ]
  },
  {
   "cell_type": "code",
   "execution_count": 1,
   "metadata": {},
   "outputs": [
    {
     "data": {
      "text/plain": [
       "DatetimeIndex(['2024-01-02 00:00:00', '2024-01-02 00:30:00',\n",
       "               '2024-01-02 01:00:00', '2024-01-02 01:30:00',\n",
       "               '2024-01-02 02:00:00', '2024-01-02 02:30:00',\n",
       "               '2024-01-02 03:00:00', '2024-01-02 03:30:00',\n",
       "               '2024-01-02 04:00:00', '2024-01-02 04:30:00',\n",
       "               '2024-01-02 05:00:00', '2024-01-02 05:30:00',\n",
       "               '2024-01-02 06:00:00', '2024-01-02 06:30:00',\n",
       "               '2024-01-02 07:00:00', '2024-01-02 07:30:00',\n",
       "               '2024-01-02 08:00:00', '2024-01-02 08:30:00',\n",
       "               '2024-01-02 09:00:00', '2024-01-02 09:30:00',\n",
       "               '2024-01-02 10:00:00', '2024-01-02 10:30:00',\n",
       "               '2024-01-02 11:00:00', '2024-01-02 11:30:00',\n",
       "               '2024-01-02 12:00:00', '2024-01-02 12:30:00',\n",
       "               '2024-01-02 13:00:00', '2024-01-02 13:30:00',\n",
       "               '2024-01-02 14:00:00', '2024-01-02 14:30:00',\n",
       "               '2024-01-02 15:00:00', '2024-01-02 15:30:00',\n",
       "               '2024-01-02 16:00:00', '2024-01-02 16:30:00',\n",
       "               '2024-01-02 17:00:00', '2024-01-02 17:30:00',\n",
       "               '2024-01-02 18:00:00', '2024-01-02 18:30:00',\n",
       "               '2024-01-02 19:00:00', '2024-01-02 19:30:00',\n",
       "               '2024-01-02 20:00:00', '2024-01-02 20:30:00',\n",
       "               '2024-01-02 21:00:00', '2024-01-02 21:30:00',\n",
       "               '2024-01-02 22:00:00', '2024-01-02 22:30:00',\n",
       "               '2024-01-02 23:00:00', '2024-01-02 23:30:00'],\n",
       "              dtype='datetime64[ns]', freq='30T')"
      ]
     },
     "execution_count": 1,
     "metadata": {},
     "output_type": "execute_result"
    }
   ],
   "source": [
    "import pandas as pd\n",
    "\n",
    "pd.date_range('2024-01-02', freq='30min')"
   ]
  },
  {
   "cell_type": "code",
   "execution_count": 5,
   "metadata": {},
   "outputs": [],
   "source": [
    "def to_date_period(dt):\n",
    "    assert dt.tz is not None, 'Datetime must have timezone'\n",
    "    dt = dt.tz_convert('Europe/London')\n",
    "    return dt.strftime('%Y-%m-%d'), dt.hour * 2 + dt.minute // 30 + 1"
   ]
  },
  {
   "cell_type": "code",
   "execution_count": 11,
   "metadata": {},
   "outputs": [
    {
     "name": "stdout",
     "output_type": "stream",
     "text": [
      "('2022-10-30', 1)\n"
     ]
    }
   ],
   "source": [
    "ts  = pd.Timestamp('2022-10-29 23:00:00+00:00')\n",
    "print(to_date_period(ts))"
   ]
  },
  {
   "cell_type": "code",
   "execution_count": 12,
   "metadata": {},
   "outputs": [
    {
     "data": {
      "text/plain": [
       "Timestamp('2022-10-30 00:00:00+0100', tz='Europe/London')"
      ]
     },
     "execution_count": 12,
     "metadata": {},
     "output_type": "execute_result"
    }
   ],
   "source": [
    "ts.tz_convert('Europe/London')"
   ]
  },
  {
   "cell_type": "code",
   "execution_count": 3,
   "metadata": {},
   "outputs": [],
   "source": [
    "import numpy as np\n",
    "import pandas as pd\n",
    "from pathlib import Path"
   ]
  },
  {
   "cell_type": "code",
   "execution_count": 4,
   "metadata": {},
   "outputs": [],
   "source": [
    "dah = pd.read_csv(Path.cwd().parent / 'data' / 'base' / '2022-05-30' / 'day_ahead_prices.csv', index_col=0, parse_dates=True)"
   ]
  },
  {
   "cell_type": "code",
   "execution_count": 24,
   "metadata": {},
   "outputs": [
    {
     "data": {
      "image/png": "[encoded data removed]",
      "text/plain": [
       "<Figure size 900x400 with 1 Axes>"
      ]
     },
     "metadata": {},
     "output_type": "display_data"
    }
   ],
   "source": [
    "import matplotlib.pyplot as plt\n",
    "\n",
    "fig, ax = plt.subplots(1, 1, figsize=(9, 4))\n",
    "\n",
    "dah.plot(ax=ax)\n",
    "(\n",
    "    dah.rolling(5, center=True, min_periods=1)\n",
    "    .mean()\n",
    "    .iloc[:,0]\n",
    "    .rename('rolling mean')\n",
    "    .plot(ax=ax)\n",
    ")\n",
    "\n",
    "ax.legend()\n",
    "plt.show()"
   ]
  }
 ],
 "metadata": {
  "kernelspec": {
   "display_name": "pypsa-eur",
   "language": "python",
   "name": "python3"
  },
  "language_info": {
   "codemirror_mode": {
    "name": "ipython",
    "version": 3
   },
   "file_extension": ".py",
   "mimetype": "text/x-python",
   "name": "python",
   "nbconvert_exporter": "python",
   "pygments_lexer": "ipython3",
   "version": "3.12.7"
  }
 },
 "nbformat": 4,
 "nbformat_minor": 2
}
