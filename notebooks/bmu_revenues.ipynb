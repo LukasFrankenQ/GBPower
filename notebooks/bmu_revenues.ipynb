{
 "cells": [
  {
   "cell_type": "code",
   "execution_count": 1,
   "metadata": {},
   "outputs": [
    {
     "name": "stderr",
     "output_type": "stream",
     "text": [
      "Cannot find header.dxf (GDAL_DATA is not defined)\n"
     ]
    }
   ],
   "source": [
    "import pypsa\n",
    "import numpy as np\n",
    "import pandas as pd\n",
    "from pathlib import Path\n",
    "import matplotlib.pyplot as plt"
   ]
  },
  {
   "cell_type": "code",
   "execution_count": 2,
   "metadata": {},
   "outputs": [
    {
     "name": "stderr",
     "output_type": "stream",
     "text": [
      "WARNING:pypsa.io:Importing network from PyPSA version v0.31.0 while current version is v0.32.0. Read the release notes at https://pypsa.readthedocs.io/en/latest/release_notes.html to prepare your network for import.\n",
      "INFO:pypsa.io:Imported network network_flex_s_national_solved.nc has buses, carriers, generators, links, loads, storage_units\n"
     ]
    }
   ],
   "source": [
    "n = pypsa.Network(\n",
    "    Path.cwd().parent / 'results' / '2024-10-27' / 'network_flex_s_national_solved.nc'\n",
    ")"
   ]
  },
  {
   "cell_type": "code",
   "execution_count": 15,
   "metadata": {},
   "outputs": [],
   "source": [
    "from pypsa.statistics import get_unit, get_carrier, get_bus_unit_and_carrier"
   ]
  },
  {
   "cell_type": "code",
   "execution_count": 21,
   "metadata": {},
   "outputs": [
    {
     "data": {
      "text/plain": [
       "component    bus        \n",
       "Generator    Belgium        1.454870e+06\n",
       "             Denmark        1.868072e+06\n",
       "             France         1.648563e+07\n",
       "             GB             1.053172e+08\n",
       "             Netherlands    1.357081e+06\n",
       "             Norway         6.224512e+06\n",
       "StorageUnit  GB             2.746853e+06\n",
       "dtype: float64"
      ]
     },
     "execution_count": 21,
     "metadata": {},
     "output_type": "execute_result"
    }
   ],
   "source": [
    "n.statistics.revenue(\n",
    "    comps=[\n",
    "        'Generator',\n",
    "        'StorageUnit',\n",
    "        ],\n",
    "        # groupby=get_unit,\n",
    "        groupby=pypsa.statistics.groupers[\"bus\"]\n",
    "        )\n"
   ]
  },
  {
   "cell_type": "code",
   "execution_count": null,
   "metadata": {},
   "outputs": [],
   "source": [
    "n.buses_t.marginal_price"
   ]
  },
  {
   "cell_type": "code",
   "execution_count": 19,
   "metadata": {},
   "outputs": [],
   "source": [
    "def get_generator_unit_revenue(n, unit):\n",
    "    return (\n",
    "        n.generators_t.p[unit].multiply(\n",
    "            0.5 * n.buses_t.marginal_price[n.generators.bus[unit]]\n",
    "            )\n",
    "    )\n",
    "\n",
    "total_revenue = 0\n",
    "for gen in n.generators.index:\n",
    "\n",
    "    if not n.generators.loc[gen, 'bus'] == 'GB':\n",
    "        continue\n",
    "\n",
    "    # print(get_generator_unit_revenue(n, gen).sum())\n",
    "    total_revenue += get_generator_unit_revenue(n, gen).sum()\n"
   ]
  },
  {
   "cell_type": "code",
   "execution_count": 20,
   "metadata": {},
   "outputs": [
    {
     "data": {
      "text/plain": [
       "105317179.43686303"
      ]
     },
     "execution_count": 20,
     "metadata": {},
     "output_type": "execute_result"
    }
   ],
   "source": [
    "total_revenue * 2"
   ]
  }
 ],
 "metadata": {
  "kernelspec": {
   "display_name": "pypsa-eur",
   "language": "python",
   "name": "python3"
  },
  "language_info": {
   "codemirror_mode": {
    "name": "ipython",
    "version": 3
   },
   "file_extension": ".py",
   "mimetype": "text/x-python",
   "name": "python",
   "nbconvert_exporter": "python",
   "pygments_lexer": "ipython3",
   "version": "3.12.7"
  }
 },
 "nbformat": 4,
 "nbformat_minor": 2
}
