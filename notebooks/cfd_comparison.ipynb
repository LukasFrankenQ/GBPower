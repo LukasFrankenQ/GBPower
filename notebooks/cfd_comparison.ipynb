{
 "cells": [
  {
   "cell_type": "code",
   "execution_count": 2,
   "metadata": {},
   "outputs": [],
   "source": [
    "import numpy as np\n",
    "import pandas as pd\n",
    "from pathlib import Path\n",
    "import matplotlib.pyplot as plt\n",
    "\n",
    "idx = pd.IndexSlice"
   ]
  },
  {
   "cell_type": "code",
   "execution_count": 3,
   "metadata": {},
   "outputs": [
    {
     "name": "stderr",
     "output_type": "stream",
     "text": [
      "C:\\Users\\lukas\\AppData\\Local\\Temp\\ipykernel_23180\\1453767975.py:3: UserWarning: Could not infer format, so each element will be parsed individually, falling back to `dateutil`. To ensure parsing is consistent and as-expected, please specify a format.\n",
      "  c = pd.read_csv(\n"
     ]
    }
   ],
   "source": [
    "fn = str(Path.cwd().parent / 'summaries' / 'total_summary_{}.csv').format('flex')\n",
    "\n",
    "c = pd.read_csv(\n",
    "    fn,\n",
    "    index_col=[0,1],\n",
    "    parse_dates=True\n",
    ").loc[idx[:,'congestion_rent'], 'zonal']\n",
    "\n",
    "\n",
    "c = c.groupby(c.index.get_level_values(0).strftime('%Y-%m-%d')).sum()"
   ]
  },
  {
   "cell_type": "code",
   "execution_count": 4,
   "metadata": {},
   "outputs": [],
   "source": [
    "fn = str(Path.cwd().parent / 'summaries' / 'total_summary_revenues_flex_{}.csv')\n",
    "\n",
    "r_zonal = pd.read_csv(\n",
    "    fn.format('zonal'),\n",
    "    index_col=0,\n",
    "    header=[0,1,2],\n",
    "    parse_dates=True\n",
    ")\n",
    "\n",
    "r_national = pd.read_csv(\n",
    "    fn.format('national'),\n",
    "    index_col=0,\n",
    "    header=[0,1,2],\n",
    "    parse_dates=True\n",
    ")"
   ]
  },
  {
   "cell_type": "code",
   "execution_count": 5,
   "metadata": {},
   "outputs": [
    {
     "data": {
      "text/plain": [
       "Index(['wind', 'disp', 'water', 'intercon', 'load'], dtype='object')"
      ]
     },
     "execution_count": 5,
     "metadata": {},
     "output_type": "execute_result"
    }
   ],
   "source": [
    "r_zonal.columns.get_level_values(1).unique()"
   ]
  },
  {
   "cell_type": "code",
   "execution_count": 58,
   "metadata": {},
   "outputs": [],
   "source": [
    "def prep_rev(df):\n",
    "\n",
    "    idx = pd.IndexSlice\n",
    "\n",
    "    df = df.copy()\n",
    "    # df = df.loc[:, idx[:,['wind','disp','water'], ['wholesale', 'cfd']]]\n",
    "    df = df.loc[:, idx[:,['wind','disp','water'], ['wholesale']]]\n",
    "\n",
    "    return df.groupby(df.index.strftime('%Y-%m-%d')).sum()\n",
    "\n",
    "\n",
    "zon = prep_rev(r_zonal)\n",
    "nat = prep_rev(r_national)"
   ]
  },
  {
   "cell_type": "code",
   "execution_count": 59,
   "metadata": {},
   "outputs": [],
   "source": [
    "diff = (zon - nat).sum(axis=1).mul(1e-6)"
   ]
  },
  {
   "cell_type": "code",
   "execution_count": 60,
   "metadata": {},
   "outputs": [
    {
     "data": {
      "text/html": [
       "<div>\n",
       "<style scoped>\n",
       "    .dataframe tbody tr th:only-of-type {\n",
       "        vertical-align: middle;\n",
       "    }\n",
       "\n",
       "    .dataframe tbody tr th {\n",
       "        vertical-align: top;\n",
       "    }\n",
       "\n",
       "    .dataframe thead th {\n",
       "        text-align: right;\n",
       "    }\n",
       "</style>\n",
       "<table border=\"1\" class=\"dataframe\">\n",
       "  <thead>\n",
       "    <tr style=\"text-align: right;\">\n",
       "      <th></th>\n",
       "      <th>lost_revenue</th>\n",
       "      <th>congestion_rent</th>\n",
       "    </tr>\n",
       "  </thead>\n",
       "  <tbody>\n",
       "    <tr>\n",
       "      <th>2022-03-08</th>\n",
       "      <td>-2.471814e+01</td>\n",
       "      <td>34.676233</td>\n",
       "    </tr>\n",
       "    <tr>\n",
       "      <th>2022-03-09</th>\n",
       "      <td>-3.867896e+01</td>\n",
       "      <td>32.310278</td>\n",
       "    </tr>\n",
       "    <tr>\n",
       "      <th>2022-08-18</th>\n",
       "      <td>-2.641308e+01</td>\n",
       "      <td>31.813850</td>\n",
       "    </tr>\n",
       "    <tr>\n",
       "      <th>2022-09-05</th>\n",
       "      <td>-2.359255e+01</td>\n",
       "      <td>28.981187</td>\n",
       "    </tr>\n",
       "    <tr>\n",
       "      <th>2022-09-03</th>\n",
       "      <td>-1.150396e+01</td>\n",
       "      <td>28.819984</td>\n",
       "    </tr>\n",
       "    <tr>\n",
       "      <th>...</th>\n",
       "      <td>...</td>\n",
       "      <td>...</td>\n",
       "    </tr>\n",
       "    <tr>\n",
       "      <th>2023-12-01</th>\n",
       "      <td>1.041405e-11</td>\n",
       "      <td>-0.000000</td>\n",
       "    </tr>\n",
       "    <tr>\n",
       "      <th>2023-11-30</th>\n",
       "      <td>-1.576496e-12</td>\n",
       "      <td>-0.000000</td>\n",
       "    </tr>\n",
       "    <tr>\n",
       "      <th>2023-06-14</th>\n",
       "      <td>-1.282245e-11</td>\n",
       "      <td>-0.000000</td>\n",
       "    </tr>\n",
       "    <tr>\n",
       "      <th>2023-06-13</th>\n",
       "      <td>-1.091138e-11</td>\n",
       "      <td>-0.000000</td>\n",
       "    </tr>\n",
       "    <tr>\n",
       "      <th>2024-02-14</th>\n",
       "      <td>-2.874425e-12</td>\n",
       "      <td>-0.000000</td>\n",
       "    </tr>\n",
       "  </tbody>\n",
       "</table>\n",
       "<p>1077 rows × 2 columns</p>\n",
       "</div>"
      ],
      "text/plain": [
       "            lost_revenue  congestion_rent\n",
       "2022-03-08 -2.471814e+01        34.676233\n",
       "2022-03-09 -3.867896e+01        32.310278\n",
       "2022-08-18 -2.641308e+01        31.813850\n",
       "2022-09-05 -2.359255e+01        28.981187\n",
       "2022-09-03 -1.150396e+01        28.819984\n",
       "...                  ...              ...\n",
       "2023-12-01  1.041405e-11        -0.000000\n",
       "2023-11-30 -1.576496e-12        -0.000000\n",
       "2023-06-14 -1.282245e-11        -0.000000\n",
       "2023-06-13 -1.091138e-11        -0.000000\n",
       "2024-02-14 -2.874425e-12        -0.000000\n",
       "\n",
       "[1077 rows x 2 columns]"
      ]
     },
     "execution_count": 60,
     "metadata": {},
     "output_type": "execute_result"
    }
   ],
   "source": [
    "plo = pd.concat((diff, c.mul(-1)), axis=1).rename(columns={\n",
    "    0: 'lost_revenue',\n",
    "    'zonal': 'congestion_rent',\n",
    "}).sort_values('congestion_rent', ascending=False)\n",
    "\n",
    "plo"
   ]
  },
  {
   "cell_type": "code",
   "execution_count": 61,
   "metadata": {},
   "outputs": [
    {
     "data": {
      "text/html": [
       "<div>\n",
       "<style scoped>\n",
       "    .dataframe tbody tr th:only-of-type {\n",
       "        vertical-align: middle;\n",
       "    }\n",
       "\n",
       "    .dataframe tbody tr th {\n",
       "        vertical-align: top;\n",
       "    }\n",
       "\n",
       "    .dataframe thead th {\n",
       "        text-align: right;\n",
       "    }\n",
       "</style>\n",
       "<table border=\"1\" class=\"dataframe\">\n",
       "  <thead>\n",
       "    <tr style=\"text-align: right;\">\n",
       "      <th></th>\n",
       "      <th>lost_revenue</th>\n",
       "      <th>congestion_rent</th>\n",
       "    </tr>\n",
       "  </thead>\n",
       "  <tbody>\n",
       "    <tr>\n",
       "      <th>2022-03-08</th>\n",
       "      <td>-24.718143</td>\n",
       "      <td>34.676233</td>\n",
       "    </tr>\n",
       "    <tr>\n",
       "      <th>2022-03-09</th>\n",
       "      <td>-38.678962</td>\n",
       "      <td>32.310278</td>\n",
       "    </tr>\n",
       "  </tbody>\n",
       "</table>\n",
       "</div>"
      ],
      "text/plain": [
       "            lost_revenue  congestion_rent\n",
       "2022-03-08    -24.718143        34.676233\n",
       "2022-03-09    -38.678962        32.310278"
      ]
     },
     "execution_count": 61,
     "metadata": {},
     "output_type": "execute_result"
    }
   ],
   "source": [
    "plo.head(2)"
   ]
  },
  {
   "cell_type": "code",
   "execution_count": 62,
   "metadata": {},
   "outputs": [
    {
     "data": {
      "image/png": "[encoded data removed]",
      "text/plain": [
       "<Figure size 1000x500 with 1 Axes>"
      ]
     },
     "metadata": {},
     "output_type": "display_data"
    }
   ],
   "source": [
    "import seaborn as sns\n",
    "from sklearn.linear_model import LinearRegression\n",
    "\n",
    "fig, ax = plt.subplots(1, 1, figsize=(10, 5))\n",
    "\n",
    "x = np.arange(len(plo))\n",
    "\n",
    "for i, (day, row) in enumerate(plo.iterrows()):\n",
    "    ax.bar(i, width=1, bottom=0, height=row.congestion_rent, alpha=0.5, color='y')\n",
    "    ax.bar(i, width=1, bottom=0, height=row.lost_revenue, alpha=0.5, color='tomato')\n",
    "\n",
    "# Prepare data for linear regression using sklearn\n",
    "X = x.reshape(-1, 1)\n",
    "y_total = (plo['congestion_rent'] + plo['lost_revenue']).values\n",
    "y_lost = plo['lost_revenue'].values\n",
    "\n",
    "# Linear regression for total (congestion_rent + lost_revenue)\n",
    "model_total = LinearRegression()\n",
    "model_total.fit(X, y_total)\n",
    "pred_total = model_total.predict(X)\n",
    "\n",
    "# Linear regression for lost revenue\n",
    "model_lost = LinearRegression()\n",
    "model_lost.fit(X, y_lost)\n",
    "pred_lost = model_lost.predict(X)\n",
    "\n",
    "# Plot the regression lines\n",
    "ax.plot(x, pred_total, color='k', linewidth=1)\n",
    "ax.fill_between(x, np.clip(pred_total, 0, None), color='k', alpha=0.2)\n",
    "ax.plot(x, pred_lost, color='r', linewidth=1)\n",
    "ax.fill_between(x, np.minimum(pred_lost, 0), color='r', alpha=0.2)\n",
    "\n",
    "\n",
    "ax.set_ylabel('Daily Congestion Rent and Lost Revenue (m£)')\n",
    "ax.set_ylim(plo['lost_revenue'].min() * 1.05, plo['congestion_rent'].max() * 1.05)\n",
    "\n",
    "ax.set_xticks([])\n",
    "ax.set_xlabel('Day')\n",
    "\n",
    "margin = 10\n",
    "positive_idx = np.where(pred_lost > 0)[0][0]\n",
    "\n",
    "#  if positive_idx.size > 0:\n",
    "#   upper_limit = positive_idx[-1] + margin\n",
    "# else:\n",
    "#     upper_limit = len(plo) + margin\n",
    "\n",
    "ax.set_xlim(-margin, positive_idx)\n",
    "\n",
    "ax.grid(True, linestyle='--', alpha=0.5, axis='y')\n",
    "ax.set_axisbelow(True)\n",
    "\n",
    "from matplotlib.patches import Patch\n",
    "from matplotlib.lines import Line2D\n",
    "filled_total_bn = np.clip(pred_total, 0, None).sum() / 1000.0\n",
    "filled_lost_bn = abs(np.minimum(pred_lost, 0).sum()) / 1000.0\n",
    "\n",
    "handles = [\n",
    "    Patch(facecolor='y', alpha=0.5, label='Congestion Rent'),\n",
    "    Patch(facecolor='tomato', alpha=0.5, label='Lost Revenue'),\n",
    "    Line2D([0], [0], color='k', lw=1, label='Trend: Total'),\n",
    "    Patch(facecolor='k', alpha=0.2, label=f'Filled Total: {filled_total_bn:.2f} bn£'),\n",
    "    Line2D([0], [0], color='r', lw=1, label='Trend: Lost Revenue'),\n",
    "    Patch(facecolor='r', alpha=0.2, label=f'Filled Lost Revenue: {filled_lost_bn:.2f} bn£')\n",
    "]\n",
    "\n",
    "ax.legend(handles=handles, loc='lower right')\n",
    "\n",
    "def add_number(num, x, y):\n",
    "    \"\"\"\n",
    "    Adds a text 'num' to the current plot at the position (x, y) with a circle around it.\n",
    "    \"\"\"\n",
    "    ax = plt.gca()  # Get the current axes\n",
    "    ax.text(\n",
    "        x, y, str(num),\n",
    "        ha='center', va='center',\n",
    "        bbox=dict(\n",
    "            boxstyle='circle',\n",
    "            edgecolor='black',\n",
    "            facecolor='w',\n",
    "            linewidth=1\n",
    "        )\n",
    "    )\n",
    "\n",
    "\n",
    "add_number(1, 20, 1.7)\n",
    "add_number(2, 20, -5)\n",
    "\n",
    "plt.show()"
   ]
  },
  {
   "cell_type": "code",
   "execution_count": 36,
   "metadata": {},
   "outputs": [
    {
     "name": "stdout",
     "output_type": "stream",
     "text": [
      "(-10.0, 1087.0)\n"
     ]
    }
   ],
   "source": [
    "print(ax.get_xlim())"
   ]
  },
  {
   "cell_type": "code",
   "execution_count": 35,
   "metadata": {},
   "outputs": [
    {
     "data": {
      "text/plain": [
       "1296.014387448101"
      ]
     },
     "execution_count": 35,
     "metadata": {},
     "output_type": "execute_result"
    }
   ],
   "source": [
    "(plo['lost_revenue'] + plo['congestion_rent']).sum()\n"
   ]
  }
 ],
 "metadata": {
  "kernelspec": {
   "display_name": "Python 3",
   "language": "python",
   "name": "python3"
  },
  "language_info": {
   "codemirror_mode": {
    "name": "ipython",
    "version": 3
   },
   "file_extension": ".py",
   "mimetype": "text/x-python",
   "name": "python",
   "nbconvert_exporter": "python",
   "pygments_lexer": "ipython3",
   "version": "3.12.7"
  }
 },
 "nbformat": 4,
 "nbformat_minor": 2
}
