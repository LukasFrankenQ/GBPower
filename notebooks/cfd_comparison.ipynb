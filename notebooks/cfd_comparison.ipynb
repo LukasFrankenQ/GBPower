{
 "cells": [
  {
   "cell_type": "code",
   "execution_count": 1,
   "metadata": {},
   "outputs": [],
   "source": [
    "import numpy as np\n",
    "import pandas as pd\n",
    "from pathlib import Path\n",
    "import matplotlib.pyplot as plt\n",
    "\n",
    "idx = pd.IndexSlice"
   ]
  },
  {
   "cell_type": "code",
   "execution_count": 2,
   "metadata": {},
   "outputs": [
    {
     "name": "stderr",
     "output_type": "stream",
     "text": [
      "C:\\Users\\lukas\\AppData\\Local\\Temp\\ipykernel_22664\\3412343294.py:3: UserWarning: Could not infer format, so each element will be parsed individually, falling back to `dateutil`. To ensure parsing is consistent and as-expected, please specify a format.\n",
      "  c = pd.read_csv(\n"
     ]
    }
   ],
   "source": [
    "fn = str(Path.cwd().parent / 'summaries' / 'total_summary_{}.csv').format('flex')\n",
    "\n",
    "c = pd.read_csv(\n",
    "    fn,\n",
    "    index_col=[0,1],\n",
    "    parse_dates=True\n",
    ").loc[idx[:,'congestion_rent'], 'zonal']\n",
    "\n",
    "'''\n",
    "w_zonal = pd.read_csv(\n",
    "    fn,\n",
    "    index_col=[0,1],\n",
    "    parse_dates=True\n",
    ").loc[idx[:,'wholesale'], 'zonal']\n",
    "\n",
    "w_national = pd.read_csv(\n",
    "    fn,\n",
    "    index_col=[0,1],\n",
    "    parse_dates=True\n",
    ").loc[idx[:,'wholesale'], 'national']\n",
    "\n",
    "diff = w_zonal - w_national\n",
    "diff = diff.groupby(diff.index.get_level_values(0).strftime('%Y-%m-%d')).sum()\n",
    "'''\n",
    "\n",
    "c = c.groupby(c.index.get_level_values(0).strftime('%Y-%m-%d')).sum()\n"
   ]
  },
  {
   "cell_type": "code",
   "execution_count": 3,
   "metadata": {},
   "outputs": [],
   "source": [
    "fn = str(Path.cwd().parent / 'summaries' / 'total_summary_revenues_flex_{}.csv')\n",
    "\n",
    "r_zonal = pd.read_csv(\n",
    "    fn.format('zonal'),\n",
    "    index_col=0,\n",
    "    header=[0,1,2],\n",
    "    parse_dates=True\n",
    ")\n",
    "\n",
    "r_national = pd.read_csv(\n",
    "    fn.format('national'),\n",
    "    index_col=0,\n",
    "    header=[0,1,2],\n",
    "    parse_dates=True\n",
    ")"
   ]
  },
  {
   "cell_type": "code",
   "execution_count": 4,
   "metadata": {},
   "outputs": [
    {
     "data": {
      "text/plain": [
       "Index(['wind', 'disp', 'hydro', 'storage', 'intercon', 'load'], dtype='object')"
      ]
     },
     "execution_count": 4,
     "metadata": {},
     "output_type": "execute_result"
    }
   ],
   "source": [
    "r_zonal.columns.get_level_values(1).unique()"
   ]
  },
  {
   "cell_type": "code",
   "execution_count": 5,
   "metadata": {},
   "outputs": [],
   "source": [
    "def prep_rev(df):\n",
    "\n",
    "    idx = pd.IndexSlice\n",
    "\n",
    "    df = df.copy()\n",
    "    df = df.loc[:, idx['north', ['wind','disp','hydro'], ['wholesale']]]\n",
    "\n",
    "    return df.groupby(df.index.strftime('%Y-%m-%d')).sum()\n",
    "\n",
    "\n",
    "zon = prep_rev(r_zonal)\n",
    "nat = prep_rev(r_national)"
   ]
  },
  {
   "cell_type": "code",
   "execution_count": 6,
   "metadata": {},
   "outputs": [],
   "source": [
    "diff = (zon - nat).sum(axis=1).mul(1e-6)"
   ]
  },
  {
   "cell_type": "code",
   "execution_count": 7,
   "metadata": {},
   "outputs": [
    {
     "data": {
      "text/html": [
       "<div>\n",
       "<style scoped>\n",
       "    .dataframe tbody tr th:only-of-type {\n",
       "        vertical-align: middle;\n",
       "    }\n",
       "\n",
       "    .dataframe tbody tr th {\n",
       "        vertical-align: top;\n",
       "    }\n",
       "\n",
       "    .dataframe thead th {\n",
       "        text-align: right;\n",
       "    }\n",
       "</style>\n",
       "<table border=\"1\" class=\"dataframe\">\n",
       "  <thead>\n",
       "    <tr style=\"text-align: right;\">\n",
       "      <th></th>\n",
       "      <th>lost_revenue</th>\n",
       "      <th>congestion_rent</th>\n",
       "    </tr>\n",
       "  </thead>\n",
       "  <tbody>\n",
       "    <tr>\n",
       "      <th>2022-03-08</th>\n",
       "      <td>-50.901280</td>\n",
       "      <td>53.618639</td>\n",
       "    </tr>\n",
       "    <tr>\n",
       "      <th>2022-03-11</th>\n",
       "      <td>-28.779351</td>\n",
       "      <td>31.130291</td>\n",
       "    </tr>\n",
       "    <tr>\n",
       "      <th>2022-02-26</th>\n",
       "      <td>-30.231443</td>\n",
       "      <td>29.798367</td>\n",
       "    </tr>\n",
       "    <tr>\n",
       "      <th>2022-03-13</th>\n",
       "      <td>-25.089333</td>\n",
       "      <td>28.988703</td>\n",
       "    </tr>\n",
       "    <tr>\n",
       "      <th>2022-02-20</th>\n",
       "      <td>-29.709759</td>\n",
       "      <td>28.154001</td>\n",
       "    </tr>\n",
       "    <tr>\n",
       "      <th>...</th>\n",
       "      <td>...</td>\n",
       "      <td>...</td>\n",
       "    </tr>\n",
       "    <tr>\n",
       "      <th>2023-06-07</th>\n",
       "      <td>0.000000</td>\n",
       "      <td>-0.000000</td>\n",
       "    </tr>\n",
       "    <tr>\n",
       "      <th>2023-06-05</th>\n",
       "      <td>0.000000</td>\n",
       "      <td>-0.000000</td>\n",
       "    </tr>\n",
       "    <tr>\n",
       "      <th>2023-06-03</th>\n",
       "      <td>0.000686</td>\n",
       "      <td>-0.000000</td>\n",
       "    </tr>\n",
       "    <tr>\n",
       "      <th>2023-07-10</th>\n",
       "      <td>-0.000625</td>\n",
       "      <td>-0.000000</td>\n",
       "    </tr>\n",
       "    <tr>\n",
       "      <th>2022-03-09</th>\n",
       "      <td>-5.188690</td>\n",
       "      <td>NaN</td>\n",
       "    </tr>\n",
       "  </tbody>\n",
       "</table>\n",
       "<p>1079 rows × 2 columns</p>\n",
       "</div>"
      ],
      "text/plain": [
       "            lost_revenue  congestion_rent\n",
       "2022-03-08    -50.901280        53.618639\n",
       "2022-03-11    -28.779351        31.130291\n",
       "2022-02-26    -30.231443        29.798367\n",
       "2022-03-13    -25.089333        28.988703\n",
       "2022-02-20    -29.709759        28.154001\n",
       "...                  ...              ...\n",
       "2023-06-07      0.000000        -0.000000\n",
       "2023-06-05      0.000000        -0.000000\n",
       "2023-06-03      0.000686        -0.000000\n",
       "2023-07-10     -0.000625        -0.000000\n",
       "2022-03-09     -5.188690              NaN\n",
       "\n",
       "[1079 rows x 2 columns]"
      ]
     },
     "execution_count": 7,
     "metadata": {},
     "output_type": "execute_result"
    }
   ],
   "source": [
    "plo = pd.concat((diff, c.mul(-1)), axis=1).rename(columns={\n",
    "    0: 'lost_revenue',\n",
    "    'zonal': 'congestion_rent',\n",
    "}).sort_values('congestion_rent', ascending=False)\n",
    "\n",
    "plo"
   ]
  },
  {
   "cell_type": "code",
   "execution_count": 8,
   "metadata": {},
   "outputs": [
    {
     "data": {
      "text/html": [
       "<div>\n",
       "<style scoped>\n",
       "    .dataframe tbody tr th:only-of-type {\n",
       "        vertical-align: middle;\n",
       "    }\n",
       "\n",
       "    .dataframe tbody tr th {\n",
       "        vertical-align: top;\n",
       "    }\n",
       "\n",
       "    .dataframe thead th {\n",
       "        text-align: right;\n",
       "    }\n",
       "</style>\n",
       "<table border=\"1\" class=\"dataframe\">\n",
       "  <thead>\n",
       "    <tr style=\"text-align: right;\">\n",
       "      <th></th>\n",
       "      <th>lost_revenue</th>\n",
       "      <th>congestion_rent</th>\n",
       "    </tr>\n",
       "  </thead>\n",
       "  <tbody>\n",
       "    <tr>\n",
       "      <th>2022-03-08</th>\n",
       "      <td>-50.901280</td>\n",
       "      <td>53.618639</td>\n",
       "    </tr>\n",
       "    <tr>\n",
       "      <th>2022-03-11</th>\n",
       "      <td>-28.779351</td>\n",
       "      <td>31.130291</td>\n",
       "    </tr>\n",
       "  </tbody>\n",
       "</table>\n",
       "</div>"
      ],
      "text/plain": [
       "            lost_revenue  congestion_rent\n",
       "2022-03-08    -50.901280        53.618639\n",
       "2022-03-11    -28.779351        31.130291"
      ]
     },
     "execution_count": 8,
     "metadata": {},
     "output_type": "execute_result"
    }
   ],
   "source": [
    "plo.head(2)"
   ]
  },
  {
   "cell_type": "code",
   "execution_count": 9,
   "metadata": {},
   "outputs": [
    {
     "ename": "ValueError",
     "evalue": "Input y contains NaN.",
     "output_type": "error",
     "traceback": [
      "\u001b[1;31m---------------------------------------------------------------------------\u001b[0m",
      "\u001b[1;31mValueError\u001b[0m                                Traceback (most recent call last)",
      "Cell \u001b[1;32mIn[9], line 19\u001b[0m\n\u001b[0;32m     17\u001b[0m \u001b[38;5;66;03m# Linear regression for total (congestion_rent + lost_revenue)\u001b[39;00m\n\u001b[0;32m     18\u001b[0m model_total \u001b[38;5;241m=\u001b[39m LinearRegression()\n\u001b[1;32m---> 19\u001b[0m \u001b[43mmodel_total\u001b[49m\u001b[38;5;241;43m.\u001b[39;49m\u001b[43mfit\u001b[49m\u001b[43m(\u001b[49m\u001b[43mX\u001b[49m\u001b[43m,\u001b[49m\u001b[43m \u001b[49m\u001b[43my_total\u001b[49m\u001b[43m)\u001b[49m\n\u001b[0;32m     20\u001b[0m pred_total \u001b[38;5;241m=\u001b[39m model_total\u001b[38;5;241m.\u001b[39mpredict(X)\n\u001b[0;32m     22\u001b[0m \u001b[38;5;66;03m# Linear regression for lost revenue\u001b[39;00m\n",
      "File \u001b[1;32mc:\\Users\\lukas\\miniforge3\\envs\\pypsa-eur\\Lib\\site-packages\\sklearn\\base.py:1473\u001b[0m, in \u001b[0;36m_fit_context.<locals>.decorator.<locals>.wrapper\u001b[1;34m(estimator, *args, **kwargs)\u001b[0m\n\u001b[0;32m   1466\u001b[0m     estimator\u001b[38;5;241m.\u001b[39m_validate_params()\n\u001b[0;32m   1468\u001b[0m \u001b[38;5;28;01mwith\u001b[39;00m config_context(\n\u001b[0;32m   1469\u001b[0m     skip_parameter_validation\u001b[38;5;241m=\u001b[39m(\n\u001b[0;32m   1470\u001b[0m         prefer_skip_nested_validation \u001b[38;5;129;01mor\u001b[39;00m global_skip_validation\n\u001b[0;32m   1471\u001b[0m     )\n\u001b[0;32m   1472\u001b[0m ):\n\u001b[1;32m-> 1473\u001b[0m     \u001b[38;5;28;01mreturn\u001b[39;00m \u001b[43mfit_method\u001b[49m\u001b[43m(\u001b[49m\u001b[43mestimator\u001b[49m\u001b[43m,\u001b[49m\u001b[43m \u001b[49m\u001b[38;5;241;43m*\u001b[39;49m\u001b[43margs\u001b[49m\u001b[43m,\u001b[49m\u001b[43m \u001b[49m\u001b[38;5;241;43m*\u001b[39;49m\u001b[38;5;241;43m*\u001b[39;49m\u001b[43mkwargs\u001b[49m\u001b[43m)\u001b[49m\n",
      "File \u001b[1;32mc:\\Users\\lukas\\miniforge3\\envs\\pypsa-eur\\Lib\\site-packages\\sklearn\\linear_model\\_base.py:609\u001b[0m, in \u001b[0;36mLinearRegression.fit\u001b[1;34m(self, X, y, sample_weight)\u001b[0m\n\u001b[0;32m    605\u001b[0m n_jobs_ \u001b[38;5;241m=\u001b[39m \u001b[38;5;28mself\u001b[39m\u001b[38;5;241m.\u001b[39mn_jobs\n\u001b[0;32m    607\u001b[0m accept_sparse \u001b[38;5;241m=\u001b[39m \u001b[38;5;28;01mFalse\u001b[39;00m \u001b[38;5;28;01mif\u001b[39;00m \u001b[38;5;28mself\u001b[39m\u001b[38;5;241m.\u001b[39mpositive \u001b[38;5;28;01melse\u001b[39;00m [\u001b[38;5;124m\"\u001b[39m\u001b[38;5;124mcsr\u001b[39m\u001b[38;5;124m\"\u001b[39m, \u001b[38;5;124m\"\u001b[39m\u001b[38;5;124mcsc\u001b[39m\u001b[38;5;124m\"\u001b[39m, \u001b[38;5;124m\"\u001b[39m\u001b[38;5;124mcoo\u001b[39m\u001b[38;5;124m\"\u001b[39m]\n\u001b[1;32m--> 609\u001b[0m X, y \u001b[38;5;241m=\u001b[39m \u001b[38;5;28;43mself\u001b[39;49m\u001b[38;5;241;43m.\u001b[39;49m\u001b[43m_validate_data\u001b[49m\u001b[43m(\u001b[49m\n\u001b[0;32m    610\u001b[0m \u001b[43m    \u001b[49m\u001b[43mX\u001b[49m\u001b[43m,\u001b[49m\n\u001b[0;32m    611\u001b[0m \u001b[43m    \u001b[49m\u001b[43my\u001b[49m\u001b[43m,\u001b[49m\n\u001b[0;32m    612\u001b[0m \u001b[43m    \u001b[49m\u001b[43maccept_sparse\u001b[49m\u001b[38;5;241;43m=\u001b[39;49m\u001b[43maccept_sparse\u001b[49m\u001b[43m,\u001b[49m\n\u001b[0;32m    613\u001b[0m \u001b[43m    \u001b[49m\u001b[43my_numeric\u001b[49m\u001b[38;5;241;43m=\u001b[39;49m\u001b[38;5;28;43;01mTrue\u001b[39;49;00m\u001b[43m,\u001b[49m\n\u001b[0;32m    614\u001b[0m \u001b[43m    \u001b[49m\u001b[43mmulti_output\u001b[49m\u001b[38;5;241;43m=\u001b[39;49m\u001b[38;5;28;43;01mTrue\u001b[39;49;00m\u001b[43m,\u001b[49m\n\u001b[0;32m    615\u001b[0m \u001b[43m    \u001b[49m\u001b[43mforce_writeable\u001b[49m\u001b[38;5;241;43m=\u001b[39;49m\u001b[38;5;28;43;01mTrue\u001b[39;49;00m\u001b[43m,\u001b[49m\n\u001b[0;32m    616\u001b[0m \u001b[43m\u001b[49m\u001b[43m)\u001b[49m\n\u001b[0;32m    618\u001b[0m has_sw \u001b[38;5;241m=\u001b[39m sample_weight \u001b[38;5;129;01mis\u001b[39;00m \u001b[38;5;129;01mnot\u001b[39;00m \u001b[38;5;28;01mNone\u001b[39;00m\n\u001b[0;32m    619\u001b[0m \u001b[38;5;28;01mif\u001b[39;00m has_sw:\n",
      "File \u001b[1;32mc:\\Users\\lukas\\miniforge3\\envs\\pypsa-eur\\Lib\\site-packages\\sklearn\\base.py:650\u001b[0m, in \u001b[0;36mBaseEstimator._validate_data\u001b[1;34m(self, X, y, reset, validate_separately, cast_to_ndarray, **check_params)\u001b[0m\n\u001b[0;32m    648\u001b[0m         y \u001b[38;5;241m=\u001b[39m check_array(y, input_name\u001b[38;5;241m=\u001b[39m\u001b[38;5;124m\"\u001b[39m\u001b[38;5;124my\u001b[39m\u001b[38;5;124m\"\u001b[39m, \u001b[38;5;241m*\u001b[39m\u001b[38;5;241m*\u001b[39mcheck_y_params)\n\u001b[0;32m    649\u001b[0m     \u001b[38;5;28;01melse\u001b[39;00m:\n\u001b[1;32m--> 650\u001b[0m         X, y \u001b[38;5;241m=\u001b[39m \u001b[43mcheck_X_y\u001b[49m\u001b[43m(\u001b[49m\u001b[43mX\u001b[49m\u001b[43m,\u001b[49m\u001b[43m \u001b[49m\u001b[43my\u001b[49m\u001b[43m,\u001b[49m\u001b[43m \u001b[49m\u001b[38;5;241;43m*\u001b[39;49m\u001b[38;5;241;43m*\u001b[39;49m\u001b[43mcheck_params\u001b[49m\u001b[43m)\u001b[49m\n\u001b[0;32m    651\u001b[0m     out \u001b[38;5;241m=\u001b[39m X, y\n\u001b[0;32m    653\u001b[0m \u001b[38;5;28;01mif\u001b[39;00m \u001b[38;5;129;01mnot\u001b[39;00m no_val_X \u001b[38;5;129;01mand\u001b[39;00m check_params\u001b[38;5;241m.\u001b[39mget(\u001b[38;5;124m\"\u001b[39m\u001b[38;5;124mensure_2d\u001b[39m\u001b[38;5;124m\"\u001b[39m, \u001b[38;5;28;01mTrue\u001b[39;00m):\n",
      "File \u001b[1;32mc:\\Users\\lukas\\miniforge3\\envs\\pypsa-eur\\Lib\\site-packages\\sklearn\\utils\\validation.py:1318\u001b[0m, in \u001b[0;36mcheck_X_y\u001b[1;34m(X, y, accept_sparse, accept_large_sparse, dtype, order, copy, force_writeable, force_all_finite, ensure_2d, allow_nd, multi_output, ensure_min_samples, ensure_min_features, y_numeric, estimator)\u001b[0m\n\u001b[0;32m   1297\u001b[0m     \u001b[38;5;28;01mraise\u001b[39;00m \u001b[38;5;167;01mValueError\u001b[39;00m(\n\u001b[0;32m   1298\u001b[0m         \u001b[38;5;124mf\u001b[39m\u001b[38;5;124m\"\u001b[39m\u001b[38;5;132;01m{\u001b[39;00mestimator_name\u001b[38;5;132;01m}\u001b[39;00m\u001b[38;5;124m requires y to be passed, but the target y is None\u001b[39m\u001b[38;5;124m\"\u001b[39m\n\u001b[0;32m   1299\u001b[0m     )\n\u001b[0;32m   1301\u001b[0m X \u001b[38;5;241m=\u001b[39m check_array(\n\u001b[0;32m   1302\u001b[0m     X,\n\u001b[0;32m   1303\u001b[0m     accept_sparse\u001b[38;5;241m=\u001b[39maccept_sparse,\n\u001b[1;32m   (...)\u001b[0m\n\u001b[0;32m   1315\u001b[0m     input_name\u001b[38;5;241m=\u001b[39m\u001b[38;5;124m\"\u001b[39m\u001b[38;5;124mX\u001b[39m\u001b[38;5;124m\"\u001b[39m,\n\u001b[0;32m   1316\u001b[0m )\n\u001b[1;32m-> 1318\u001b[0m y \u001b[38;5;241m=\u001b[39m \u001b[43m_check_y\u001b[49m\u001b[43m(\u001b[49m\u001b[43my\u001b[49m\u001b[43m,\u001b[49m\u001b[43m \u001b[49m\u001b[43mmulti_output\u001b[49m\u001b[38;5;241;43m=\u001b[39;49m\u001b[43mmulti_output\u001b[49m\u001b[43m,\u001b[49m\u001b[43m \u001b[49m\u001b[43my_numeric\u001b[49m\u001b[38;5;241;43m=\u001b[39;49m\u001b[43my_numeric\u001b[49m\u001b[43m,\u001b[49m\u001b[43m \u001b[49m\u001b[43mestimator\u001b[49m\u001b[38;5;241;43m=\u001b[39;49m\u001b[43mestimator\u001b[49m\u001b[43m)\u001b[49m\n\u001b[0;32m   1320\u001b[0m check_consistent_length(X, y)\n\u001b[0;32m   1322\u001b[0m \u001b[38;5;28;01mreturn\u001b[39;00m X, y\n",
      "File \u001b[1;32mc:\\Users\\lukas\\miniforge3\\envs\\pypsa-eur\\Lib\\site-packages\\sklearn\\utils\\validation.py:1328\u001b[0m, in \u001b[0;36m_check_y\u001b[1;34m(y, multi_output, y_numeric, estimator)\u001b[0m\n\u001b[0;32m   1326\u001b[0m \u001b[38;5;250m\u001b[39m\u001b[38;5;124;03m\"\"\"Isolated part of check_X_y dedicated to y validation\"\"\"\u001b[39;00m\n\u001b[0;32m   1327\u001b[0m \u001b[38;5;28;01mif\u001b[39;00m multi_output:\n\u001b[1;32m-> 1328\u001b[0m     y \u001b[38;5;241m=\u001b[39m \u001b[43mcheck_array\u001b[49m\u001b[43m(\u001b[49m\n\u001b[0;32m   1329\u001b[0m \u001b[43m        \u001b[49m\u001b[43my\u001b[49m\u001b[43m,\u001b[49m\n\u001b[0;32m   1330\u001b[0m \u001b[43m        \u001b[49m\u001b[43maccept_sparse\u001b[49m\u001b[38;5;241;43m=\u001b[39;49m\u001b[38;5;124;43m\"\u001b[39;49m\u001b[38;5;124;43mcsr\u001b[39;49m\u001b[38;5;124;43m\"\u001b[39;49m\u001b[43m,\u001b[49m\n\u001b[0;32m   1331\u001b[0m \u001b[43m        \u001b[49m\u001b[43mforce_all_finite\u001b[49m\u001b[38;5;241;43m=\u001b[39;49m\u001b[38;5;28;43;01mTrue\u001b[39;49;00m\u001b[43m,\u001b[49m\n\u001b[0;32m   1332\u001b[0m \u001b[43m        \u001b[49m\u001b[43mensure_2d\u001b[49m\u001b[38;5;241;43m=\u001b[39;49m\u001b[38;5;28;43;01mFalse\u001b[39;49;00m\u001b[43m,\u001b[49m\n\u001b[0;32m   1333\u001b[0m \u001b[43m        \u001b[49m\u001b[43mdtype\u001b[49m\u001b[38;5;241;43m=\u001b[39;49m\u001b[38;5;28;43;01mNone\u001b[39;49;00m\u001b[43m,\u001b[49m\n\u001b[0;32m   1334\u001b[0m \u001b[43m        \u001b[49m\u001b[43minput_name\u001b[49m\u001b[38;5;241;43m=\u001b[39;49m\u001b[38;5;124;43m\"\u001b[39;49m\u001b[38;5;124;43my\u001b[39;49m\u001b[38;5;124;43m\"\u001b[39;49m\u001b[43m,\u001b[49m\n\u001b[0;32m   1335\u001b[0m \u001b[43m        \u001b[49m\u001b[43mestimator\u001b[49m\u001b[38;5;241;43m=\u001b[39;49m\u001b[43mestimator\u001b[49m\u001b[43m,\u001b[49m\n\u001b[0;32m   1336\u001b[0m \u001b[43m    \u001b[49m\u001b[43m)\u001b[49m\n\u001b[0;32m   1337\u001b[0m \u001b[38;5;28;01melse\u001b[39;00m:\n\u001b[0;32m   1338\u001b[0m     estimator_name \u001b[38;5;241m=\u001b[39m _check_estimator_name(estimator)\n",
      "File \u001b[1;32mc:\\Users\\lukas\\miniforge3\\envs\\pypsa-eur\\Lib\\site-packages\\sklearn\\utils\\validation.py:1064\u001b[0m, in \u001b[0;36mcheck_array\u001b[1;34m(array, accept_sparse, accept_large_sparse, dtype, order, copy, force_writeable, force_all_finite, ensure_2d, allow_nd, ensure_min_samples, ensure_min_features, estimator, input_name)\u001b[0m\n\u001b[0;32m   1058\u001b[0m     \u001b[38;5;28;01mraise\u001b[39;00m \u001b[38;5;167;01mValueError\u001b[39;00m(\n\u001b[0;32m   1059\u001b[0m         \u001b[38;5;124m\"\u001b[39m\u001b[38;5;124mFound array with dim \u001b[39m\u001b[38;5;132;01m%d\u001b[39;00m\u001b[38;5;124m. \u001b[39m\u001b[38;5;132;01m%s\u001b[39;00m\u001b[38;5;124m expected <= 2.\u001b[39m\u001b[38;5;124m\"\u001b[39m\n\u001b[0;32m   1060\u001b[0m         \u001b[38;5;241m%\u001b[39m (array\u001b[38;5;241m.\u001b[39mndim, estimator_name)\n\u001b[0;32m   1061\u001b[0m     )\n\u001b[0;32m   1063\u001b[0m \u001b[38;5;28;01mif\u001b[39;00m force_all_finite:\n\u001b[1;32m-> 1064\u001b[0m     \u001b[43m_assert_all_finite\u001b[49m\u001b[43m(\u001b[49m\n\u001b[0;32m   1065\u001b[0m \u001b[43m        \u001b[49m\u001b[43marray\u001b[49m\u001b[43m,\u001b[49m\n\u001b[0;32m   1066\u001b[0m \u001b[43m        \u001b[49m\u001b[43minput_name\u001b[49m\u001b[38;5;241;43m=\u001b[39;49m\u001b[43minput_name\u001b[49m\u001b[43m,\u001b[49m\n\u001b[0;32m   1067\u001b[0m \u001b[43m        \u001b[49m\u001b[43mestimator_name\u001b[49m\u001b[38;5;241;43m=\u001b[39;49m\u001b[43mestimator_name\u001b[49m\u001b[43m,\u001b[49m\n\u001b[0;32m   1068\u001b[0m \u001b[43m        \u001b[49m\u001b[43mallow_nan\u001b[49m\u001b[38;5;241;43m=\u001b[39;49m\u001b[43mforce_all_finite\u001b[49m\u001b[43m \u001b[49m\u001b[38;5;241;43m==\u001b[39;49m\u001b[43m \u001b[49m\u001b[38;5;124;43m\"\u001b[39;49m\u001b[38;5;124;43mallow-nan\u001b[39;49m\u001b[38;5;124;43m\"\u001b[39;49m\u001b[43m,\u001b[49m\n\u001b[0;32m   1069\u001b[0m \u001b[43m    \u001b[49m\u001b[43m)\u001b[49m\n\u001b[0;32m   1071\u001b[0m \u001b[38;5;28;01mif\u001b[39;00m copy:\n\u001b[0;32m   1072\u001b[0m     \u001b[38;5;28;01mif\u001b[39;00m _is_numpy_namespace(xp):\n\u001b[0;32m   1073\u001b[0m         \u001b[38;5;66;03m# only make a copy if `array` and `array_orig` may share memory`\u001b[39;00m\n",
      "File \u001b[1;32mc:\\Users\\lukas\\miniforge3\\envs\\pypsa-eur\\Lib\\site-packages\\sklearn\\utils\\validation.py:123\u001b[0m, in \u001b[0;36m_assert_all_finite\u001b[1;34m(X, allow_nan, msg_dtype, estimator_name, input_name)\u001b[0m\n\u001b[0;32m    120\u001b[0m \u001b[38;5;28;01mif\u001b[39;00m first_pass_isfinite:\n\u001b[0;32m    121\u001b[0m     \u001b[38;5;28;01mreturn\u001b[39;00m\n\u001b[1;32m--> 123\u001b[0m \u001b[43m_assert_all_finite_element_wise\u001b[49m\u001b[43m(\u001b[49m\n\u001b[0;32m    124\u001b[0m \u001b[43m    \u001b[49m\u001b[43mX\u001b[49m\u001b[43m,\u001b[49m\n\u001b[0;32m    125\u001b[0m \u001b[43m    \u001b[49m\u001b[43mxp\u001b[49m\u001b[38;5;241;43m=\u001b[39;49m\u001b[43mxp\u001b[49m\u001b[43m,\u001b[49m\n\u001b[0;32m    126\u001b[0m \u001b[43m    \u001b[49m\u001b[43mallow_nan\u001b[49m\u001b[38;5;241;43m=\u001b[39;49m\u001b[43mallow_nan\u001b[49m\u001b[43m,\u001b[49m\n\u001b[0;32m    127\u001b[0m \u001b[43m    \u001b[49m\u001b[43mmsg_dtype\u001b[49m\u001b[38;5;241;43m=\u001b[39;49m\u001b[43mmsg_dtype\u001b[49m\u001b[43m,\u001b[49m\n\u001b[0;32m    128\u001b[0m \u001b[43m    \u001b[49m\u001b[43mestimator_name\u001b[49m\u001b[38;5;241;43m=\u001b[39;49m\u001b[43mestimator_name\u001b[49m\u001b[43m,\u001b[49m\n\u001b[0;32m    129\u001b[0m \u001b[43m    \u001b[49m\u001b[43minput_name\u001b[49m\u001b[38;5;241;43m=\u001b[39;49m\u001b[43minput_name\u001b[49m\u001b[43m,\u001b[49m\n\u001b[0;32m    130\u001b[0m \u001b[43m\u001b[49m\u001b[43m)\u001b[49m\n",
      "File \u001b[1;32mc:\\Users\\lukas\\miniforge3\\envs\\pypsa-eur\\Lib\\site-packages\\sklearn\\utils\\validation.py:172\u001b[0m, in \u001b[0;36m_assert_all_finite_element_wise\u001b[1;34m(X, xp, allow_nan, msg_dtype, estimator_name, input_name)\u001b[0m\n\u001b[0;32m    155\u001b[0m \u001b[38;5;28;01mif\u001b[39;00m estimator_name \u001b[38;5;129;01mand\u001b[39;00m input_name \u001b[38;5;241m==\u001b[39m \u001b[38;5;124m\"\u001b[39m\u001b[38;5;124mX\u001b[39m\u001b[38;5;124m\"\u001b[39m \u001b[38;5;129;01mand\u001b[39;00m has_nan_error:\n\u001b[0;32m    156\u001b[0m     \u001b[38;5;66;03m# Improve the error message on how to handle missing values in\u001b[39;00m\n\u001b[0;32m    157\u001b[0m     \u001b[38;5;66;03m# scikit-learn.\u001b[39;00m\n\u001b[0;32m    158\u001b[0m     msg_err \u001b[38;5;241m+\u001b[39m\u001b[38;5;241m=\u001b[39m (\n\u001b[0;32m    159\u001b[0m         \u001b[38;5;124mf\u001b[39m\u001b[38;5;124m\"\u001b[39m\u001b[38;5;130;01m\\n\u001b[39;00m\u001b[38;5;132;01m{\u001b[39;00mestimator_name\u001b[38;5;132;01m}\u001b[39;00m\u001b[38;5;124m does not accept missing values\u001b[39m\u001b[38;5;124m\"\u001b[39m\n\u001b[0;32m    160\u001b[0m         \u001b[38;5;124m\"\u001b[39m\u001b[38;5;124m encoded as NaN natively. For supervised learning, you might want\u001b[39m\u001b[38;5;124m\"\u001b[39m\n\u001b[1;32m   (...)\u001b[0m\n\u001b[0;32m    170\u001b[0m         \u001b[38;5;124m\"\u001b[39m\u001b[38;5;124m#estimators-that-handle-nan-values\u001b[39m\u001b[38;5;124m\"\u001b[39m\n\u001b[0;32m    171\u001b[0m     )\n\u001b[1;32m--> 172\u001b[0m \u001b[38;5;28;01mraise\u001b[39;00m \u001b[38;5;167;01mValueError\u001b[39;00m(msg_err)\n",
      "\u001b[1;31mValueError\u001b[0m: Input y contains NaN."
     ]
    },
    {
     "data": {
      "image/png": "[encoded data removed]",
      "text/plain": [
       "<Figure size 1000x500 with 1 Axes>"
      ]
     },
     "metadata": {},
     "output_type": "display_data"
    }
   ],
   "source": [
    "import seaborn as sns\n",
    "from sklearn.linear_model import LinearRegression\n",
    "\n",
    "fig, ax = plt.subplots(1, 1, figsize=(10, 5))\n",
    "\n",
    "x = np.arange(len(plo))\n",
    "\n",
    "for i, (day, row) in enumerate(plo.iterrows()):\n",
    "    ax.bar(i, width=1, bottom=0, height=row.congestion_rent, alpha=0.5, color='y')\n",
    "    ax.bar(i, width=1, bottom=0, height=row.lost_revenue, alpha=0.5, color='tomato')\n",
    "\n",
    "# Prepare data for linear regression using sklearn\n",
    "X = x.reshape(-1, 1)\n",
    "y_total = (plo['congestion_rent'] + plo['lost_revenue']).values\n",
    "y_lost = plo['lost_revenue'].values\n",
    "\n",
    "# Linear regression for total (congestion_rent + lost_revenue)\n",
    "model_total = LinearRegression()\n",
    "model_total.fit(X, y_total)\n",
    "pred_total = model_total.predict(X)\n",
    "\n",
    "# Linear regression for lost revenue\n",
    "model_lost = LinearRegression()\n",
    "model_lost.fit(X, y_lost)\n",
    "pred_lost = model_lost.predict(X)\n",
    "\n",
    "# Plot the regression lines\n",
    "ax.plot(x, pred_total, color='k', linewidth=1)\n",
    "ax.fill_between(x, np.clip(pred_total, 0, None), color='k', alpha=0.2)\n",
    "ax.plot(x, pred_lost, color='r', linewidth=1)\n",
    "ax.fill_between(x, np.minimum(pred_lost, 0), color='r', alpha=0.2)\n",
    "\n",
    "\n",
    "ax.set_ylabel('Daily Congestion Rent and Lost Revenue (m£)')\n",
    "ax.set_ylim(plo['lost_revenue'].min() * 1.05, plo['congestion_rent'].max() * 1.05)\n",
    "\n",
    "ax.set_xticks([])\n",
    "ax.set_xlabel('Days in 2022, 2023, 2024')\n",
    "\n",
    "\n",
    "margin = 10\n",
    "positive_idx = np.where(pred_lost > 0)[0][0]\n",
    "\n",
    "#  if positive_idx.size > 0:\n",
    "#   upper_limit = positive_idx[-1] + margin\n",
    "# else:\n",
    "#     upper_limit = len(plo) + margin\n",
    "\n",
    "ax.set_xlim(-margin, positive_idx)\n",
    "\n",
    "ax.grid(True, linestyle='--', alpha=0.5, axis='y')\n",
    "ax.set_axisbelow(True)\n",
    "\n",
    "from matplotlib.patches import Patch\n",
    "from matplotlib.lines import Line2D\n",
    "\n",
    "filled_total_bn = (plo['lost_revenue'] + plo['congestion_rent']).sum() / 1000.0\n",
    "filled_lost_bn = abs(plo['lost_revenue'].sum()) / 1000.0\n",
    "\n",
    "handles = [\n",
    "    Patch(facecolor='y', alpha=0.5, label='Congestion Rent'),\n",
    "    Patch(facecolor='tomato', alpha=0.5, label='Lost Revenue'),\n",
    "    Line2D([0], [0], color='k', lw=1, label='Trend: Total'),\n",
    "    Patch(facecolor='k', alpha=0.2, label=f'Filled Total: {filled_total_bn:.2f} bn£'),\n",
    "    Line2D([0], [0], color='r', lw=1, label='Trend: Lost Revenue'),\n",
    "    Patch(facecolor='r', alpha=0.2, label=f'Filled Lost Revenue: {filled_lost_bn:.2f} bn£')\n",
    "]\n",
    "\n",
    "ax.legend(handles=handles, loc='lower right')\n",
    "\n",
    "def add_number(num, x, y):\n",
    "    \"\"\"\n",
    "    Adds a text 'num' to the current plot at the position (x, y) with a circle around it.\n",
    "    \"\"\"\n",
    "    ax = plt.gca()  # Get the current axes\n",
    "    ax.text(\n",
    "        x, y, str(num),\n",
    "        ha='center', va='center',\n",
    "        bbox=dict(\n",
    "            boxstyle='circle',\n",
    "            edgecolor='black',\n",
    "            facecolor='w',\n",
    "            linewidth=1\n",
    "        )\n",
    "    )\n",
    "\n",
    "# add_number(1, 20, 1.7)\n",
    "# add_number(2, 20, -5)\n",
    "# plt.savefig('cfd_versus_lost_revenue.pdf')\n",
    "plt.show()"
   ]
  },
  {
   "cell_type": "code",
   "execution_count": 109,
   "metadata": {},
   "outputs": [
    {
     "data": {
      "text/plain": [
       "wholesale_revenue    41.681976\n",
       "cfd_revenue          12.703420\n",
       "roc_revenue          24.712546\n",
       "dtype: float64"
      ]
     },
     "execution_count": 109,
     "metadata": {},
     "output_type": "execute_result"
    }
   ],
   "source": [
    "df.iloc[:,-3:].sum().mul(1e-6)\n"
   ]
  },
  {
   "cell_type": "code",
   "execution_count": 110,
   "metadata": {},
   "outputs": [
    {
     "name": "stderr",
     "output_type": "stream",
     "text": [
      "WARNING:pypsa.io:Importing network from PyPSA version v0.31.0 while current version is v0.32.0. Read the release notes at https://pypsa.readthedocs.io/en/latest/release_notes.html to prepare your network for import.\n",
      "INFO:pypsa.io:Imported network network_flex_s_national_solved.nc has buses, carriers, generators, links, loads, storage_units\n"
     ]
    }
   ],
   "source": [
    "import pypsa\n",
    "\n",
    "n = pypsa.Network(\n",
    "    Path.cwd().parent / 'results' / '2024-03-22' / 'network_flex_s_national_solved.nc'\n",
    ")\n"
   ]
  },
  {
   "cell_type": "code",
   "execution_count": 122,
   "metadata": {},
   "outputs": [
    {
     "data": {
      "text/plain": [
       "snapshot\n",
       "2024-03-22 00:00:00    28524.916667\n",
       "2024-03-22 00:30:00    28600.250000\n",
       "2024-03-22 01:00:00    28196.283333\n",
       "2024-03-22 01:30:00    28164.033333\n",
       "2024-03-22 02:00:00    27093.000000\n",
       "2024-03-22 02:30:00    27079.283333\n",
       "2024-03-22 03:00:00    25802.633333\n",
       "2024-03-22 03:30:00    25752.233333\n",
       "2024-03-22 04:00:00    25784.300000\n",
       "2024-03-22 04:30:00    25629.333333\n",
       "2024-03-22 05:00:00    26904.166667\n",
       "2024-03-22 05:30:00    26682.983333\n",
       "2024-03-22 06:00:00    28647.600000\n",
       "2024-03-22 06:30:00    29608.533333\n",
       "2024-03-22 07:00:00    31435.466667\n",
       "2024-03-22 07:30:00    31625.600000\n",
       "2024-03-22 08:00:00    32033.083333\n",
       "2024-03-22 08:30:00    32462.683333\n",
       "2024-03-22 09:00:00    32239.066667\n",
       "2024-03-22 09:30:00    31629.766667\n",
       "2024-03-22 10:00:00    31113.566667\n",
       "2024-03-22 10:30:00    30415.683333\n",
       "2024-03-22 11:00:00    30290.483333\n",
       "2024-03-22 11:30:00    30058.566667\n",
       "2024-03-22 12:00:00    29703.433333\n",
       "2024-03-22 12:30:00    29579.900000\n",
       "2024-03-22 13:00:00    29274.283333\n",
       "2024-03-22 13:30:00    28966.083333\n",
       "2024-03-22 14:00:00    28225.200000\n",
       "2024-03-22 14:30:00    28552.750000\n",
       "2024-03-22 15:00:00    29115.816667\n",
       "2024-03-22 15:30:00    29631.383333\n",
       "2024-03-22 16:00:00    30519.433333\n",
       "2024-03-22 16:30:00    30938.750000\n",
       "2024-03-22 17:00:00    33521.166667\n",
       "2024-03-22 17:30:00    34351.716667\n",
       "2024-03-22 18:00:00    34816.666667\n",
       "2024-03-22 18:30:00    35307.750000\n",
       "2024-03-22 19:00:00    35128.016667\n",
       "2024-03-22 19:30:00    34909.683333\n",
       "2024-03-22 20:00:00    33902.900000\n",
       "2024-03-22 20:30:00    32751.800000\n",
       "2024-03-22 21:00:00    31875.033333\n",
       "2024-03-22 21:30:00    31129.066667\n",
       "2024-03-22 22:00:00    28764.500000\n",
       "2024-03-22 22:30:00    28152.383333\n",
       "2024-03-22 23:00:00    26370.300000\n",
       "2024-03-22 23:30:00    26293.700000\n",
       "dtype: float64"
      ]
     },
     "execution_count": 122,
     "metadata": {},
     "output_type": "execute_result"
    }
   ],
   "source": [
    "l = n.loads.index[n.loads.carrier == 'electricity']\n",
    "\n",
    "n.loads_t.p_set.loc[:,l].sum(axis=1)"
   ]
  },
  {
   "cell_type": "code",
   "execution_count": 129,
   "metadata": {},
   "outputs": [
    {
     "name": "stdout",
     "output_type": "stream",
     "text": [
      "              asset_type  wholesale_revenue  cfd_revenue    roc_revenue\n",
      "asset                                                                  \n",
      "CMSTW-1        generator       47997.000325          0.0  122517.716488\n",
      "ROTHW-1        generator       52579.775686          0.0  135504.568528\n",
      "PAUHW-1        generator       67302.112878          0.0  167194.482759\n",
      "CAIRW-2        generator       44013.724326          0.0   83562.076150\n",
      "MDHLW-1        generator       58968.941679          0.0  118536.000000\n",
      "...                  ...                ...          ...            ...\n",
      "IFA2      interconnector      909485.356974          0.0       0.000000\n",
      "Nemo      interconnector      240924.833514          0.0       0.000000\n",
      "Viking    interconnector      256648.310997          0.0       0.000000\n",
      "ElecLink  interconnector      549036.989181          0.0       0.000000\n",
      "NSL       interconnector      261704.520027          0.0       0.000000\n",
      "\n",
      "[422 rows x 4 columns]\n"
     ]
    },
    {
     "data": {
      "text/html": [
       "<div>\n",
       "<style scoped>\n",
       "    .dataframe tbody tr th:only-of-type {\n",
       "        vertical-align: middle;\n",
       "    }\n",
       "\n",
       "    .dataframe tbody tr th {\n",
       "        vertical-align: top;\n",
       "    }\n",
       "\n",
       "    .dataframe thead th {\n",
       "        text-align: right;\n",
       "    }\n",
       "</style>\n",
       "<table border=\"1\" class=\"dataframe\">\n",
       "  <thead>\n",
       "    <tr style=\"text-align: right;\">\n",
       "      <th></th>\n",
       "      <th></th>\n",
       "      <th>2024-03-22</th>\n",
       "      <th>2024-03-23</th>\n",
       "    </tr>\n",
       "    <tr>\n",
       "      <th>asset</th>\n",
       "      <th></th>\n",
       "      <th></th>\n",
       "      <th></th>\n",
       "    </tr>\n",
       "  </thead>\n",
       "  <tbody>\n",
       "    <tr>\n",
       "      <th rowspan=\"3\" valign=\"top\">CMSTW-1</th>\n",
       "      <th>wholesale_revenue</th>\n",
       "      <td>47997.000325</td>\n",
       "      <td>47997.000325</td>\n",
       "    </tr>\n",
       "    <tr>\n",
       "      <th>cfd_revenue</th>\n",
       "      <td>0.000000</td>\n",
       "      <td>0.000000</td>\n",
       "    </tr>\n",
       "    <tr>\n",
       "      <th>roc_revenue</th>\n",
       "      <td>122517.716488</td>\n",
       "      <td>122517.716488</td>\n",
       "    </tr>\n",
       "    <tr>\n",
       "      <th rowspan=\"2\" valign=\"top\">ROTHW-1</th>\n",
       "      <th>wholesale_revenue</th>\n",
       "      <td>52579.775686</td>\n",
       "      <td>52579.775686</td>\n",
       "    </tr>\n",
       "    <tr>\n",
       "      <th>cfd_revenue</th>\n",
       "      <td>0.000000</td>\n",
       "      <td>0.000000</td>\n",
       "    </tr>\n",
       "    <tr>\n",
       "      <th>...</th>\n",
       "      <th>...</th>\n",
       "      <td>...</td>\n",
       "      <td>...</td>\n",
       "    </tr>\n",
       "    <tr>\n",
       "      <th rowspan=\"2\" valign=\"top\">ElecLink</th>\n",
       "      <th>cfd_revenue</th>\n",
       "      <td>0.000000</td>\n",
       "      <td>0.000000</td>\n",
       "    </tr>\n",
       "    <tr>\n",
       "      <th>roc_revenue</th>\n",
       "      <td>0.000000</td>\n",
       "      <td>0.000000</td>\n",
       "    </tr>\n",
       "    <tr>\n",
       "      <th rowspan=\"3\" valign=\"top\">NSL</th>\n",
       "      <th>wholesale_revenue</th>\n",
       "      <td>261704.520027</td>\n",
       "      <td>261704.520027</td>\n",
       "    </tr>\n",
       "    <tr>\n",
       "      <th>cfd_revenue</th>\n",
       "      <td>0.000000</td>\n",
       "      <td>0.000000</td>\n",
       "    </tr>\n",
       "    <tr>\n",
       "      <th>roc_revenue</th>\n",
       "      <td>0.000000</td>\n",
       "      <td>0.000000</td>\n",
       "    </tr>\n",
       "  </tbody>\n",
       "</table>\n",
       "<p>1266 rows × 2 columns</p>\n",
       "</div>"
      ],
      "text/plain": [
       "                               2024-03-22     2024-03-23\n",
       "asset                                                   \n",
       "CMSTW-1  wholesale_revenue   47997.000325   47997.000325\n",
       "         cfd_revenue             0.000000       0.000000\n",
       "         roc_revenue        122517.716488  122517.716488\n",
       "ROTHW-1  wholesale_revenue   52579.775686   52579.775686\n",
       "         cfd_revenue             0.000000       0.000000\n",
       "...                                   ...            ...\n",
       "ElecLink cfd_revenue             0.000000       0.000000\n",
       "         roc_revenue             0.000000       0.000000\n",
       "NSL      wholesale_revenue  261704.520027  261704.520027\n",
       "         cfd_revenue             0.000000       0.000000\n",
       "         roc_revenue             0.000000       0.000000\n",
       "\n",
       "[1266 rows x 2 columns]"
      ]
     },
     "execution_count": 129,
     "metadata": {},
     "output_type": "execute_result"
    }
   ],
   "source": [
    "df = pd.read_csv(Path.cwd().parent / 'results' / '2024-03-22' / 'bmu_revenues_detailed_flex_national.csv').set_index('asset')\n",
    "print(df)\n",
    "\n",
    "ss = ['wholesale_revenue', 'cfd_revenue', 'roc_revenue']\n",
    "\n",
    "a = df[ss].stack().rename('2024-03-22')\n",
    "b = df[ss].stack().rename('2024-03-23')\n",
    "\n",
    "pd.concat((a,b), axis=1)"
   ]
  },
  {
   "cell_type": "code",
   "execution_count": null,
   "metadata": {},
   "outputs": [],
   "source": []
  }
 ],
 "metadata": {
  "kernelspec": {
   "display_name": "Python 3",
   "language": "python",
   "name": "python3"
  },
  "language_info": {
   "codemirror_mode": {
    "name": "ipython",
    "version": 3
   },
   "file_extension": ".py",
   "mimetype": "text/x-python",
   "name": "python",
   "nbconvert_exporter": "python",
   "pygments_lexer": "ipython3",
   "version": "3.12.7"
  }
 },
 "nbformat": 4,
 "nbformat_minor": 2
}
